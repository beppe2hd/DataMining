{
 "cells": [
  {
   "cell_type": "markdown",
   "metadata": {},
   "source": [
    "# Cluster Analysis\n",
    "\n",
    "The following tutorial contains Python examples for solving classification problems. You should refer to Chapters 7 and 8 of the \"Introduction to Data Mining\" book to understand some of the concepts introduced in this tutorial. The notebook can be downloaded from http://www.cse.msu.edu/~ptan/dmbook/tutorials/tutorial8/tutorial8.ipynb.\n",
    "\n",
    "Cluster analysis seeks to partition the input data into groups of closely related instances so that instances that belong to the same cluster are more similar to each other than to instances that belong to other clusters. In this tutorial, we will provide examples of using different clustering techniques provided by the scikit-learn library package. \n",
    "\n",
    "Read the step-by-step instructions below carefully. To execute the code, click on the corresponding cell and press the SHIFT-ENTER keys simultaneously.\n"
   ]
  },
  {
   "cell_type": "markdown",
   "metadata": {},
   "source": [
    "## K-means Clustering\n",
    "\n",
    "The k-means clustering algorithm represents each cluster by its corresponding cluster centroid. The algorithm would partition the input data into *k* disjoint clusters by iteratively applying the following two steps:\n",
    "1. Form *k* clusters by assigning each instance to its nearest centroid.\n",
    "2. Recompute the centroid of each cluster.\n",
    "\n",
    "In this section, we perform k-means clustering on a toy example of movie ratings dataset. We first create the dataset as follows."
   ]
  },
  {
   "cell_type": "code",
   "execution_count": null,
   "metadata": {},
   "outputs": [],
   "source": [
    "import pandas as pd\n",
    "\n",
    "ratings = [['john',5,5,2,1],['mary',4,5,3,2],['bob',4,4,4,3],['lisa',2,2,4,5],['lee',1,2,3,4],['harry',2,1,5,5]]\n",
    "columns = ['user','Jaws','Star Wars','Exorcist','Omen']\n",
    "movies = pd.DataFrame(ratings,columns=columns)\n",
    "movies"
   ]
  },
  {
   "cell_type": "markdown",
   "metadata": {},
   "source": [
    "In this example dataset, the first 3 users liked action movies (Jaws and Star Wars) while the last 3 users enjoyed horror movies (Exorcist and Omen). Our goal is to apply k-means clustering on the users to identify groups of users with similar movie preferences.\n",
    "\n",
    "The example below shows how to apply k-means clustering (with k=2) on the movie ratings data. We must remove the \"user\" column first before applying the clustering algorithm. The cluster assignment for each user is displayed as a dataframe object."
   ]
  },
  {
   "cell_type": "code",
   "execution_count": null,
   "metadata": {},
   "outputs": [],
   "source": [
    "from sklearn import cluster\n",
    "\n",
    "data = movies.drop('user',axis=1)\n",
    "k_means = cluster.KMeans(n_clusters=2, max_iter=50, random_state=1)\n",
    "k_means.fit(data) \n",
    "labels = k_means.labels_\n",
    "pd.DataFrame(labels, index=movies.user, columns=['Cluster ID'])"
   ]
  },
  {
   "cell_type": "markdown",
   "metadata": {},
   "source": [
    "The k-means clustering algorithm assigns the first three users to one cluster and the last three users to the second cluster. The results are consistent with our expectation. We can also display the centroid for each of the two clusters."
   ]
  },
  {
   "cell_type": "code",
   "execution_count": null,
   "metadata": {},
   "outputs": [],
   "source": [
    "centroids = k_means.cluster_centers_\n",
    "pd.DataFrame(centroids,columns=data.columns)"
   ]
  },
  {
   "cell_type": "markdown",
   "metadata": {},
   "source": [
    "Observe that cluster 0 has higher ratings for the horror movies whereas cluster 1 has higher ratings for action movies. The cluster centroids can be applied to other users to determine their cluster assignments. "
   ]
  },
  {
   "cell_type": "code",
   "execution_count": null,
   "metadata": {},
   "outputs": [],
   "source": [
    "import numpy as np\n",
    "\n",
    "testData = np.array([[4,5,1,2],[3,2,4,4],[2,3,4,1],[3,2,3,3],[5,4,1,4]])\n",
    "labels = k_means.predict(testData)\n",
    "labels = labels.reshape(-1,1)\n",
    "usernames = np.array(['paul','kim','liz','tom','bill']).reshape(-1,1)\n",
    "cols = movies.columns.tolist()\n",
    "cols.append('Cluster ID')\n",
    "newusers = pd.DataFrame(np.concatenate((usernames, testData, labels), axis=1),columns=cols)\n",
    "newusers"
   ]
  },
  {
   "cell_type": "markdown",
   "metadata": {},
   "source": [
    "To determine the number of clusters in the data, we can apply k-means with varying number of clusters from 1 to 6 and compute their corresponding sum-of-squared errors (SSE) as shown in the example below. The \"elbow\" in the plot of SSE versus number of clusters can be used to estimate the number of clusters."
   ]
  },
  {
   "cell_type": "code",
   "execution_count": null,
   "metadata": {},
   "outputs": [],
   "source": [
    "import matplotlib.pyplot as plt\n",
    "%matplotlib inline\n",
    "\n",
    "numClusters = [1,2,3,4,5,6]\n",
    "SSE = []\n",
    "for k in numClusters:\n",
    "    k_means = cluster.KMeans(n_clusters=k)\n",
    "    k_means.fit(data)\n",
    "    SSE.append(k_means.inertia_)\n",
    "\n",
    "plt.plot(numClusters, SSE)\n",
    "plt.xlabel('Number of Clusters')\n",
    "plt.ylabel('SSE')"
   ]
  },
  {
   "cell_type": "markdown",
   "metadata": {},
   "source": [
    "## Hierarchical Clustering\n",
    "\n",
    "This section demonstrates examples of applying hierarchical clustering to the vertebrate dataset used in Module 6 (Classification). Specifically, we illustrate the results of using 3 hierarchical clustering algorithms provided by the Python scipy library: (1) single link (MIN), (2) complete link (MAX), and (3) group average. Other hierarchical clustering algorithms provided by the library include centroid-based and Ward's method."
   ]
  },
  {
   "cell_type": "code",
   "execution_count": null,
   "metadata": {},
   "outputs": [],
   "source": [
    "import pandas as pd\n",
    "\n",
    "data = pd.read_csv('../Data/vertebrate.csv',header='infer')\n",
    "data"
   ]
  },
  {
   "cell_type": "markdown",
   "metadata": {},
   "source": [
    "### 8.2.1 Single Link (MIN)"
   ]
  },
  {
   "cell_type": "code",
   "execution_count": null,
   "metadata": {},
   "outputs": [],
   "source": [
    "from scipy.cluster import hierarchy\n",
    "import matplotlib.pyplot as plt\n",
    "%matplotlib inline\n",
    "\n",
    "names = data['Name']\n",
    "Y = data['Class']\n",
    "X = data.drop(['Name','Class'],axis=1)\n",
    "Z = hierarchy.linkage(X.to_numpy(), 'single')\n",
    "dn = hierarchy.dendrogram(Z,labels=names.tolist(),orientation='right')"
   ]
  },
  {
   "cell_type": "markdown",
   "metadata": {},
   "source": [
    "### 8.2.2 Complete Link (MAX)"
   ]
  },
  {
   "cell_type": "code",
   "execution_count": null,
   "metadata": {},
   "outputs": [],
   "source": [
    "Z = hierarchy.linkage(X.to_numpy(), 'complete')\n",
    "dn = hierarchy.dendrogram(Z,labels=names.tolist(),orientation='right')"
   ]
  },
  {
   "cell_type": "markdown",
   "metadata": {},
   "source": [
    "### 8.3.3 Group Average"
   ]
  },
  {
   "cell_type": "code",
   "execution_count": null,
   "metadata": {},
   "outputs": [],
   "source": [
    "Z = hierarchy.linkage(X.to_numpy(), 'average')\n",
    "dn = hierarchy.dendrogram(Z,labels=names.tolist(),orientation='right')"
   ]
  },
  {
   "cell_type": "code",
   "execution_count": null,
   "metadata": {},
   "outputs": [],
   "source": []
  },
  {
   "cell_type": "markdown",
   "metadata": {},
   "source": [
    "## 8.3 Density-Based Clustering\n",
    "\n",
    "Density-based clustering identifies the individual clusters as high-density regions that are separated by regions of low density. DBScan is one of the most popular density based clustering algorithms. In DBScan, data points are classified into 3 types---core points, border points, and noise points---based on the density of their local neighborhood. The local neighborhood density is defined according to 2 parameters:  radius of neighborhood size (eps) and minimum number of points in the neighborhood (min_samples). \n",
    "\n",
    "For this approach, we will use a noisy, 2-dimensional dataset originally created by Karypis et al. [1] for evaluating their proposed CHAMELEON algorithm. The example code shown below will load and plot the distribution of the data."
   ]
  },
  {
   "cell_type": "code",
   "execution_count": null,
   "metadata": {},
   "outputs": [],
   "source": [
    "import pandas as pd\n",
    "\n",
    "data = pd.read_csv('../Data/chameleon.csv', delimiter=' ', names=['x','y'])\n",
    "print(data)\n",
    "data.plot.scatter(x='x',y='y')"
   ]
  },
  {
   "cell_type": "markdown",
   "metadata": {},
   "source": [
    "We apply the DBScan clustering algorithm on the data by setting the neighborhood radius (eps) to 15.5 and minimum number of points (min_samples) to be 5. The clusters are assigned to IDs between 0 to 8 while the noise points are assigned to a cluster ID equals to -1."
   ]
  },
  {
   "cell_type": "code",
   "execution_count": null,
   "metadata": {},
   "outputs": [],
   "source": [
    "from sklearn.cluster import DBSCAN\n",
    "\n",
    "db = DBSCAN(eps=15.5, min_samples=5).fit(data)\n",
    "core_samples_mask = np.zeros_like(db.labels_, dtype=bool)\n",
    "core_samples_mask[db.core_sample_indices_] = True\n",
    "labels = pd.DataFrame(db.labels_,columns=['Cluster ID'])\n",
    "result = pd.concat((data,labels), axis=1)\n",
    "result.plot.scatter(x='x',y='y',c='Cluster ID', colormap='jet')"
   ]
  },
  {
   "cell_type": "markdown",
   "metadata": {},
   "source": [
    "Let's compare these algorithmn on son toy datasets"
   ]
  },
  {
   "cell_type": "code",
   "execution_count": null,
   "metadata": {},
   "outputs": [],
   "source": [
    "import time\n",
    "import warnings\n",
    "from itertools import cycle, islice\n",
    "\n",
    "import matplotlib.pyplot as plt\n",
    "import numpy as np\n",
    "\n",
    "from sklearn import cluster, datasets\n",
    "from sklearn.preprocessing import StandardScaler"
   ]
  },
  {
   "cell_type": "code",
   "execution_count": null,
   "metadata": {},
   "outputs": [],
   "source": [
    "n_samples = 1500\n",
    "noisy_circles = datasets.make_circles(\n",
    "    n_samples=n_samples, factor=0.5, noise=0.05, random_state=170\n",
    ")\n",
    "noisy_moons = datasets.make_moons(n_samples=n_samples, noise=0.05, random_state=170)\n",
    "blobs = datasets.make_blobs(n_samples=n_samples, random_state=170)\n",
    "rng = np.random.RandomState(170)\n",
    "no_structure = rng.rand(n_samples, 2), None\n",
    "\n",
    "# Anisotropicly distributed data\n",
    "X, y = datasets.make_blobs(n_samples=n_samples, random_state=170)\n",
    "transformation = [[0.6, -0.6], [-0.4, 0.8]]\n",
    "X_aniso = np.dot(X, transformation)\n",
    "aniso = (X_aniso, y)\n",
    "\n",
    "# blobs with varied variances\n",
    "varied = datasets.make_blobs(\n",
    "    n_samples=n_samples, cluster_std=[1.0, 2.5, 0.5], random_state=170\n",
    ")"
   ]
  },
  {
   "cell_type": "code",
   "execution_count": null,
   "metadata": {},
   "outputs": [],
   "source": [
    "X, y = noisy_circles\n",
    "plt.scatter(X[:, 0], X[:, 1])"
   ]
  },
  {
   "cell_type": "code",
   "execution_count": null,
   "metadata": {},
   "outputs": [],
   "source": [
    "# Set up cluster parameters\n",
    "plt.figure(figsize=(9 * 1.3 + 2, 14.5))\n",
    "plt.subplots_adjust(\n",
    "    left=0.02, right=0.98, bottom=0.001, top=0.96, wspace=0.05, hspace=0.01\n",
    ")\n",
    "\n",
    "plot_num = 1\n",
    "\n",
    "default_base = {\"n_neighbors\": 10, \"n_clusters\": 3}\n",
    "\n",
    "datasets = [\n",
    "    (noisy_circles, {\"n_clusters\": 2}),\n",
    "    (noisy_moons, {\"n_clusters\": 2}),\n",
    "    (varied, {\"n_neighbors\": 2}),\n",
    "    (aniso, {\"n_neighbors\": 2}),\n",
    "    (blobs, {}),\n",
    "    (no_structure, {}),\n",
    "]\n",
    "\n",
    "for i_dataset, (dataset, algo_params) in enumerate(datasets):\n",
    "    # update parameters with dataset-specific values\n",
    "    params = default_base.copy()\n",
    "    params.update(algo_params)\n",
    "\n",
    "    X, y = dataset\n",
    "\n",
    "    # normalize dataset for easier parameter selection\n",
    "    X = StandardScaler().fit_transform(X)\n",
    "\n",
    "    # ============\n",
    "    # Create cluster objects\n",
    "    # ============\n",
    "    ward = cluster.AgglomerativeClustering(\n",
    "        n_clusters=params[\"n_clusters\"], linkage=\"ward\"\n",
    "    )\n",
    "    complete = cluster.AgglomerativeClustering(\n",
    "        n_clusters=params[\"n_clusters\"], linkage=\"complete\"\n",
    "    )\n",
    "    average = cluster.AgglomerativeClustering(\n",
    "        n_clusters=params[\"n_clusters\"], linkage=\"average\"\n",
    "    )\n",
    "    single = cluster.AgglomerativeClustering(\n",
    "        n_clusters=params[\"n_clusters\"], linkage=\"single\"\n",
    "    )\n",
    "\n",
    "    clustering_algorithms = (\n",
    "        (\"Single Linkage\", single),\n",
    "        (\"Average Linkage\", average),\n",
    "        (\"Complete Linkage\", complete),\n",
    "        (\"Ward Linkage\", ward),\n",
    "    )\n",
    "\n",
    "    for name, algorithm in clustering_algorithms:\n",
    "        t0 = time.time()\n",
    "\n",
    "        # catch warnings related to kneighbors_graph\n",
    "        with warnings.catch_warnings():\n",
    "            warnings.filterwarnings(\n",
    "                \"ignore\",\n",
    "                message=\"the number of connected components of the \"\n",
    "                + \"connectivity matrix is [0-9]{1,2}\"\n",
    "                + \" > 1. Completing it to avoid stopping the tree early.\",\n",
    "                category=UserWarning,\n",
    "            )\n",
    "            algorithm.fit(X)\n",
    "\n",
    "        t1 = time.time()\n",
    "        if hasattr(algorithm, \"labels_\"):\n",
    "            y_pred = algorithm.labels_.astype(int)\n",
    "        else:\n",
    "            y_pred = algorithm.predict(X)\n",
    "\n",
    "        plt.subplot(len(datasets), len(clustering_algorithms), plot_num)\n",
    "        if i_dataset == 0:\n",
    "            plt.title(name, size=18)\n",
    "\n",
    "        colors = np.array(\n",
    "            list(\n",
    "                islice(\n",
    "                    cycle(\n",
    "                        [\n",
    "                            \"#377eb8\",\n",
    "                            \"#ff7f00\",\n",
    "                            \"#4daf4a\",\n",
    "                            \"#f781bf\",\n",
    "                            \"#a65628\",\n",
    "                            \"#984ea3\",\n",
    "                            \"#999999\",\n",
    "                            \"#e41a1c\",\n",
    "                            \"#dede00\",\n",
    "                        ]\n",
    "                    ),\n",
    "                    int(max(y_pred) + 1),\n",
    "                )\n",
    "            )\n",
    "        )\n",
    "        plt.scatter(X[:, 0], X[:, 1], s=10, color=colors[y_pred])\n",
    "\n",
    "        plt.xlim(-2.5, 2.5)\n",
    "        plt.ylim(-2.5, 2.5)\n",
    "        plt.xticks(())\n",
    "        plt.yticks(())\n",
    "        plt.text(\n",
    "            0.99,\n",
    "            0.01,\n",
    "            (\"%.2fs\" % (t1 - t0)).lstrip(\"0\"),\n",
    "            transform=plt.gca().transAxes,\n",
    "            size=15,\n",
    "            horizontalalignment=\"right\",\n",
    "        )\n",
    "        plot_num += 1\n",
    "\n",
    "plt.show()"
   ]
  },
  {
   "cell_type": "markdown",
   "metadata": {},
   "source": [
    "## Validation Using Sorted Similarity Matrix.\n",
    "\n",
    "from https://medium.com/@devamsheth20/statistical-test-for-k-means-cluster-validation-in-python-using-sorted-similarity-matrix-1e644ab029c0"
   ]
  },
  {
   "cell_type": "code",
   "execution_count": 88,
   "metadata": {},
   "outputs": [
    {
     "data": {
      "text/html": [
       "<div>\n",
       "<style scoped>\n",
       "    .dataframe tbody tr th:only-of-type {\n",
       "        vertical-align: middle;\n",
       "    }\n",
       "\n",
       "    .dataframe tbody tr th {\n",
       "        vertical-align: top;\n",
       "    }\n",
       "\n",
       "    .dataframe thead th {\n",
       "        text-align: right;\n",
       "    }\n",
       "</style>\n",
       "<table border=\"1\" class=\"dataframe\">\n",
       "  <thead>\n",
       "    <tr style=\"text-align: right;\">\n",
       "      <th></th>\n",
       "      <th>0</th>\n",
       "      <th>1</th>\n",
       "      <th>2</th>\n",
       "      <th>3</th>\n",
       "      <th>4</th>\n",
       "      <th>5</th>\n",
       "      <th>6</th>\n",
       "      <th>7</th>\n",
       "      <th>8</th>\n",
       "      <th>9</th>\n",
       "      <th>...</th>\n",
       "      <th>22</th>\n",
       "      <th>23</th>\n",
       "      <th>24</th>\n",
       "      <th>25</th>\n",
       "      <th>26</th>\n",
       "      <th>27</th>\n",
       "      <th>28</th>\n",
       "      <th>29</th>\n",
       "      <th>30</th>\n",
       "      <th>31</th>\n",
       "    </tr>\n",
       "  </thead>\n",
       "  <tbody>\n",
       "    <tr>\n",
       "      <th>0</th>\n",
       "      <td>-8.546479</td>\n",
       "      <td>-3.098906</td>\n",
       "      <td>-10.766467</td>\n",
       "      <td>-9.544370</td>\n",
       "      <td>11.580211</td>\n",
       "      <td>2.527385</td>\n",
       "      <td>-7.541890</td>\n",
       "      <td>2.382157</td>\n",
       "      <td>-0.701969</td>\n",
       "      <td>7.981505</td>\n",
       "      <td>...</td>\n",
       "      <td>-8.948258</td>\n",
       "      <td>-16.062739</td>\n",
       "      <td>-3.382831</td>\n",
       "      <td>3.898642</td>\n",
       "      <td>-7.515572</td>\n",
       "      <td>-4.729179</td>\n",
       "      <td>8.105720</td>\n",
       "      <td>-8.494811</td>\n",
       "      <td>11.012694</td>\n",
       "      <td>-5.770526</td>\n",
       "    </tr>\n",
       "    <tr>\n",
       "      <th>1</th>\n",
       "      <td>1.472420</td>\n",
       "      <td>14.329548</td>\n",
       "      <td>-1.386993</td>\n",
       "      <td>-0.340373</td>\n",
       "      <td>10.464385</td>\n",
       "      <td>-7.883887</td>\n",
       "      <td>-11.668266</td>\n",
       "      <td>5.765549</td>\n",
       "      <td>13.572861</td>\n",
       "      <td>-2.065186</td>\n",
       "      <td>...</td>\n",
       "      <td>0.379692</td>\n",
       "      <td>-7.964724</td>\n",
       "      <td>4.768435</td>\n",
       "      <td>1.002610</td>\n",
       "      <td>11.437404</td>\n",
       "      <td>-1.280794</td>\n",
       "      <td>-7.001593</td>\n",
       "      <td>1.337840</td>\n",
       "      <td>0.138980</td>\n",
       "      <td>-5.134064</td>\n",
       "    </tr>\n",
       "    <tr>\n",
       "      <th>2</th>\n",
       "      <td>5.118916</td>\n",
       "      <td>9.939231</td>\n",
       "      <td>-5.338687</td>\n",
       "      <td>-1.445761</td>\n",
       "      <td>8.098372</td>\n",
       "      <td>-5.761612</td>\n",
       "      <td>-12.977400</td>\n",
       "      <td>-0.516004</td>\n",
       "      <td>9.223066</td>\n",
       "      <td>-3.431234</td>\n",
       "      <td>...</td>\n",
       "      <td>-5.202991</td>\n",
       "      <td>-8.561189</td>\n",
       "      <td>6.656612</td>\n",
       "      <td>8.321154</td>\n",
       "      <td>3.957509</td>\n",
       "      <td>-5.170569</td>\n",
       "      <td>-5.462176</td>\n",
       "      <td>1.378981</td>\n",
       "      <td>0.207315</td>\n",
       "      <td>-11.161425</td>\n",
       "    </tr>\n",
       "    <tr>\n",
       "      <th>3</th>\n",
       "      <td>-5.105912</td>\n",
       "      <td>2.268417</td>\n",
       "      <td>-7.567826</td>\n",
       "      <td>-6.591087</td>\n",
       "      <td>7.964442</td>\n",
       "      <td>-0.391878</td>\n",
       "      <td>-4.948580</td>\n",
       "      <td>3.831515</td>\n",
       "      <td>-2.227220</td>\n",
       "      <td>2.412576</td>\n",
       "      <td>...</td>\n",
       "      <td>-10.020382</td>\n",
       "      <td>-7.769177</td>\n",
       "      <td>5.070062</td>\n",
       "      <td>8.793787</td>\n",
       "      <td>-4.311541</td>\n",
       "      <td>-1.619541</td>\n",
       "      <td>13.506044</td>\n",
       "      <td>-6.870152</td>\n",
       "      <td>5.998028</td>\n",
       "      <td>-2.168215</td>\n",
       "    </tr>\n",
       "    <tr>\n",
       "      <th>4</th>\n",
       "      <td>-5.813215</td>\n",
       "      <td>6.817753</td>\n",
       "      <td>-10.760419</td>\n",
       "      <td>-5.819073</td>\n",
       "      <td>5.371229</td>\n",
       "      <td>-3.583895</td>\n",
       "      <td>-5.904666</td>\n",
       "      <td>-1.621887</td>\n",
       "      <td>1.637194</td>\n",
       "      <td>7.886975</td>\n",
       "      <td>...</td>\n",
       "      <td>-5.606791</td>\n",
       "      <td>-10.416522</td>\n",
       "      <td>-1.713511</td>\n",
       "      <td>11.711905</td>\n",
       "      <td>-11.640990</td>\n",
       "      <td>-9.297318</td>\n",
       "      <td>9.303570</td>\n",
       "      <td>-7.530955</td>\n",
       "      <td>10.062977</td>\n",
       "      <td>-8.680930</td>\n",
       "    </tr>\n",
       "  </tbody>\n",
       "</table>\n",
       "<p>5 rows × 32 columns</p>\n",
       "</div>"
      ],
      "text/plain": [
       "         0          1          2         3          4         5          6   \\\n",
       "0 -8.546479  -3.098906 -10.766467 -9.544370  11.580211  2.527385  -7.541890   \n",
       "1  1.472420  14.329548  -1.386993 -0.340373  10.464385 -7.883887 -11.668266   \n",
       "2  5.118916   9.939231  -5.338687 -1.445761   8.098372 -5.761612 -12.977400   \n",
       "3 -5.105912   2.268417  -7.567826 -6.591087   7.964442 -0.391878  -4.948580   \n",
       "4 -5.813215   6.817753 -10.760419 -5.819073   5.371229 -3.583895  -5.904666   \n",
       "\n",
       "         7          8         9   ...         22         23        24  \\\n",
       "0  2.382157  -0.701969  7.981505  ...  -8.948258 -16.062739 -3.382831   \n",
       "1  5.765549  13.572861 -2.065186  ...   0.379692  -7.964724  4.768435   \n",
       "2 -0.516004   9.223066 -3.431234  ...  -5.202991  -8.561189  6.656612   \n",
       "3  3.831515  -2.227220  2.412576  ... -10.020382  -7.769177  5.070062   \n",
       "4 -1.621887   1.637194  7.886975  ...  -5.606791 -10.416522 -1.713511   \n",
       "\n",
       "          25         26        27         28        29         30         31  \n",
       "0   3.898642  -7.515572 -4.729179   8.105720 -8.494811  11.012694  -5.770526  \n",
       "1   1.002610  11.437404 -1.280794  -7.001593  1.337840   0.138980  -5.134064  \n",
       "2   8.321154   3.957509 -5.170569  -5.462176  1.378981   0.207315 -11.161425  \n",
       "3   8.793787  -4.311541 -1.619541  13.506044 -6.870152   5.998028  -2.168215  \n",
       "4  11.711905 -11.640990 -9.297318   9.303570 -7.530955  10.062977  -8.680930  \n",
       "\n",
       "[5 rows x 32 columns]"
      ]
     },
     "execution_count": 88,
     "metadata": {},
     "output_type": "execute_result"
    }
   ],
   "source": [
    "import pandas as pd\n",
    "import numpy as np\n",
    "np.random.seed(0)\n",
    "data = pd.read_csv('https://docs.google.com/uc?export=download&id=1CjR6Q6nMN_2pTJJietr07mRjEYYSWR7U', header=None)\n",
    "data.head()"
   ]
  },
  {
   "cell_type": "code",
   "execution_count": 89,
   "metadata": {},
   "outputs": [
    {
     "data": {
      "text/plain": [
       "(100, 32)"
      ]
     },
     "execution_count": 89,
     "metadata": {},
     "output_type": "execute_result"
    }
   ],
   "source": [
    "data.shape"
   ]
  },
  {
   "cell_type": "markdown",
   "metadata": {},
   "source": [
    "Proceed with normalization step"
   ]
  },
  {
   "cell_type": "code",
   "execution_count": 90,
   "metadata": {},
   "outputs": [],
   "source": [
    "from sklearn.preprocessing import StandardScaler\n",
    "scaler = StandardScaler()\n",
    "scaleddf = scaler.fit_transform(data)"
   ]
  },
  {
   "cell_type": "code",
   "execution_count": 91,
   "metadata": {},
   "outputs": [
    {
     "data": {
      "text/plain": [
       "array([[-1.32397488, -2.15331389, -1.30617884, ..., -1.43572959,\n",
       "         1.282697  , -0.27195137],\n",
       "       [ 0.6741796 ,  1.78788701,  0.16306646, ...,  0.7831528 ,\n",
       "        -0.7911425 , -0.17376783],\n",
       "       [ 1.40143149,  0.79507846, -0.4559457 , ...,  0.79243695,\n",
       "        -0.77810958, -1.10357568],\n",
       "       ...,\n",
       "       [ 0.19999439, -0.85384167,  1.79419982, ...,  0.71456975,\n",
       "         0.49903524,  0.93819064],\n",
       "       [-0.21339526,  0.14142584,  0.49250256, ..., -0.73859053,\n",
       "        -0.22033078,  1.3348914 ],\n",
       "       [ 1.36324674,  0.71333435,  0.5247944 , ...,  0.59116094,\n",
       "        -1.52592029, -0.3540244 ]])"
      ]
     },
     "execution_count": 91,
     "metadata": {},
     "output_type": "execute_result"
    }
   ],
   "source": [
    "scaleddf"
   ]
  },
  {
   "cell_type": "markdown",
   "metadata": {},
   "source": [
    "PCA helps in identifying patterns, reducing noise, and gaining insights from complex datasets. We’ll use Python’s scikit-learn library to perform PCA and demonstrate how it can effectively reduce the dimensions of data for visualization purposes."
   ]
  },
  {
   "cell_type": "code",
   "execution_count": 92,
   "metadata": {},
   "outputs": [
    {
     "data": {
      "text/plain": [
       "<matplotlib.collections.PathCollection at 0x15a0313d0>"
      ]
     },
     "execution_count": 92,
     "metadata": {},
     "output_type": "execute_result"
    },
    {
     "data": {
      "image/png": "[encoded data removed]",
      "text/plain": [
       "<Figure size 640x480 with 1 Axes>"
      ]
     },
     "metadata": {},
     "output_type": "display_data"
    }
   ],
   "source": [
    "from sklearn.decomposition import PCA\n",
    "import matplotlib.pyplot as plt\n",
    "df_pca = PCA(n_components=2).fit_transform(scaleddf)\n",
    "plt.scatter(df_pca[:,0], df_pca[:,1],alpha=1)"
   ]
  },
  {
   "cell_type": "markdown",
   "metadata": {},
   "source": [
    "Clustering K-means"
   ]
  },
  {
   "cell_type": "code",
   "execution_count": 93,
   "metadata": {},
   "outputs": [
    {
     "name": "stderr",
     "output_type": "stream",
     "text": [
      "/Users/beppe2hd/opt/anaconda3/envs/DataMining/lib/python3.8/site-packages/sklearn/cluster/_kmeans.py:1416: FutureWarning: The default value of `n_init` will change from 10 to 'auto' in 1.4. Set the value of `n_init` explicitly to suppress the warning\n",
      "  super()._check_params_vs_input(X, default_n_init=10)\n"
     ]
    },
    {
     "data": {
      "text/plain": [
       "<matplotlib.collections.PathCollection at 0x15a09d2e0>"
      ]
     },
     "execution_count": 93,
     "metadata": {},
     "output_type": "execute_result"
    },
    {
     "data": {
      "image/png": "[encoded data removed]",
      "text/plain": [
       "<Figure size 640x480 with 1 Axes>"
      ]
     },
     "metadata": {},
     "output_type": "display_data"
    }
   ],
   "source": [
    "from sklearn.cluster import KMeans\n",
    "clf = KMeans(n_clusters = 3)\n",
    "clf.fit(scaleddf)\n",
    "labels = clf.labels_\n",
    "## Plotting the clusters\n",
    "import matplotlib.pyplot as plt\n",
    "plt.scatter(df_pca[:,0], df_pca[:,1], alpha=0.8, c=labels, cmap='jet')"
   ]
  },
  {
   "cell_type": "markdown",
   "metadata": {},
   "source": [
    "Let's comute SSE (Sum of Squared errors)"
   ]
  },
  {
   "cell_type": "code",
   "execution_count": 94,
   "metadata": {},
   "outputs": [
    {
     "name": "stdout",
     "output_type": "stream",
     "text": [
      "SSE of Given data = 1322.2687058271963\n"
     ]
    }
   ],
   "source": [
    "sse = clf.inertia_\n",
    "print('SSE of Given data =' , sse)"
   ]
  },
  {
   "cell_type": "markdown",
   "metadata": {},
   "source": [
    "#### Silhouette score\n",
    "Assessing the coherence and separation of clusters by computing the average silhouette coefficient for each data point, which measures how similar it is to its own cluster compared to neighboring clusters."
   ]
  },
  {
   "cell_type": "code",
   "execution_count": 95,
   "metadata": {},
   "outputs": [
    {
     "name": "stdout",
     "output_type": "stream",
     "text": [
      "Silhouette score of Given data's clsuter result = 0.4060288765382684\n"
     ]
    }
   ],
   "source": [
    "from sklearn.metrics import silhouette_score\n",
    "\n",
    "kmean_ss = silhouette_score(scaleddf,labels)\n",
    "\n",
    "print('Silhouette score of Given data\\'s clsuter result =',kmean_ss)"
   ]
  },
  {
   "cell_type": "markdown",
   "metadata": {},
   "source": [
    "silhouette scor for each sample"
   ]
  },
  {
   "cell_type": "code",
   "execution_count": 96,
   "metadata": {},
   "outputs": [],
   "source": [
    "from sklearn.metrics import silhouette_samples\n",
    "\n",
    "kmean_ss_samples = silhouette_samples(scaleddf,labels)"
   ]
  },
  {
   "cell_type": "code",
   "execution_count": 100,
   "metadata": {},
   "outputs": [
    {
     "data": {
      "text/plain": [
       "0.4060288765382684"
      ]
     },
     "execution_count": 100,
     "metadata": {},
     "output_type": "execute_result"
    }
   ],
   "source": [
    "kmean_ss_samples.mean()"
   ]
  },
  {
   "cell_type": "code",
   "execution_count": 102,
   "metadata": {},
   "outputs": [
    {
     "data": {
      "text/plain": [
       "{0, 1, 2}"
      ]
     },
     "execution_count": 102,
     "metadata": {},
     "output_type": "execute_result"
    }
   ],
   "source": [
    "set(labels)"
   ]
  },
  {
   "cell_type": "code",
   "execution_count": 104,
   "metadata": {},
   "outputs": [
    {
     "data": {
      "text/plain": [
       "array([0, 2, 2, 0, 0, 2, 2, 1, 0, 0, 2, 2, 1, 2, 0, 1, 0, 0, 2, 0, 2, 2,\n",
       "       0, 2, 2, 1, 2, 2, 1, 0, 0, 0, 0, 0, 2, 0, 1, 0, 2, 1, 1, 1, 2, 0,\n",
       "       2, 2, 2, 1, 1, 1, 2, 1, 1, 0, 0, 1, 2, 1, 1, 2, 2, 2, 1, 1, 1, 0,\n",
       "       0, 0, 0, 1, 0, 0, 1, 2, 1, 2, 1, 0, 1, 1, 2, 1, 2, 0, 2, 0, 2, 1,\n",
       "       2, 1, 0, 1, 0, 1, 0, 0, 1, 1, 1, 2], dtype=int32)"
      ]
     },
     "execution_count": 104,
     "metadata": {},
     "output_type": "execute_result"
    }
   ],
   "source": [
    "labels"
   ]
  },
  {
   "cell_type": "code",
   "execution_count": 112,
   "metadata": {},
   "outputs": [],
   "source": [
    "s_0 = [s for s,l in zip(kmean_ss_samples, labels) if l==0 ]\n",
    "s_1 = [s for s,l in zip(kmean_ss_samples, labels) if l==1 ]\n",
    "s_2 = [s for s,l in zip(kmean_ss_samples, labels) if l==2 ]"
   ]
  },
  {
   "cell_type": "code",
   "execution_count": 113,
   "metadata": {},
   "outputs": [
    {
     "name": "stdout",
     "output_type": "stream",
     "text": [
      "Siluette valeu for cluster 0 is: 0.4348848135042904\n",
      "Siluette valeu for cluster 1 is: 0.40477234568495063\n",
      "Siluette valeu for cluster 2 is: 0.37846754711808916\n"
     ]
    }
   ],
   "source": [
    "np.mean(s_0)\n",
    "print(f\"Siluette valeu for cluster 0 is: {np.mean(s_0)}\")\n",
    "print(f\"Siluette valeu for cluster 1 is: {np.mean(s_1)}\")\n",
    "print(f\"Siluette valeu for cluster 2 is: {np.mean(s_2)}\")"
   ]
  },
  {
   "cell_type": "markdown",
   "metadata": {},
   "source": [
    "Similarity matrix\n",
    "Similarity matrix also called a distance/ proximity matrix is a matrix with a pairwise distance of data points and a Sorted Similarity matrix will be sorted by cluster labels."
   ]
  },
  {
   "cell_type": "markdown",
   "metadata": {},
   "source": [
    "Calculating and plotting the sorted Similarity Matrix"
   ]
  },
  {
   "cell_type": "code",
   "execution_count": null,
   "metadata": {},
   "outputs": [],
   "source": [
    "import numpy as np\n",
    "from sklearn.metrics import pairwise_distances\n",
    "\n",
    "pairwisedist = pairwise_distances(scaleddf, metric='cosine')"
   ]
  },
  {
   "cell_type": "code",
   "execution_count": null,
   "metadata": {},
   "outputs": [],
   "source": [
    "pairwisedist.shape"
   ]
  },
  {
   "cell_type": "code",
   "execution_count": null,
   "metadata": {},
   "outputs": [],
   "source": [
    "\n",
    "# sorting by labels\n",
    "indes_of_sorted_labels = np.argsort(clf.labels_)\n",
    "\n",
    "sorted_pairwisedist = pairwisedist[indes_of_sorted_labels][:,indes_of_sorted_labels]\n",
    "labels = clf.labels_[indes_of_sorted_labels]\n",
    "\n",
    "# keeping the distance values between 0 and 1.\n",
    "sorted_pairwisedist = sorted_pairwisedist / np.max(sorted_pairwisedist)\n",
    "sorted_similarity = 1- sorted_pairwisedist / np.max(sorted_pairwisedist)\n",
    "\n",
    "#plotting \n",
    "import matplotlib.pyplot as plt\n",
    "plt.imshow(sorted_similarity,cmap ='jet')\n",
    "plt.colorbar()"
   ]
  },
  {
   "cell_type": "markdown",
   "metadata": {},
   "source": [
    "Code For ideal Matrix :"
   ]
  },
  {
   "cell_type": "code",
   "execution_count": null,
   "metadata": {},
   "outputs": [],
   "source": [
    "labels"
   ]
  },
  {
   "cell_type": "code",
   "execution_count": null,
   "metadata": {},
   "outputs": [],
   "source": [
    "incidence_matrix = np.zeros_like(sorted_similarity)\n",
    "for i in range(len(labels)):\n",
    "    for j in range(len(labels)):\n",
    "        incidence_matrix[i,j] = int(labels[i] == labels[j])\n",
    "\n",
    "plt.imshow(incidence_matrix,cmap ='jet')\n",
    "plt.colorbar()"
   ]
  },
  {
   "cell_type": "markdown",
   "metadata": {},
   "source": [
    "Correlation between Incidence and distance/Similarity Matrix :"
   ]
  },
  {
   "cell_type": "code",
   "execution_count": null,
   "metadata": {},
   "outputs": [],
   "source": [
    "sorted_pairwisedist.flatten().shape"
   ]
  },
  {
   "cell_type": "code",
   "execution_count": null,
   "metadata": {},
   "outputs": [],
   "source": [
    "corr_org = np.corrcoef(sorted_pairwisedist.flatten(), incidence_matrix.flatten())\n"
   ]
  },
  {
   "cell_type": "code",
   "execution_count": null,
   "metadata": {},
   "outputs": [],
   "source": [
    "print(f\"The correlation coefficient if {corr_org[0, 1]}\")"
   ]
  },
  {
   "cell_type": "markdown",
   "metadata": {},
   "source": [
    "Here there is a high correlation with the Ideal matrix suggesting that points that belong to the same cluster are close to each other. The negative value is due to the distance matrix, the distance matrix is opposite of similarity matrix i.e. if the distance is 0 the similarity is 1 and vice versa."
   ]
  },
  {
   "cell_type": "markdown",
   "metadata": {},
   "source": [
    "Work with random data"
   ]
  },
  {
   "cell_type": "code",
   "execution_count": null,
   "metadata": {},
   "outputs": [],
   "source": [
    "ranges = [(data[col].min(), data[col].max()) for col in data.columns] # specify different ranges for each column\n",
    "randomdata = np.random.default_rng().uniform(low=ranges[0][0], high=ranges[0][1], size=(100, 1))\n",
    "for r in ranges[1:]:\n",
    "    randomdata = np.concatenate((randomdata, np.random.randint(low=r[0], high=r[1], size=(100, 1))), axis=1)\n",
    "randomdf = pd.DataFrame(randomdata)"
   ]
  },
  {
   "cell_type": "code",
   "execution_count": null,
   "metadata": {},
   "outputs": [],
   "source": [
    "randomdf.head"
   ]
  },
  {
   "cell_type": "code",
   "execution_count": null,
   "metadata": {},
   "outputs": [],
   "source": [
    "from sklearn.preprocessing import StandardScaler\n",
    "scaler = StandardScaler()\n",
    "scaledranddf = scaler.fit_transform(randomdf)"
   ]
  },
  {
   "cell_type": "code",
   "execution_count": null,
   "metadata": {},
   "outputs": [],
   "source": [
    "from sklearn.decomposition import PCA\n",
    "import matplotlib.pyplot as plt\n",
    "df_pca = PCA(n_components=2).fit_transform(scaledranddf)\n",
    "plt.scatter(df_pca[:,0], df_pca[:,1],alpha=1)"
   ]
  },
  {
   "cell_type": "code",
   "execution_count": null,
   "metadata": {},
   "outputs": [],
   "source": [
    "from sklearn.cluster import KMeans\n",
    "clfr = KMeans(n_clusters = 3)\n",
    "\n",
    "clfr.fit(scaledranddf)\n",
    "\n",
    "print('SSE of random data\\'s cluster result  =' , clfr.inertia_)\n",
    "\n",
    "print('Silhouette score of Random data\\'s cluster result =',silhouette_score(scaledranddf,clfr.labels_))\n",
    "\n",
    "import matplotlib.pyplot as plt\n",
    "plt.scatter(df_pca[:,0], df_pca[:,1], alpha=0.8, c=clfr.labels_, cmap='jet')"
   ]
  },
  {
   "cell_type": "code",
   "execution_count": null,
   "metadata": {},
   "outputs": [],
   "source": [
    "print('SSE of random data\\'s cluster result =' , clfr.inertia_)"
   ]
  },
  {
   "cell_type": "code",
   "execution_count": null,
   "metadata": {},
   "outputs": [],
   "source": [
    "print('Silhouette score of Random data\\'s cluster result =',silhouette_score(scaledranddf,clfr.labels_))"
   ]
  },
  {
   "cell_type": "code",
   "execution_count": null,
   "metadata": {},
   "outputs": [],
   "source": [
    "# sorting by labels\n",
    "indes_of_sorted_labels = np.argsort(clfr.labels_)\n",
    "\n",
    "sorted_pairwisedist = pairwisedist[indes_of_sorted_labels][:,indes_of_sorted_labels]\n",
    "labels = clf.labels_[indes_of_sorted_labels]\n",
    "\n",
    "# keeping the distance values between 0 and 1.\n",
    "sorted_pairwisedist = sorted_pairwisedist / np.max(sorted_pairwisedist)\n",
    "sorted_similarity = 1- sorted_pairwisedist / np.max(sorted_pairwisedist)\n",
    "\n",
    "#plotting \n",
    "import matplotlib.pyplot as plt\n",
    "plt.imshow(sorted_similarity,cmap ='jet')\n",
    "plt.colorbar()"
   ]
  },
  {
   "cell_type": "code",
   "execution_count": null,
   "metadata": {},
   "outputs": [],
   "source": [
    "corr_org = np.corrcoef(sorted_pairwisedist.flatten(), incidence_matrix.flatten())"
   ]
  },
  {
   "cell_type": "code",
   "execution_count": null,
   "metadata": {},
   "outputs": [],
   "source": [
    "corr_org[0][1]"
   ]
  }
 ],
 "metadata": {
  "kernelspec": {
   "display_name": "DataMining",
   "language": "python",
   "name": "python3"
  },
  "language_info": {
   "codemirror_mode": {
    "name": "ipython",
    "version": 3
   },
   "file_extension": ".py",
   "mimetype": "text/x-python",
   "name": "python",
   "nbconvert_exporter": "python",
   "pygments_lexer": "ipython3",
   "version": "3.8.20"
  }
 },
 "nbformat": 4,
 "nbformat_minor": 2
}
