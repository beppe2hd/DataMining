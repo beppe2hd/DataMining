{
 "cells": [
  {
   "cell_type": "markdown",
   "metadata": {},
   "source": [
    "# Cluster Analysis\n",
    "\n",
    "The following tutorial contains Python examples for solving classification problems. You should refer to Chapters 7 and 8 of the \"Introduction to Data Mining\" book to understand some of the concepts introduced in this tutorial. The notebook can be downloaded from http://www.cse.msu.edu/~ptan/dmbook/tutorials/tutorial8/tutorial8.ipynb.\n",
    "\n",
    "Cluster analysis seeks to partition the input data into groups of closely related instances so that instances that belong to the same cluster are more similar to each other than to instances that belong to other clusters. In this tutorial, we will provide examples of using different clustering techniques provided by the scikit-learn library package. \n",
    "\n",
    "Read the step-by-step instructions below carefully. To execute the code, click on the corresponding cell and press the SHIFT-ENTER keys simultaneously.\n"
   ]
  },
  {
   "cell_type": "markdown",
   "metadata": {},
   "source": [
    "## K-means Clustering\n",
    "\n",
    "The k-means clustering algorithm represents each cluster by its corresponding cluster centroid. The algorithm would partition the input data into *k* disjoint clusters by iteratively applying the following two steps:\n",
    "1. Form *k* clusters by assigning each instance to its nearest centroid.\n",
    "2. Recompute the centroid of each cluster.\n",
    "\n",
    "In this section, we perform k-means clustering on a toy example of movie ratings dataset. We first create the dataset as follows."
   ]
  },
  {
   "cell_type": "code",
   "execution_count": null,
   "metadata": {},
   "outputs": [],
   "source": [
    "import pandas as pd\n",
    "\n",
    "ratings = [['john',5,5,2,1],['mary',4,5,3,2],['bob',4,4,4,3],['lisa',2,2,4,5],['lee',1,2,3,4],['harry',2,1,5,5]]\n",
    "columns = ['user','Jaws','Star Wars','Exorcist','Omen']\n",
    "movies = pd.DataFrame(ratings,columns=columns)\n",
    "movies"
   ]
  },
  {
   "cell_type": "markdown",
   "metadata": {},
   "source": [
    "In this example dataset, the first 3 users liked action movies (Jaws and Star Wars) while the last 3 users enjoyed horror movies (Exorcist and Omen). Our goal is to apply k-means clustering on the users to identify groups of users with similar movie preferences.\n",
    "\n",
    "The example below shows how to apply k-means clustering (with k=2) on the movie ratings data. We must remove the \"user\" column first before applying the clustering algorithm. The cluster assignment for each user is displayed as a dataframe object."
   ]
  },
  {
   "cell_type": "code",
   "execution_count": null,
   "metadata": {},
   "outputs": [],
   "source": [
    "from sklearn import cluster\n",
    "\n",
    "data = movies.drop('user',axis=1)\n",
    "k_means = cluster.KMeans(n_clusters=2, max_iter=50, random_state=1)\n",
    "k_means.fit(data) \n",
    "labels = k_means.labels_\n",
    "pd.DataFrame(labels, index=movies.user, columns=['Cluster ID'])"
   ]
  },
  {
   "cell_type": "markdown",
   "metadata": {},
   "source": [
    "The k-means clustering algorithm assigns the first three users to one cluster and the last three users to the second cluster. The results are consistent with our expectation. We can also display the centroid for each of the two clusters."
   ]
  },
  {
   "cell_type": "code",
   "execution_count": null,
   "metadata": {},
   "outputs": [],
   "source": [
    "centroids = k_means.cluster_centers_\n",
    "pd.DataFrame(centroids,columns=data.columns)"
   ]
  },
  {
   "cell_type": "markdown",
   "metadata": {},
   "source": [
    "Observe that cluster 0 has higher ratings for the horror movies whereas cluster 1 has higher ratings for action movies. The cluster centroids can be applied to other users to determine their cluster assignments. "
   ]
  },
  {
   "cell_type": "code",
   "execution_count": null,
   "metadata": {},
   "outputs": [],
   "source": [
    "import numpy as np\n",
    "\n",
    "testData = np.array([[4,5,1,2],[3,2,4,4],[2,3,4,1],[3,2,3,3],[5,4,1,4]])\n",
    "labels = k_means.predict(testData)\n",
    "labels = labels.reshape(-1,1)\n",
    "usernames = np.array(['paul','kim','liz','tom','bill']).reshape(-1,1)\n",
    "cols = movies.columns.tolist()\n",
    "cols.append('Cluster ID')\n",
    "newusers = pd.DataFrame(np.concatenate((usernames, testData, labels), axis=1),columns=cols)\n",
    "newusers"
   ]
  },
  {
   "cell_type": "markdown",
   "metadata": {},
   "source": [
    "To determine the number of clusters in the data, we can apply k-means with varying number of clusters from 1 to 6 and compute their corresponding sum-of-squared errors (SSE) as shown in the example below. The \"elbow\" in the plot of SSE versus number of clusters can be used to estimate the number of clusters."
   ]
  },
  {
   "cell_type": "code",
   "execution_count": null,
   "metadata": {},
   "outputs": [],
   "source": [
    "import matplotlib.pyplot as plt\n",
    "%matplotlib inline\n",
    "\n",
    "numClusters = [1,2,3,4,5,6]\n",
    "SSE = []\n",
    "for k in numClusters:\n",
    "    k_means = cluster.KMeans(n_clusters=k)\n",
    "    k_means.fit(data)\n",
    "    SSE.append(k_means.inertia_)\n",
    "\n",
    "plt.plot(numClusters, SSE)\n",
    "plt.xlabel('Number of Clusters')\n",
    "plt.ylabel('SSE')"
   ]
  },
  {
   "cell_type": "markdown",
   "metadata": {},
   "source": [
    "## Hierarchical Clustering\n",
    "\n",
    "This section demonstrates examples of applying hierarchical clustering to the vertebrate dataset used in Module 6 (Classification). Specifically, we illustrate the results of using 3 hierarchical clustering algorithms provided by the Python scipy library: (1) single link (MIN), (2) complete link (MAX), and (3) group average. Other hierarchical clustering algorithms provided by the library include centroid-based and Ward's method."
   ]
  },
  {
   "cell_type": "code",
   "execution_count": null,
   "metadata": {},
   "outputs": [],
   "source": [
    "import pandas as pd\n",
    "\n",
    "data = pd.read_csv('../Data/vertebrate.csv',header='infer')\n",
    "data"
   ]
  },
  {
   "cell_type": "markdown",
   "metadata": {},
   "source": [
    "### 8.2.1 Single Link (MIN)"
   ]
  },
  {
   "cell_type": "code",
   "execution_count": null,
   "metadata": {},
   "outputs": [],
   "source": [
    "from scipy.cluster import hierarchy\n",
    "import matplotlib.pyplot as plt\n",
    "%matplotlib inline\n",
    "\n",
    "names = data['Name']\n",
    "Y = data['Class']\n",
    "X = data.drop(['Name','Class'],axis=1)\n",
    "Z = hierarchy.linkage(X.to_numpy(), 'single')\n",
    "dn = hierarchy.dendrogram(Z,labels=names.tolist(),orientation='right')"
   ]
  },
  {
   "cell_type": "markdown",
   "metadata": {},
   "source": [
    "### 8.2.2 Complete Link (MAX)"
   ]
  },
  {
   "cell_type": "code",
   "execution_count": null,
   "metadata": {},
   "outputs": [],
   "source": [
    "Z = hierarchy.linkage(X.to_numpy(), 'complete')\n",
    "dn = hierarchy.dendrogram(Z,labels=names.tolist(),orientation='right')"
   ]
  },
  {
   "cell_type": "markdown",
   "metadata": {},
   "source": [
    "### 8.3.3 Group Average"
   ]
  },
  {
   "cell_type": "code",
   "execution_count": null,
   "metadata": {},
   "outputs": [],
   "source": [
    "Z = hierarchy.linkage(X.to_numpy(), 'average')\n",
    "dn = hierarchy.dendrogram(Z,labels=names.tolist(),orientation='right')"
   ]
  },
  {
   "cell_type": "code",
   "execution_count": null,
   "metadata": {},
   "outputs": [],
   "source": []
  },
  {
   "cell_type": "markdown",
   "metadata": {},
   "source": [
    "## 8.3 Density-Based Clustering\n",
    "\n",
    "Density-based clustering identifies the individual clusters as high-density regions that are separated by regions of low density. DBScan is one of the most popular density based clustering algorithms. In DBScan, data points are classified into 3 types---core points, border points, and noise points---based on the density of their local neighborhood. The local neighborhood density is defined according to 2 parameters:  radius of neighborhood size (eps) and minimum number of points in the neighborhood (min_samples). \n",
    "\n",
    "For this approach, we will use a noisy, 2-dimensional dataset originally created by Karypis et al. [1] for evaluating their proposed CHAMELEON algorithm. The example code shown below will load and plot the distribution of the data."
   ]
  },
  {
   "cell_type": "code",
   "execution_count": null,
   "metadata": {},
   "outputs": [],
   "source": [
    "import pandas as pd\n",
    "\n",
    "data = pd.read_csv('../Data/chameleon.csv', delimiter=' ', names=['x','y'])\n",
    "print(data)\n",
    "data.plot.scatter(x='x',y='y')"
   ]
  },
  {
   "cell_type": "markdown",
   "metadata": {},
   "source": [
    "We apply the DBScan clustering algorithm on the data by setting the neighborhood radius (eps) to 15.5 and minimum number of points (min_samples) to be 5. The clusters are assigned to IDs between 0 to 8 while the noise points are assigned to a cluster ID equals to -1."
   ]
  },
  {
   "cell_type": "code",
   "execution_count": null,
   "metadata": {},
   "outputs": [],
   "source": [
    "from sklearn.cluster import DBSCAN\n",
    "\n",
    "db = DBSCAN(eps=15.5, min_samples=5).fit(data)\n",
    "core_samples_mask = np.zeros_like(db.labels_, dtype=bool)\n",
    "core_samples_mask[db.core_sample_indices_] = True\n",
    "labels = pd.DataFrame(db.labels_,columns=['Cluster ID'])\n",
    "result = pd.concat((data,labels), axis=1)\n",
    "result.plot.scatter(x='x',y='y',c='Cluster ID', colormap='jet')"
   ]
  },
  {
   "cell_type": "markdown",
   "metadata": {},
   "source": [
    "Let's compare these algorithmn on son toy datasets"
   ]
  },
  {
   "cell_type": "code",
   "execution_count": null,
   "metadata": {},
   "outputs": [],
   "source": [
    "import time\n",
    "import warnings\n",
    "from itertools import cycle, islice\n",
    "\n",
    "import matplotlib.pyplot as plt\n",
    "import numpy as np\n",
    "\n",
    "from sklearn import cluster, datasets\n",
    "from sklearn.preprocessing import StandardScaler"
   ]
  },
  {
   "cell_type": "code",
   "execution_count": null,
   "metadata": {},
   "outputs": [],
   "source": [
    "n_samples = 1500\n",
    "noisy_circles = datasets.make_circles(\n",
    "    n_samples=n_samples, factor=0.5, noise=0.05, random_state=170\n",
    ")\n",
    "noisy_moons = datasets.make_moons(n_samples=n_samples, noise=0.05, random_state=170)\n",
    "blobs = datasets.make_blobs(n_samples=n_samples, random_state=170)\n",
    "rng = np.random.RandomState(170)\n",
    "no_structure = rng.rand(n_samples, 2), None\n",
    "\n",
    "# Anisotropicly distributed data\n",
    "X, y = datasets.make_blobs(n_samples=n_samples, random_state=170)\n",
    "transformation = [[0.6, -0.6], [-0.4, 0.8]]\n",
    "X_aniso = np.dot(X, transformation)\n",
    "aniso = (X_aniso, y)\n",
    "\n",
    "# blobs with varied variances\n",
    "varied = datasets.make_blobs(\n",
    "    n_samples=n_samples, cluster_std=[1.0, 2.5, 0.5], random_state=170\n",
    ")"
   ]
  },
  {
   "cell_type": "code",
   "execution_count": null,
   "metadata": {},
   "outputs": [],
   "source": [
    "X, y = noisy_circles\n",
    "plt.scatter(X[:, 0], X[:, 1])"
   ]
  },
  {
   "cell_type": "code",
   "execution_count": null,
   "metadata": {},
   "outputs": [],
   "source": [
    "# Set up cluster parameters\n",
    "plt.figure(figsize=(9 * 1.3 + 2, 14.5))\n",
    "plt.subplots_adjust(\n",
    "    left=0.02, right=0.98, bottom=0.001, top=0.96, wspace=0.05, hspace=0.01\n",
    ")\n",
    "\n",
    "plot_num = 1\n",
    "\n",
    "default_base = {\"n_neighbors\": 10, \"n_clusters\": 3}\n",
    "\n",
    "datasets = [\n",
    "    (noisy_circles, {\"n_clusters\": 2}),\n",
    "    (noisy_moons, {\"n_clusters\": 2}),\n",
    "    (varied, {\"n_neighbors\": 2}),\n",
    "    (aniso, {\"n_neighbors\": 2}),\n",
    "    (blobs, {}),\n",
    "    (no_structure, {}),\n",
    "]\n",
    "\n",
    "for i_dataset, (dataset, algo_params) in enumerate(datasets):\n",
    "    # update parameters with dataset-specific values\n",
    "    params = default_base.copy()\n",
    "    params.update(algo_params)\n",
    "\n",
    "    X, y = dataset\n",
    "\n",
    "    # normalize dataset for easier parameter selection\n",
    "    X = StandardScaler().fit_transform(X)\n",
    "\n",
    "    # ============\n",
    "    # Create cluster objects\n",
    "    # ============\n",
    "    ward = cluster.AgglomerativeClustering(\n",
    "        n_clusters=params[\"n_clusters\"], linkage=\"ward\"\n",
    "    )\n",
    "    complete = cluster.AgglomerativeClustering(\n",
    "        n_clusters=params[\"n_clusters\"], linkage=\"complete\"\n",
    "    )\n",
    "    average = cluster.AgglomerativeClustering(\n",
    "        n_clusters=params[\"n_clusters\"], linkage=\"average\"\n",
    "    )\n",
    "    single = cluster.AgglomerativeClustering(\n",
    "        n_clusters=params[\"n_clusters\"], linkage=\"single\"\n",
    "    )\n",
    "\n",
    "    clustering_algorithms = (\n",
    "        (\"Single Linkage\", single),\n",
    "        (\"Average Linkage\", average),\n",
    "        (\"Complete Linkage\", complete),\n",
    "        (\"Ward Linkage\", ward),\n",
    "    )\n",
    "\n",
    "    for name, algorithm in clustering_algorithms:\n",
    "        t0 = time.time()\n",
    "\n",
    "        # catch warnings related to kneighbors_graph\n",
    "        with warnings.catch_warnings():\n",
    "            warnings.filterwarnings(\n",
    "                \"ignore\",\n",
    "                message=\"the number of connected components of the \"\n",
    "                + \"connectivity matrix is [0-9]{1,2}\"\n",
    "                + \" > 1. Completing it to avoid stopping the tree early.\",\n",
    "                category=UserWarning,\n",
    "            )\n",
    "            algorithm.fit(X)\n",
    "\n",
    "        t1 = time.time()\n",
    "        if hasattr(algorithm, \"labels_\"):\n",
    "            y_pred = algorithm.labels_.astype(int)\n",
    "        else:\n",
    "            y_pred = algorithm.predict(X)\n",
    "\n",
    "        plt.subplot(len(datasets), len(clustering_algorithms), plot_num)\n",
    "        if i_dataset == 0:\n",
    "            plt.title(name, size=18)\n",
    "\n",
    "        colors = np.array(\n",
    "            list(\n",
    "                islice(\n",
    "                    cycle(\n",
    "                        [\n",
    "                            \"#377eb8\",\n",
    "                            \"#ff7f00\",\n",
    "                            \"#4daf4a\",\n",
    "                            \"#f781bf\",\n",
    "                            \"#a65628\",\n",
    "                            \"#984ea3\",\n",
    "                            \"#999999\",\n",
    "                            \"#e41a1c\",\n",
    "                            \"#dede00\",\n",
    "                        ]\n",
    "                    ),\n",
    "                    int(max(y_pred) + 1),\n",
    "                )\n",
    "            )\n",
    "        )\n",
    "        plt.scatter(X[:, 0], X[:, 1], s=10, color=colors[y_pred])\n",
    "\n",
    "        plt.xlim(-2.5, 2.5)\n",
    "        plt.ylim(-2.5, 2.5)\n",
    "        plt.xticks(())\n",
    "        plt.yticks(())\n",
    "        plt.text(\n",
    "            0.99,\n",
    "            0.01,\n",
    "            (\"%.2fs\" % (t1 - t0)).lstrip(\"0\"),\n",
    "            transform=plt.gca().transAxes,\n",
    "            size=15,\n",
    "            horizontalalignment=\"right\",\n",
    "        )\n",
    "        plot_num += 1\n",
    "\n",
    "plt.show()"
   ]
  },
  {
   "cell_type": "markdown",
   "metadata": {},
   "source": [
    "## Validation Using Sorted Similarity Matrix.\n",
    "\n",
    "from https://medium.com/@devamsheth20/statistical-test-for-k-means-cluster-validation-in-python-using-sorted-similarity-matrix-1e644ab029c0"
   ]
  },
  {
   "cell_type": "code",
   "execution_count": 28,
   "metadata": {},
   "outputs": [
    {
     "data": {
      "text/html": [
       "<div>\n",
       "<style scoped>\n",
       "    .dataframe tbody tr th:only-of-type {\n",
       "        vertical-align: middle;\n",
       "    }\n",
       "\n",
       "    .dataframe tbody tr th {\n",
       "        vertical-align: top;\n",
       "    }\n",
       "\n",
       "    .dataframe thead th {\n",
       "        text-align: right;\n",
       "    }\n",
       "</style>\n",
       "<table border=\"1\" class=\"dataframe\">\n",
       "  <thead>\n",
       "    <tr style=\"text-align: right;\">\n",
       "      <th></th>\n",
       "      <th>0</th>\n",
       "      <th>1</th>\n",
       "      <th>2</th>\n",
       "      <th>3</th>\n",
       "      <th>4</th>\n",
       "      <th>5</th>\n",
       "      <th>6</th>\n",
       "      <th>7</th>\n",
       "      <th>8</th>\n",
       "      <th>9</th>\n",
       "      <th>...</th>\n",
       "      <th>22</th>\n",
       "      <th>23</th>\n",
       "      <th>24</th>\n",
       "      <th>25</th>\n",
       "      <th>26</th>\n",
       "      <th>27</th>\n",
       "      <th>28</th>\n",
       "      <th>29</th>\n",
       "      <th>30</th>\n",
       "      <th>31</th>\n",
       "    </tr>\n",
       "  </thead>\n",
       "  <tbody>\n",
       "    <tr>\n",
       "      <th>26</th>\n",
       "      <td>3.092368</td>\n",
       "      <td>5.402461</td>\n",
       "      <td>-8.133775</td>\n",
       "      <td>-0.294511</td>\n",
       "      <td>7.969525</td>\n",
       "      <td>-12.835632</td>\n",
       "      <td>-5.063480</td>\n",
       "      <td>7.273905</td>\n",
       "      <td>8.613952</td>\n",
       "      <td>-3.465857</td>\n",
       "      <td>...</td>\n",
       "      <td>-3.386562</td>\n",
       "      <td>-7.037982</td>\n",
       "      <td>7.132439</td>\n",
       "      <td>1.485860</td>\n",
       "      <td>1.479443</td>\n",
       "      <td>-5.113269</td>\n",
       "      <td>-4.774076</td>\n",
       "      <td>2.689196</td>\n",
       "      <td>-0.904568</td>\n",
       "      <td>-10.652778</td>\n",
       "    </tr>\n",
       "    <tr>\n",
       "      <th>86</th>\n",
       "      <td>-1.827800</td>\n",
       "      <td>6.874412</td>\n",
       "      <td>-6.193014</td>\n",
       "      <td>-4.061231</td>\n",
       "      <td>8.434069</td>\n",
       "      <td>-2.325613</td>\n",
       "      <td>-6.572138</td>\n",
       "      <td>2.662216</td>\n",
       "      <td>3.674531</td>\n",
       "      <td>-0.923972</td>\n",
       "      <td>...</td>\n",
       "      <td>-2.786520</td>\n",
       "      <td>-9.698793</td>\n",
       "      <td>15.738431</td>\n",
       "      <td>2.515213</td>\n",
       "      <td>4.275230</td>\n",
       "      <td>-0.569539</td>\n",
       "      <td>-8.697349</td>\n",
       "      <td>5.312718</td>\n",
       "      <td>-2.078858</td>\n",
       "      <td>-6.756235</td>\n",
       "    </tr>\n",
       "    <tr>\n",
       "      <th>2</th>\n",
       "      <td>5.118916</td>\n",
       "      <td>9.939231</td>\n",
       "      <td>-5.338687</td>\n",
       "      <td>-1.445761</td>\n",
       "      <td>8.098372</td>\n",
       "      <td>-5.761612</td>\n",
       "      <td>-12.977400</td>\n",
       "      <td>-0.516004</td>\n",
       "      <td>9.223066</td>\n",
       "      <td>-3.431234</td>\n",
       "      <td>...</td>\n",
       "      <td>-5.202991</td>\n",
       "      <td>-8.561189</td>\n",
       "      <td>6.656612</td>\n",
       "      <td>8.321154</td>\n",
       "      <td>3.957509</td>\n",
       "      <td>-5.170569</td>\n",
       "      <td>-5.462176</td>\n",
       "      <td>1.378981</td>\n",
       "      <td>0.207315</td>\n",
       "      <td>-11.161425</td>\n",
       "    </tr>\n",
       "    <tr>\n",
       "      <th>55</th>\n",
       "      <td>3.714016</td>\n",
       "      <td>8.423915</td>\n",
       "      <td>3.827518</td>\n",
       "      <td>-4.131552</td>\n",
       "      <td>-2.399190</td>\n",
       "      <td>6.605014</td>\n",
       "      <td>-12.828675</td>\n",
       "      <td>-1.187647</td>\n",
       "      <td>0.935928</td>\n",
       "      <td>0.743484</td>\n",
       "      <td>...</td>\n",
       "      <td>-9.237465</td>\n",
       "      <td>-7.211764</td>\n",
       "      <td>16.679820</td>\n",
       "      <td>-7.001671</td>\n",
       "      <td>3.088515</td>\n",
       "      <td>-7.502164</td>\n",
       "      <td>6.796050</td>\n",
       "      <td>-5.299128</td>\n",
       "      <td>-1.717943</td>\n",
       "      <td>2.469198</td>\n",
       "    </tr>\n",
       "    <tr>\n",
       "      <th>75</th>\n",
       "      <td>4.569833</td>\n",
       "      <td>11.060755</td>\n",
       "      <td>-6.875873</td>\n",
       "      <td>-2.357554</td>\n",
       "      <td>15.631446</td>\n",
       "      <td>-3.380032</td>\n",
       "      <td>-5.057848</td>\n",
       "      <td>3.413614</td>\n",
       "      <td>1.210169</td>\n",
       "      <td>3.173396</td>\n",
       "      <td>...</td>\n",
       "      <td>4.201381</td>\n",
       "      <td>-7.076536</td>\n",
       "      <td>1.393941</td>\n",
       "      <td>4.944527</td>\n",
       "      <td>-0.437124</td>\n",
       "      <td>-0.686465</td>\n",
       "      <td>-7.898557</td>\n",
       "      <td>-1.291139</td>\n",
       "      <td>-6.634310</td>\n",
       "      <td>-6.013163</td>\n",
       "    </tr>\n",
       "    <tr>\n",
       "      <th>93</th>\n",
       "      <td>-0.258834</td>\n",
       "      <td>9.663264</td>\n",
       "      <td>9.475254</td>\n",
       "      <td>-0.415799</td>\n",
       "      <td>-4.081936</td>\n",
       "      <td>0.444932</td>\n",
       "      <td>-5.416766</td>\n",
       "      <td>-4.677086</td>\n",
       "      <td>1.861590</td>\n",
       "      <td>-0.566723</td>\n",
       "      <td>...</td>\n",
       "      <td>-5.536054</td>\n",
       "      <td>-12.671191</td>\n",
       "      <td>11.588696</td>\n",
       "      <td>-9.697806</td>\n",
       "      <td>-2.560106</td>\n",
       "      <td>-7.002785</td>\n",
       "      <td>8.528511</td>\n",
       "      <td>-0.461722</td>\n",
       "      <td>6.563076</td>\n",
       "      <td>6.630781</td>\n",
       "    </tr>\n",
       "    <tr>\n",
       "      <th>16</th>\n",
       "      <td>-8.510063</td>\n",
       "      <td>-1.175450</td>\n",
       "      <td>-8.920655</td>\n",
       "      <td>-6.674918</td>\n",
       "      <td>7.775557</td>\n",
       "      <td>-0.555320</td>\n",
       "      <td>-5.426004</td>\n",
       "      <td>1.575467</td>\n",
       "      <td>0.385196</td>\n",
       "      <td>8.875238</td>\n",
       "      <td>...</td>\n",
       "      <td>-7.258243</td>\n",
       "      <td>-12.391771</td>\n",
       "      <td>6.757994</td>\n",
       "      <td>7.009268</td>\n",
       "      <td>-6.620471</td>\n",
       "      <td>-8.221901</td>\n",
       "      <td>7.553145</td>\n",
       "      <td>-9.769203</td>\n",
       "      <td>8.054948</td>\n",
       "      <td>-8.413713</td>\n",
       "    </tr>\n",
       "    <tr>\n",
       "      <th>73</th>\n",
       "      <td>2.415988</td>\n",
       "      <td>6.377045</td>\n",
       "      <td>-5.826130</td>\n",
       "      <td>-2.328841</td>\n",
       "      <td>7.053033</td>\n",
       "      <td>-6.686211</td>\n",
       "      <td>-10.162534</td>\n",
       "      <td>1.710096</td>\n",
       "      <td>5.997351</td>\n",
       "      <td>4.361324</td>\n",
       "      <td>...</td>\n",
       "      <td>3.385755</td>\n",
       "      <td>-6.194881</td>\n",
       "      <td>1.994119</td>\n",
       "      <td>3.453849</td>\n",
       "      <td>6.900653</td>\n",
       "      <td>-3.576021</td>\n",
       "      <td>-6.873806</td>\n",
       "      <td>-1.433298</td>\n",
       "      <td>0.331652</td>\n",
       "      <td>-7.778834</td>\n",
       "    </tr>\n",
       "    <tr>\n",
       "      <th>54</th>\n",
       "      <td>-10.554498</td>\n",
       "      <td>-0.520517</td>\n",
       "      <td>-2.549914</td>\n",
       "      <td>-10.942731</td>\n",
       "      <td>5.034579</td>\n",
       "      <td>0.515082</td>\n",
       "      <td>-11.038140</td>\n",
       "      <td>-1.330438</td>\n",
       "      <td>3.045077</td>\n",
       "      <td>2.176546</td>\n",
       "      <td>...</td>\n",
       "      <td>-9.910049</td>\n",
       "      <td>-12.600996</td>\n",
       "      <td>-0.910478</td>\n",
       "      <td>8.410669</td>\n",
       "      <td>-9.573083</td>\n",
       "      <td>-5.953262</td>\n",
       "      <td>10.303521</td>\n",
       "      <td>-3.425547</td>\n",
       "      <td>6.210430</td>\n",
       "      <td>-5.026238</td>\n",
       "    </tr>\n",
       "    <tr>\n",
       "      <th>95</th>\n",
       "      <td>-8.379245</td>\n",
       "      <td>4.154273</td>\n",
       "      <td>-7.868257</td>\n",
       "      <td>-9.927669</td>\n",
       "      <td>6.662582</td>\n",
       "      <td>0.764915</td>\n",
       "      <td>-0.324643</td>\n",
       "      <td>2.055360</td>\n",
       "      <td>-2.792492</td>\n",
       "      <td>7.802541</td>\n",
       "      <td>...</td>\n",
       "      <td>-6.386490</td>\n",
       "      <td>-10.713435</td>\n",
       "      <td>-2.536517</td>\n",
       "      <td>11.008383</td>\n",
       "      <td>-8.237495</td>\n",
       "      <td>-3.216780</td>\n",
       "      <td>9.189122</td>\n",
       "      <td>-4.901324</td>\n",
       "      <td>10.148886</td>\n",
       "      <td>-7.039418</td>\n",
       "    </tr>\n",
       "  </tbody>\n",
       "</table>\n",
       "<p>10 rows × 32 columns</p>\n",
       "</div>"
      ],
      "text/plain": [
       "           0          1         2          3          4          5   \\\n",
       "26   3.092368   5.402461 -8.133775  -0.294511   7.969525 -12.835632   \n",
       "86  -1.827800   6.874412 -6.193014  -4.061231   8.434069  -2.325613   \n",
       "2    5.118916   9.939231 -5.338687  -1.445761   8.098372  -5.761612   \n",
       "55   3.714016   8.423915  3.827518  -4.131552  -2.399190   6.605014   \n",
       "75   4.569833  11.060755 -6.875873  -2.357554  15.631446  -3.380032   \n",
       "93  -0.258834   9.663264  9.475254  -0.415799  -4.081936   0.444932   \n",
       "16  -8.510063  -1.175450 -8.920655  -6.674918   7.775557  -0.555320   \n",
       "73   2.415988   6.377045 -5.826130  -2.328841   7.053033  -6.686211   \n",
       "54 -10.554498  -0.520517 -2.549914 -10.942731   5.034579   0.515082   \n",
       "95  -8.379245   4.154273 -7.868257  -9.927669   6.662582   0.764915   \n",
       "\n",
       "           6         7         8         9   ...        22         23  \\\n",
       "26  -5.063480  7.273905  8.613952 -3.465857  ... -3.386562  -7.037982   \n",
       "86  -6.572138  2.662216  3.674531 -0.923972  ... -2.786520  -9.698793   \n",
       "2  -12.977400 -0.516004  9.223066 -3.431234  ... -5.202991  -8.561189   \n",
       "55 -12.828675 -1.187647  0.935928  0.743484  ... -9.237465  -7.211764   \n",
       "75  -5.057848  3.413614  1.210169  3.173396  ...  4.201381  -7.076536   \n",
       "93  -5.416766 -4.677086  1.861590 -0.566723  ... -5.536054 -12.671191   \n",
       "16  -5.426004  1.575467  0.385196  8.875238  ... -7.258243 -12.391771   \n",
       "73 -10.162534  1.710096  5.997351  4.361324  ...  3.385755  -6.194881   \n",
       "54 -11.038140 -1.330438  3.045077  2.176546  ... -9.910049 -12.600996   \n",
       "95  -0.324643  2.055360 -2.792492  7.802541  ... -6.386490 -10.713435   \n",
       "\n",
       "           24         25        26        27         28        29         30  \\\n",
       "26   7.132439   1.485860  1.479443 -5.113269  -4.774076  2.689196  -0.904568   \n",
       "86  15.738431   2.515213  4.275230 -0.569539  -8.697349  5.312718  -2.078858   \n",
       "2    6.656612   8.321154  3.957509 -5.170569  -5.462176  1.378981   0.207315   \n",
       "55  16.679820  -7.001671  3.088515 -7.502164   6.796050 -5.299128  -1.717943   \n",
       "75   1.393941   4.944527 -0.437124 -0.686465  -7.898557 -1.291139  -6.634310   \n",
       "93  11.588696  -9.697806 -2.560106 -7.002785   8.528511 -0.461722   6.563076   \n",
       "16   6.757994   7.009268 -6.620471 -8.221901   7.553145 -9.769203   8.054948   \n",
       "73   1.994119   3.453849  6.900653 -3.576021  -6.873806 -1.433298   0.331652   \n",
       "54  -0.910478   8.410669 -9.573083 -5.953262  10.303521 -3.425547   6.210430   \n",
       "95  -2.536517  11.008383 -8.237495 -3.216780   9.189122 -4.901324  10.148886   \n",
       "\n",
       "           31  \n",
       "26 -10.652778  \n",
       "86  -6.756235  \n",
       "2  -11.161425  \n",
       "55   2.469198  \n",
       "75  -6.013163  \n",
       "93   6.630781  \n",
       "16  -8.413713  \n",
       "73  -7.778834  \n",
       "54  -5.026238  \n",
       "95  -7.039418  \n",
       "\n",
       "[10 rows x 32 columns]"
      ]
     },
     "execution_count": 28,
     "metadata": {},
     "output_type": "execute_result"
    }
   ],
   "source": [
    "import pandas as pd\n",
    "import numpy as np\n",
    "np.random.seed(0)\n",
    "data = pd.read_csv('https://docs.google.com/uc?export=download&id=1CjR6Q6nMN_2pTJJietr07mRjEYYSWR7U', header=None)\n",
    "data.sample(10)"
   ]
  },
  {
   "cell_type": "markdown",
   "metadata": {},
   "source": [
    "Proceed with normalization step"
   ]
  },
  {
   "cell_type": "code",
   "execution_count": 29,
   "metadata": {},
   "outputs": [],
   "source": [
    "from sklearn.preprocessing import StandardScaler\n",
    "scaler = StandardScaler()\n",
    "scaleddf = scaler.fit_transform(data)"
   ]
  },
  {
   "cell_type": "markdown",
   "metadata": {},
   "source": [
    "PCA helps in identifying patterns, reducing noise, and gaining insights from complex datasets. We’ll use Python’s scikit-learn library to perform PCA and demonstrate how it can effectively reduce the dimensions of data for visualization purposes."
   ]
  },
  {
   "cell_type": "code",
   "execution_count": 30,
   "metadata": {},
   "outputs": [
    {
     "data": {
      "text/plain": [
       "<matplotlib.collections.PathCollection at 0x1585c6160>"
      ]
     },
     "execution_count": 30,
     "metadata": {},
     "output_type": "execute_result"
    },
    {
     "data": {
      "image/png": "[encoded data removed]",
      "text/plain": [
       "<Figure size 640x480 with 1 Axes>"
      ]
     },
     "metadata": {},
     "output_type": "display_data"
    }
   ],
   "source": [
    "from sklearn.decomposition import PCA\n",
    "import matplotlib.pyplot as plt\n",
    "df_pca = PCA(n_components=2).fit_transform(scaleddf)\n",
    "plt.scatter(df_pca[:,0], df_pca[:,1],alpha=1)"
   ]
  },
  {
   "cell_type": "markdown",
   "metadata": {},
   "source": [
    "Clustering K-means"
   ]
  },
  {
   "cell_type": "code",
   "execution_count": 36,
   "metadata": {},
   "outputs": [
    {
     "name": "stderr",
     "output_type": "stream",
     "text": [
      "/Users/beppe2hd/opt/anaconda3/envs/DataMining/lib/python3.8/site-packages/sklearn/cluster/_kmeans.py:1416: FutureWarning: The default value of `n_init` will change from 10 to 'auto' in 1.4. Set the value of `n_init` explicitly to suppress the warning\n",
      "  super()._check_params_vs_input(X, default_n_init=10)\n"
     ]
    },
    {
     "data": {
      "text/plain": [
       "<matplotlib.collections.PathCollection at 0x1595e1490>"
      ]
     },
     "execution_count": 36,
     "metadata": {},
     "output_type": "execute_result"
    },
    {
     "data": {
      "image/png": "[encoded data removed]",
      "text/plain": [
       "<Figure size 640x480 with 1 Axes>"
      ]
     },
     "metadata": {},
     "output_type": "display_data"
    }
   ],
   "source": [
    "from sklearn.cluster import KMeans\n",
    "clf = KMeans(n_clusters = 3)\n",
    "clf.fit(scaleddf)\n",
    "labels = clf.labels_\n",
    "## Plotting the clusters\n",
    "import matplotlib.pyplot as plt\n",
    "plt.scatter(df_pca[:,0], df_pca[:,1], alpha=0.8, c=clf.labels_, cmap='jet')"
   ]
  },
  {
   "cell_type": "markdown",
   "metadata": {},
   "source": [
    "Let's comute SSE (Sum of Squared errors)"
   ]
  },
  {
   "cell_type": "code",
   "execution_count": 32,
   "metadata": {},
   "outputs": [
    {
     "name": "stdout",
     "output_type": "stream",
     "text": [
      "SSE of Given data = 1322.2687058271963\n"
     ]
    }
   ],
   "source": [
    "sse = clf.inertia_\n",
    "print('SSE of Given data =' , sse)"
   ]
  },
  {
   "cell_type": "markdown",
   "metadata": {},
   "source": [
    "#### Silhouette score\n",
    "Assessing the coherence and separation of clusters by computing the average silhouette coefficient for each data point, which measures how similar it is to its own cluster compared to neighboring clusters."
   ]
  },
  {
   "cell_type": "code",
   "execution_count": 37,
   "metadata": {},
   "outputs": [
    {
     "name": "stdout",
     "output_type": "stream",
     "text": [
      "Silhouette score of Given data's clsuter result = 0.4060288765382684\n"
     ]
    }
   ],
   "source": [
    "from sklearn.metrics import silhouette_score\n",
    "\n",
    "kmean_ss = silhouette_score(scaleddf,labels)\n",
    "\n",
    "print('Silhouette score of Given data\\'s clsuter result =',kmean_ss)"
   ]
  },
  {
   "cell_type": "markdown",
   "metadata": {},
   "source": [
    "silhouette scor for each sample"
   ]
  },
  {
   "cell_type": "code",
   "execution_count": 38,
   "metadata": {},
   "outputs": [],
   "source": [
    "from sklearn.metrics import silhouette_samples\n",
    "\n",
    "kmean_ss_samples = silhouette_samples(scaleddf,labels)"
   ]
  },
  {
   "cell_type": "code",
   "execution_count": 43,
   "metadata": {},
   "outputs": [],
   "source": [
    "labels==0\n",
    "\n",
    "s_0 = [s for s,l in zip(kmean_ss_samples, labels) if l==True ]"
   ]
  },
  {
   "cell_type": "code",
   "execution_count": 45,
   "metadata": {},
   "outputs": [
    {
     "data": {
      "text/plain": [
       "34"
      ]
     },
     "execution_count": 45,
     "metadata": {},
     "output_type": "execute_result"
    }
   ],
   "source": [
    "len(s_0)"
   ]
  },
  {
   "cell_type": "markdown",
   "metadata": {},
   "source": [
    "Similarity matrix\n",
    "Similarity matrix also called a distance/ proximity matrix is a matrix with a pairwise distance of data points and a Sorted Similarity matrix will be sorted by cluster labels."
   ]
  },
  {
   "cell_type": "markdown",
   "metadata": {},
   "source": [
    "Calculating and plotting the sorted Similarity Matrix"
   ]
  },
  {
   "cell_type": "code",
   "execution_count": 49,
   "metadata": {},
   "outputs": [],
   "source": [
    "import numpy as np\n",
    "from sklearn.metrics import pairwise_distances\n",
    "\n",
    "pairwisedist = pairwise_distances(scaleddf, metric='cosine')"
   ]
  },
  {
   "cell_type": "code",
   "execution_count": 51,
   "metadata": {},
   "outputs": [
    {
     "data": {
      "text/plain": [
       "(100, 100)"
      ]
     },
     "execution_count": 51,
     "metadata": {},
     "output_type": "execute_result"
    }
   ],
   "source": [
    "pairwisedist.shape"
   ]
  },
  {
   "cell_type": "code",
   "execution_count": 81,
   "metadata": {},
   "outputs": [
    {
     "data": {
      "text/plain": [
       "<matplotlib.colorbar.Colorbar at 0x159deb760>"
      ]
     },
     "execution_count": 81,
     "metadata": {},
     "output_type": "execute_result"
    },
    {
     "data": {
      "image/png": "[encoded data removed]",
      "text/plain": [
       "<Figure size 640x480 with 2 Axes>"
      ]
     },
     "metadata": {},
     "output_type": "display_data"
    }
   ],
   "source": [
    "\n",
    "# sorting by labels\n",
    "indes_of_sorted_labels = np.argsort(clf.labels_)\n",
    "\n",
    "sorted_pairwisedist = pairwisedist[indes_of_sorted_labels][:,indes_of_sorted_labels]\n",
    "labels = clf.labels_[indes_of_sorted_labels]\n",
    "\n",
    "# keeping the distance values between 0 and 1.\n",
    "sorted_pairwisedist = sorted_pairwisedist / np.max(sorted_pairwisedist)\n",
    "sorted_similarity = 1- sorted_pairwisedist / np.max(sorted_pairwisedist)\n",
    "\n",
    "#plotting \n",
    "import matplotlib.pyplot as plt\n",
    "plt.imshow(sorted_similarity,cmap ='jet')\n",
    "plt.colorbar()"
   ]
  },
  {
   "cell_type": "markdown",
   "metadata": {},
   "source": [
    "Code For ideal Matrix :"
   ]
  },
  {
   "cell_type": "code",
   "execution_count": 82,
   "metadata": {},
   "outputs": [
    {
     "data": {
      "text/plain": [
       "array([0, 0, 0, 0, 0, 0, 0, 0, 0, 0, 0, 0, 0, 0, 0, 0, 0, 0, 0, 0, 0, 0,\n",
       "       0, 0, 0, 0, 0, 0, 0, 0, 0, 0, 0, 1, 1, 1, 1, 1, 1, 1, 1, 1, 1, 1,\n",
       "       1, 1, 1, 1, 1, 1, 1, 1, 1, 1, 1, 1, 1, 1, 1, 1, 1, 1, 1, 1, 1, 1,\n",
       "       1, 2, 2, 2, 2, 2, 2, 2, 2, 2, 2, 2, 2, 2, 2, 2, 2, 2, 2, 2, 2, 2,\n",
       "       2, 2, 2, 2, 2, 2, 2, 2, 2, 2, 2, 2], dtype=int32)"
      ]
     },
     "execution_count": 82,
     "metadata": {},
     "output_type": "execute_result"
    }
   ],
   "source": [
    "labels"
   ]
  },
  {
   "cell_type": "code",
   "execution_count": 83,
   "metadata": {},
   "outputs": [
    {
     "data": {
      "text/plain": [
       "<matplotlib.colorbar.Colorbar at 0x159eae4f0>"
      ]
     },
     "execution_count": 83,
     "metadata": {},
     "output_type": "execute_result"
    },
    {
     "data": {
      "image/png": "[encoded data removed]",
      "text/plain": [
       "<Figure size 640x480 with 2 Axes>"
      ]
     },
     "metadata": {},
     "output_type": "display_data"
    }
   ],
   "source": [
    "incidence_matrix = np.zeros_like(sorted_similarity)\n",
    "for i in range(len(labels)):\n",
    "    for j in range(len(labels)):\n",
    "        incidence_matrix[i,j] = int(labels[i] == labels[j])\n",
    "\n",
    "plt.imshow(incidence_matrix,cmap ='jet')\n",
    "plt.colorbar()"
   ]
  },
  {
   "cell_type": "markdown",
   "metadata": {},
   "source": [
    "Correlation between Incidence and distance/Similarity Matrix :"
   ]
  },
  {
   "cell_type": "code",
   "execution_count": 55,
   "metadata": {},
   "outputs": [
    {
     "data": {
      "text/plain": [
       "(10000,)"
      ]
     },
     "execution_count": 55,
     "metadata": {},
     "output_type": "execute_result"
    }
   ],
   "source": [
    "sorted_pairwisedist.flatten().shape"
   ]
  },
  {
   "cell_type": "code",
   "execution_count": null,
   "metadata": {},
   "outputs": [],
   "source": [
    "corr_org = np.corrcoef(sorted_pairwisedist.flatten(), incidence_matrix.flatten())\n"
   ]
  },
  {
   "cell_type": "code",
   "execution_count": 58,
   "metadata": {},
   "outputs": [
    {
     "name": "stdout",
     "output_type": "stream",
     "text": [
      "The correlation coefficient if -0.9520256715665253\n"
     ]
    }
   ],
   "source": [
    "print(f\"The correlation coefficient if {corr_org[0, 1]}\")"
   ]
  },
  {
   "cell_type": "markdown",
   "metadata": {},
   "source": [
    "Here there is a high correlation with the Ideal matrix suggesting that points that belong to the same cluster are close to each other. The negative value is due to the distance matrix, the distance matrix is opposite of similarity matrix i.e. if the distance is 0 the similarity is 1 and vice versa."
   ]
  },
  {
   "cell_type": "markdown",
   "metadata": {},
   "source": [
    "Work with random data"
   ]
  },
  {
   "cell_type": "code",
   "execution_count": 61,
   "metadata": {},
   "outputs": [],
   "source": [
    "ranges = [(data[col].min(), data[col].max()) for col in data.columns] # specify different ranges for each column\n",
    "randomdata = np.random.default_rng().uniform(low=ranges[0][0], high=ranges[0][1], size=(100, 1))\n",
    "for r in ranges[1:]:\n",
    "    randomdata = np.concatenate((randomdata, np.random.randint(low=r[0], high=r[1], size=(100, 1))), axis=1)\n",
    "randomdf = pd.DataFrame(randomdata)"
   ]
  },
  {
   "cell_type": "code",
   "execution_count": 62,
   "metadata": {},
   "outputs": [
    {
     "data": {
      "text/plain": [
       "<bound method NDFrame.head of            0     1    2     3     4    5     6     7     8     9   ...    22  \\\n",
       "0  -10.311160   0.0 -9.0  -9.0  12.0  3.0  -3.0  12.0  12.0  13.0  ... -10.0   \n",
       "1   -8.265666   8.0 -6.0  -2.0  12.0  1.0  -1.0  12.0   3.0  -3.0  ... -11.0   \n",
       "2   -8.620725   8.0  9.0   1.0   5.0 -3.0  -8.0   8.0   1.0  -3.0  ...   4.0   \n",
       "3  -13.718638   3.0  6.0  -4.0  13.0 -4.0 -12.0   1.0   8.0   5.0  ...   0.0   \n",
       "4   -2.736090  13.0  5.0 -12.0  -3.0  0.0  -8.0   5.0   0.0   5.0  ...  -7.0   \n",
       "..        ...   ...  ...   ...   ...  ...   ...   ...   ...   ...  ...   ...   \n",
       "95 -13.473407   4.0 -6.0   0.0   0.0  2.0  -3.0   9.0  -5.0   8.0  ... -14.0   \n",
       "96  -1.906112  -4.0  8.0  -2.0   0.0  4.0  -9.0  10.0   0.0  -2.0  ...  -1.0   \n",
       "97   4.304593   6.0  3.0 -14.0  -2.0  6.0 -11.0   4.0  -5.0   6.0  ...  -6.0   \n",
       "98   1.698646   0.0  1.0  -7.0   4.0 -5.0  -7.0  -2.0  12.0   2.0  ... -13.0   \n",
       "99  -2.931247   5.0  6.0 -14.0  -3.0 -9.0 -11.0   1.0   9.0  12.0  ...   1.0   \n",
       "\n",
       "      23    24    25    26    27    28    29    30    31  \n",
       "0  -11.0   7.0  -1.0   5.0   2.0  -3.0   3.0   0.0  -1.0  \n",
       "1  -11.0  13.0 -12.0  11.0  -7.0   7.0   2.0  -1.0 -11.0  \n",
       "2   -5.0  10.0  -4.0  -2.0   0.0  -1.0 -10.0   2.0 -15.0  \n",
       "3  -15.0   2.0   8.0   9.0 -12.0  -7.0  -1.0  11.0  -3.0  \n",
       "4  -15.0   3.0   2.0   0.0  -7.0  -1.0  -8.0  -3.0  -3.0  \n",
       "..   ...   ...   ...   ...   ...   ...   ...   ...   ...  \n",
       "95 -10.0  -3.0  -6.0  10.0   1.0  -4.0  -5.0   8.0  -7.0  \n",
       "96 -11.0  -1.0   8.0 -11.0  -6.0   5.0  -6.0   2.0  -1.0  \n",
       "97 -15.0   6.0  -7.0   0.0  -8.0  14.0  -1.0  -6.0  -1.0  \n",
       "98  -5.0  -6.0  10.0   8.0   3.0  -5.0  -5.0   7.0   5.0  \n",
       "99 -16.0  -3.0  -2.0  -5.0  -5.0   3.0  -2.0  11.0   3.0  \n",
       "\n",
       "[100 rows x 32 columns]>"
      ]
     },
     "execution_count": 62,
     "metadata": {},
     "output_type": "execute_result"
    }
   ],
   "source": [
    "randomdf.head"
   ]
  },
  {
   "cell_type": "code",
   "execution_count": 64,
   "metadata": {},
   "outputs": [],
   "source": [
    "from sklearn.preprocessing import StandardScaler\n",
    "scaler = StandardScaler()\n",
    "scaledranddf = scaler.fit_transform(randomdf)"
   ]
  },
  {
   "cell_type": "code",
   "execution_count": 65,
   "metadata": {},
   "outputs": [
    {
     "data": {
      "text/plain": [
       "<matplotlib.collections.PathCollection at 0x15992b2b0>"
      ]
     },
     "execution_count": 65,
     "metadata": {},
     "output_type": "execute_result"
    },
    {
     "data": {
      "image/png": "[encoded data removed]",
      "text/plain": [
       "<Figure size 640x480 with 1 Axes>"
      ]
     },
     "metadata": {},
     "output_type": "display_data"
    }
   ],
   "source": [
    "from sklearn.decomposition import PCA\n",
    "import matplotlib.pyplot as plt\n",
    "df_pca = PCA(n_components=2).fit_transform(scaledranddf)\n",
    "plt.scatter(df_pca[:,0], df_pca[:,1],alpha=1)"
   ]
  },
  {
   "cell_type": "code",
   "execution_count": 66,
   "metadata": {},
   "outputs": [
    {
     "name": "stdout",
     "output_type": "stream",
     "text": [
      "SSE of random data's cluster result  = 2914.30482516693\n",
      "Silhouette score of Random data's cluster result = 0.03559508378252903\n"
     ]
    },
    {
     "name": "stderr",
     "output_type": "stream",
     "text": [
      "/Users/beppe2hd/opt/anaconda3/envs/DataMining/lib/python3.8/site-packages/sklearn/cluster/_kmeans.py:1416: FutureWarning: The default value of `n_init` will change from 10 to 'auto' in 1.4. Set the value of `n_init` explicitly to suppress the warning\n",
      "  super()._check_params_vs_input(X, default_n_init=10)\n"
     ]
    },
    {
     "data": {
      "text/plain": [
       "<matplotlib.collections.PathCollection at 0x159979c70>"
      ]
     },
     "execution_count": 66,
     "metadata": {},
     "output_type": "execute_result"
    },
    {
     "data": {
      "image/png": "[encoded data removed]",
      "text/plain": [
       "<Figure size 640x480 with 1 Axes>"
      ]
     },
     "metadata": {},
     "output_type": "display_data"
    }
   ],
   "source": [
    "from sklearn.cluster import KMeans\n",
    "clfr = KMeans(n_clusters = 3)\n",
    "\n",
    "clfr.fit(scaledranddf)\n",
    "\n",
    "print('SSE of random data\\'s cluster result  =' , clfr.inertia_)\n",
    "\n",
    "print('Silhouette score of Random data\\'s cluster result =',silhouette_score(scaledranddf,clfr.labels_))\n",
    "\n",
    "import matplotlib.pyplot as plt\n",
    "plt.scatter(df_pca[:,0], df_pca[:,1], alpha=0.8, c=clfr.labels_, cmap='jet')"
   ]
  },
  {
   "cell_type": "code",
   "execution_count": 67,
   "metadata": {},
   "outputs": [
    {
     "name": "stdout",
     "output_type": "stream",
     "text": [
      "SSE of random data's cluster result = 2914.30482516693\n"
     ]
    }
   ],
   "source": [
    "print('SSE of random data\\'s cluster result =' , clfr.inertia_)"
   ]
  },
  {
   "cell_type": "code",
   "execution_count": 68,
   "metadata": {},
   "outputs": [
    {
     "name": "stdout",
     "output_type": "stream",
     "text": [
      "Silhouette score of Random data's cluster result = 0.03559508378252903\n"
     ]
    }
   ],
   "source": [
    "print('Silhouette score of Random data\\'s cluster result =',silhouette_score(scaledranddf,clfr.labels_))"
   ]
  },
  {
   "cell_type": "code",
   "execution_count": 84,
   "metadata": {},
   "outputs": [
    {
     "data": {
      "text/plain": [
       "<matplotlib.colorbar.Colorbar at 0x159f71490>"
      ]
     },
     "execution_count": 84,
     "metadata": {},
     "output_type": "execute_result"
    },
    {
     "data": {
      "image/png": "[encoded data removed]",
      "text/plain": [
       "<Figure size 640x480 with 2 Axes>"
      ]
     },
     "metadata": {},
     "output_type": "display_data"
    }
   ],
   "source": [
    "# sorting by labels\n",
    "indes_of_sorted_labels = np.argsort(clfr.labels_)\n",
    "\n",
    "sorted_pairwisedist = pairwisedist[indes_of_sorted_labels][:,indes_of_sorted_labels]\n",
    "labels = clf.labels_[indes_of_sorted_labels]\n",
    "\n",
    "# keeping the distance values between 0 and 1.\n",
    "sorted_pairwisedist = sorted_pairwisedist / np.max(sorted_pairwisedist)\n",
    "sorted_similarity = 1- sorted_pairwisedist / np.max(sorted_pairwisedist)\n",
    "\n",
    "#plotting \n",
    "import matplotlib.pyplot as plt\n",
    "plt.imshow(sorted_similarity,cmap ='jet')\n",
    "plt.colorbar()"
   ]
  },
  {
   "cell_type": "code",
   "execution_count": 85,
   "metadata": {},
   "outputs": [],
   "source": [
    "corr_org = np.corrcoef(sorted_pairwisedist.flatten(), incidence_matrix.flatten())"
   ]
  },
  {
   "cell_type": "code",
   "execution_count": 86,
   "metadata": {},
   "outputs": [
    {
     "data": {
      "text/plain": [
       "-0.074423628064438"
      ]
     },
     "execution_count": 86,
     "metadata": {},
     "output_type": "execute_result"
    }
   ],
   "source": [
    "corr_org[0][1]"
   ]
  }
 ],
 "metadata": {
  "kernelspec": {
   "display_name": "DataMining",
   "language": "python",
   "name": "python3"
  },
  "language_info": {
   "codemirror_mode": {
    "name": "ipython",
    "version": 3
   },
   "file_extension": ".py",
   "mimetype": "text/x-python",
   "name": "python",
   "nbconvert_exporter": "python",
   "pygments_lexer": "ipython3",
   "version": "3.8.20"
  }
 },
 "nbformat": 4,
 "nbformat_minor": 2
}
