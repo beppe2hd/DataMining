{
 "cells": [
  {
   "cell_type": "code",
   "execution_count": 1,
   "id": "3c9f15f5",
   "metadata": {},
   "outputs": [],
   "source": [
    "import numpy as np\n",
    "import pandas as pd\n",
    "import sklearn\n",
    "import matplotlib.pyplot as plt\n",
    "import seaborn as sns\n",
    "import warnings\n",
    "warnings.simplefilter(action='ignore', category=FutureWarning)"
   ]
  },
  {
   "cell_type": "code",
   "execution_count": 2,
   "id": "f7dcc2b4",
   "metadata": {},
   "outputs": [
    {
     "name": "stdout",
     "output_type": "stream",
     "text": [
      "   userId  movieId  rating   timestamp\n",
      "0     877     4155       5  1651201566\n",
      "1     305     7661       2  1639553712\n",
      "2     381     8423       2  1610704432\n",
      "3     208     6433       1  1650223767\n",
      "4      47     7752       4  1663998365\n"
     ]
    }
   ],
   "source": [
    "ratings = pd.read_csv(\"../Data/ratings.csv\")\n",
    "print(ratings.head())"
   ]
  },
  {
   "cell_type": "code",
   "execution_count": 3,
   "id": "6acc7641",
   "metadata": {},
   "outputs": [
    {
     "name": "stdout",
     "output_type": "stream",
     "text": [
      "   movieId                               title  \\\n",
      "0        1                    Toy Story (1995)   \n",
      "1        2                      Jumanji (1995)   \n",
      "2        3             Grumpier Old Men (1995)   \n",
      "3        4            Waiting to Exhale (1995)   \n",
      "4        5  Father of the Bride Part II (1995)   \n",
      "\n",
      "                                        genres  \n",
      "0  Adventure|Animation|Children|Comedy|Fantasy  \n",
      "1                   Adventure|Children|Fantasy  \n",
      "2                               Comedy|Romance  \n",
      "3                         Comedy|Drama|Romance  \n",
      "4                                       Comedy  \n"
     ]
    }
   ],
   "source": [
    "movies = pd.read_csv(\"../Data/movies.csv\")\n",
    "print(movies.head())"
   ]
  },
  {
   "cell_type": "code",
   "execution_count": 4,
   "id": "e172f9e8",
   "metadata": {},
   "outputs": [
    {
     "name": "stdout",
     "output_type": "stream",
     "text": [
      "Number of ratings: 100836\n",
      "Number of unique movieId's: 9742\n",
      "Number of unique users: 999\n",
      "Average ratings per user: 100.94\n",
      "Average ratings per movie: 10.35\n"
     ]
    }
   ],
   "source": [
    "n_ratings = len(ratings)\n",
    "n_movies = len(ratings['movieId'].unique())\n",
    "n_users = len(ratings['userId'].unique())\n",
    "\n",
    "print(f\"Number of ratings: {n_ratings}\")\n",
    "print(f\"Number of unique movieId's: {n_movies}\")\n",
    "print(f\"Number of unique users: {n_users}\")\n",
    "print(f\"Average ratings per user: {round(n_ratings/n_users, 2)}\")\n",
    "print(f\"Average ratings per movie: {round(n_ratings/n_movies, 2)}\")"
   ]
  },
  {
   "cell_type": "markdown",
   "id": "1e554606",
   "metadata": {},
   "source": [
    "User Rating Frequency"
   ]
  },
  {
   "cell_type": "code",
   "execution_count": 5,
   "id": "c8de67ac",
   "metadata": {},
   "outputs": [
    {
     "name": "stdout",
     "output_type": "stream",
     "text": [
      "   userId  n_ratings\n",
      "0       1        120\n",
      "1       2        105\n",
      "2       3         89\n",
      "3       4        100\n",
      "4       5        107\n"
     ]
    }
   ],
   "source": [
    "user_freq = ratings[['userId', 'movieId']].groupby('userId').count().reset_index()\n",
    "user_freq.columns = ['userId', 'n_ratings']\n",
    "print(user_freq.head())"
   ]
  },
  {
   "cell_type": "markdown",
   "id": "1720273b",
   "metadata": {},
   "source": [
    "Movie Rating Analysis"
   ]
  },
  {
   "cell_type": "code",
   "execution_count": 6,
   "id": "766ac9f6",
   "metadata": {},
   "outputs": [],
   "source": [
    "mean_rating = ratings.groupby('movieId')[['rating']].mean()\n",
    "lowest_rated = mean_rating['rating'].idxmin()\n",
    "movies.loc[movies['movieId'] == lowest_rated]\n",
    "highest_rated = mean_rating['rating'].idxmax()\n",
    "movies.loc[movies['movieId'] == highest_rated]\n",
    "ratings[ratings['movieId']==highest_rated]\n",
    "ratings[ratings['movieId']==lowest_rated]\n",
    "\n",
    "movie_stats = ratings.groupby('movieId')[['rating']].agg(['count', 'mean'])\n",
    "movie_stats.columns = movie_stats.columns.droplevel()"
   ]
  },
  {
   "cell_type": "markdown",
   "id": "a8977305",
   "metadata": {},
   "source": [
    "## User-Item Matrix Creation\n",
    "\n",
    "This block creates a sparse user-item matrix using csr_matrix from scipy. It also generates mappings between user and movie IDs and their corresponding indices for use in the matrix.\n",
    "\n",
    "- csr_matrix: creates a sparse matrix (Compressed Sparse Row) from the user-item ratings data to save memory.\n",
    "- user_mapper and movie_mapper: create dictionaries that map user IDs and movie IDs to indices in the sparse matrix.\n",
    "- user_inv_mapper and movie_inv_mapper: create reverse dictionaries that map matrix indices back to user IDs and movie IDs.\n",
    "- user_index and movie_index: create lists of indices for users and movies from the ratings DataFrame.\n",
    "- X = csr_matrix(...): constructs the sparse user-item matrix X with the given user and movie indices and ratings."
   ]
  },
  {
   "cell_type": "code",
   "execution_count": 7,
   "id": "a8cc40e2",
   "metadata": {},
   "outputs": [],
   "source": [
    "from scipy.sparse import csr_matrix\n",
    "\n",
    "def create_matrix(df):\n",
    "    \n",
    "    N = len(df['userId'].unique())\n",
    "    M = len(df['movieId'].unique())\n",
    " \n",
    "    user_mapper = dict(zip(np.unique(df[\"userId\"]), list(range(N))))\n",
    "    movie_mapper = dict(zip(np.unique(df[\"movieId\"]), list(range(M))))\n",
    " \n",
    "    user_inv_mapper = dict(zip(list(range(N)), np.unique(df[\"userId\"])))\n",
    "    movie_inv_mapper = dict(zip(list(range(M)), np.unique(df[\"movieId\"])))\n",
    "    \n",
    "    user_index = [user_mapper[i] for i in df['userId']]\n",
    "    movie_index = [movie_mapper[i] for i in df['movieId']]\n",
    "\n",
    "    X = csr_matrix((df[\"rating\"], (movie_index, user_index)), shape=(M, N))\n",
    "    \n",
    "    return X, user_mapper, movie_mapper, user_inv_mapper, movie_inv_mapper\n",
    "    \n",
    "X, user_mapper, movie_mapper, user_inv_mapper, movie_inv_mapper = create_matrix(ratings)"
   ]
  },
  {
   "cell_type": "code",
   "execution_count": 8,
   "id": "c269c100",
   "metadata": {},
   "outputs": [
    {
     "data": {
      "text/plain": [
       "<9742x999 sparse matrix of type '<class 'numpy.int64'>'\n",
       "\twith 100333 stored elements in Compressed Sparse Row format>"
      ]
     },
     "execution_count": 8,
     "metadata": {},
     "output_type": "execute_result"
    }
   ],
   "source": [
    "X"
   ]
  },
  {
   "cell_type": "markdown",
   "id": "c3adbbe7",
   "metadata": {},
   "source": [
    "Movie Similarity Analysis"
   ]
  },
  {
   "cell_type": "code",
   "execution_count": 9,
   "id": "ea52b361",
   "metadata": {},
   "outputs": [],
   "source": [
    "from sklearn.neighbors import NearestNeighbors\n",
    "\n",
    "def find_similar_movies(movie_id, X, k, metric='cosine', show_distance=False):\n",
    "    neighbour_ids = []\n",
    "    \n",
    "    if movie_id not in movie_mapper:\n",
    "        print(f\"Movie ID {movie_id} not found in movie_mapper!\")\n",
    "        return []\n",
    "\n",
    "    movie_ind = movie_mapper[movie_id]\n",
    "    movie_vec = X[movie_ind]\n",
    "    k += 1  \n",
    "    kNN = NearestNeighbors(n_neighbors=k, algorithm=\"brute\", metric=metric)\n",
    "    kNN.fit(X)\n",
    "    movie_vec = movie_vec.reshape(1, -1)\n",
    "    neighbour = kNN.kneighbors(movie_vec, return_distance=show_distance)\n",
    "    \n",
    "    for i in range(0, k):\n",
    "        n = neighbour.item(i)\n",
    "        neighbour_ids.append(movie_inv_mapper[n])\n",
    "    \n",
    "    neighbour_ids.pop(0) \n",
    "    return neighbour_ids"
   ]
  },
  {
   "cell_type": "markdown",
   "id": "74b82a42",
   "metadata": {},
   "source": [
    "Movie Recommendation with respect to Users Preference"
   ]
  },
  {
   "cell_type": "code",
   "execution_count": 12,
   "id": "453814bf",
   "metadata": {},
   "outputs": [
    {
     "name": "stdout",
     "output_type": "stream",
     "text": [
      "Since you watched Miller's Crossing (1990), you might also like:\n",
      "Flawless (1999)\n",
      "Lilya 4-Ever (Lilja 4-ever) (2002)\n",
      "Bells of St. Mary's, The (1945)\n",
      "Dark City (1998)\n",
      "Cradle 2 the Grave (2003)\n",
      "Japanese Story (2003)\n"
     ]
    }
   ],
   "source": [
    "def recommend_movies_for_user(user_id, X, user_mapper, movie_mapper, movie_inv_mapper, k=10):\n",
    "    df1 = ratings[ratings['userId'] == user_id]\n",
    "\n",
    "    movie_id = df1[df1['rating'] == max(df1['rating'])]['movieId'].iloc[0]\n",
    "\n",
    "    movie_titles = dict(zip(movies['movieId'], movies['title']))\n",
    "\n",
    "    movie_title = movie_titles[movie_id]\n",
    "\n",
    "    similar_ids = find_similar_movies(movie_id, X, k)\n",
    "\n",
    "    print(f\"Since you watched {movie_title}, you might also like:\")\n",
    "    \n",
    "    for i in similar_ids:\n",
    "        if i in movie_titles:\n",
    "            print(movie_titles[i])\n",
    "\n",
    "user_id = 150 \n",
    "recommend_movies_for_user(user_id, X, user_mapper, movie_mapper, movie_inv_mapper, k=10)\n",
    "\n",
    "    "
   ]
  },
  {
   "cell_type": "code",
   "execution_count": null,
   "id": "3df7753d",
   "metadata": {},
   "outputs": [],
   "source": [
    "from sklearn.neighbors import NearestNeighbors\n",
    "\n",
    "def find_similar_movies(movie_id, X, k, metric='cosine', show_distance=False):\n",
    "    neighbour_ids = []\n",
    "    \n",
    "    if movie_id not in movie_mapper:\n",
    "        print(f\"Movie ID {movie_id} not found in movie_mapper!\")\n",
    "        return []\n",
    "\n",
    "    movie_ind = movie_mapper[movie_id]\n",
    "    movie_vec = X[movie_ind]\n",
    "    k += 1  \n",
    "    kNN = NearestNeighbors(n_neighbors=k, algorithm=\"brute\", metric=metric)\n",
    "    kNN.fit(X)\n",
    "    movie_vec = movie_vec.reshape(1, -1)\n",
    "    neighbour = kNN.kneighbors(movie_vec, return_distance=show_distance)\n",
    "    \n",
    "    for i in range(0, k):\n",
    "        n = neighbour.item(i)\n",
    "        neighbour_ids.append(movie_inv_mapper[n])\n",
    "    \n",
    "    neighbour_ids.pop(0) \n",
    "    return neighbour_ids\n",
    "\n",
    "def recommend_movies_for_user(user_id, X, user_mapper, movie_mapper, movie_inv_mapper, k=10):\n",
    "    df1 = ratings[ratings['userId'] == user_id]\n",
    "\n",
    "    movie_id = df1[df1['rating'] == max(df1['rating'])]['movieId'].iloc[0]\n",
    "\n",
    "    movie_titles = dict(zip(movies['movieId'], movies['title']))\n",
    "\n",
    "    movie_title = movie_titles[movie_id]\n",
    "\n",
    "    similar_ids = find_similar_movies(movie_id, X, k)\n",
    "\n",
    "    print(f\"Since you watched {movie_title}, you might also like:\")\n",
    "    \n",
    "    for i in similar_ids:\n",
    "        if i in movie_titles:\n",
    "            print(movie_titles[i])\n",
    "\n",
    "user_id = 150 \n",
    "recommend_movies_for_user(user_id, X, user_mapper, movie_mapper, movie_inv_mapper, k=10)"
   ]
  }
 ],
 "metadata": {
  "kernelspec": {
   "display_name": "DataMining",
   "language": "python",
   "name": "python3"
  },
  "language_info": {
   "codemirror_mode": {
    "name": "ipython",
    "version": 3
   },
   "file_extension": ".py",
   "mimetype": "text/x-python",
   "name": "python",
   "nbconvert_exporter": "python",
   "pygments_lexer": "ipython3",
   "version": "3.8.20"
  }
 },
 "nbformat": 4,
 "nbformat_minor": 5
}
