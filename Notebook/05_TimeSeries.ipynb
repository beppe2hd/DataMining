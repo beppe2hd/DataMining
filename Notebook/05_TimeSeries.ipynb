{
  "cells": [
    {
      "cell_type": "code",
      "execution_count": 2,
      "metadata": {
        "colab": {},
        "colab_type": "code",
        "id": "cDur3CYiI0mP"
      },
      "outputs": [],
      "source": [
        "import torch\n",
        "#import torchtext\n",
        "#from torch.nn.utils.rnn import pack_padded_sequence, pad_packed_sequence, PackedSequence\n",
        "from torch import nn\n",
        "\n",
        "from torch import Tensor, dot, matmul\n",
        "\n",
        "import torch.nn.functional as F"
      ]
    },
    {
      "cell_type": "markdown",
      "metadata": {
        "colab_type": "text",
        "id": "ZBKTjysMK8oO"
      },
      "source": [
        "## **Basic Example**"
      ]
    },
    {
      "cell_type": "code",
      "execution_count": 5,
      "metadata": {
        "colab": {},
        "colab_type": "code",
        "id": "7Oe7MDxcI3X5"
      },
      "outputs": [],
      "source": [
        "seq = torch.FloatTensor([[26, 27, 31]])  "
      ]
    },
    {
      "cell_type": "code",
      "execution_count": 6,
      "metadata": {},
      "outputs": [
        {
          "data": {
            "text/plain": [
              "tensor([[26., 27., 31.]])"
            ]
          },
          "execution_count": 6,
          "metadata": {},
          "output_type": "execute_result"
        }
      ],
      "source": [
        "seq"
      ]
    },
    {
      "cell_type": "code",
      "execution_count": 9,
      "metadata": {
        "colab": {},
        "colab_type": "code",
        "id": "lddRe7nqJgVW"
      },
      "outputs": [],
      "source": [
        "# Defining a basic RNN layer\n",
        "rnn= nn.RNN(input_size=1, hidden_size=1, num_layers = 1, bias = False, batch_first=True)"
      ]
    },
    {
      "cell_type": "markdown",
      "metadata": {
        "colab_type": "text",
        "id": "EX77IxL-25an"
      },
      "source": [
        "RNN expects input sequences to be in a particular format. By setting batch_first = True, we set the input data format to be 'batch size, sequence length, # input features'"
      ]
    },
    {
      "cell_type": "code",
      "execution_count": 7,
      "metadata": {
        "colab": {
          "base_uri": "https://localhost:8080/",
          "height": 85
        },
        "colab_type": "code",
        "id": "KuCnWNED3KX4",
        "outputId": "d3c4c62c-f818-4d8d-9b86-6b6d7c654486"
      },
      "outputs": [
        {
          "name": "stdout",
          "output_type": "stream",
          "text": [
            "torch.Size([1, 3, 1])\n",
            "tensor([[[26.],\n",
            "         [27.],\n",
            "         [31.]]])\n"
          ]
        }
      ],
      "source": [
        "seq = seq.unsqueeze(2)\n",
        "print(seq.shape)\n",
        "\n",
        "print(seq)"
      ]
    },
    {
      "cell_type": "markdown",
      "metadata": {
        "colab_type": "text",
        "id": "4gI6NOAW3aIu"
      },
      "source": [
        "With the correct input format, we can now pass the input to the RNN layer. The RNN layer provides 2 outputs\n",
        "\n",
        "\n",
        "1.   All hidden states associated with a sequence, for all sequences in the batch\n",
        "2.   Just the very last hidden state for a sequence, for all sequences in the batch\n",
        "\n"
      ]
    },
    {
      "cell_type": "code",
      "execution_count": 10,
      "metadata": {
        "colab": {},
        "colab_type": "code",
        "id": "HP8pV2T8xrMW"
      },
      "outputs": [],
      "source": [
        "out_all,out_last = rnn(seq)"
      ]
    },
    {
      "cell_type": "code",
      "execution_count": 11,
      "metadata": {},
      "outputs": [
        {
          "name": "stdout",
          "output_type": "stream",
          "text": [
            "tensor([[[-0.8136]]], grad_fn=<StackBackward0>)\n"
          ]
        }
      ],
      "source": [
        "#print(out_all)\n",
        "print(out_last)"
      ]
    },
    {
      "cell_type": "code",
      "execution_count": 11,
      "metadata": {
        "colab": {
          "base_uri": "https://localhost:8080/",
          "height": 51
        },
        "colab_type": "code",
        "id": "FWtCjqXQxrPQ",
        "outputId": "18ca37e2-625a-424c-c6d5-548f69d29853"
      },
      "outputs": [
        {
          "name": "stdout",
          "output_type": "stream",
          "text": [
            "Out all shape : torch.Size([1, 3, 1])\n",
            "Out last shape : torch.Size([1, 1, 1])\n"
          ]
        }
      ],
      "source": [
        "print(f\"Out all shape : {out_all.shape}\")\n",
        "\n",
        "print(f\"Out last shape : {out_last.shape}\")\n"
      ]
    },
    {
      "cell_type": "markdown",
      "metadata": {
        "colab_type": "text",
        "id": "NRbfeecb5G7E"
      },
      "source": [
        "There are 2 ways that we can acess the weights of the RNN layer.\n",
        "\n",
        "1.   Accessing individual parameters using their names `weight_hh_10`, `weight_1h_10` and so on.\n",
        "2.   Using the `state_dict()` parameter to access all weights\n",
        "\n",
        "\n",
        "\n"
      ]
    },
    {
      "cell_type": "code",
      "execution_count": 12,
      "metadata": {
        "colab": {
          "base_uri": "https://localhost:8080/",
          "height": 51
        },
        "colab_type": "code",
        "id": "5YXTrz0ixrR-",
        "outputId": "a949e932-4587-41c6-f34d-76554f455bd1"
      },
      "outputs": [
        {
          "data": {
            "text/plain": [
              "Parameter containing:\n",
              "tensor([[-0.5275]], requires_grad=True)"
            ]
          },
          "execution_count": 12,
          "metadata": {},
          "output_type": "execute_result"
        }
      ],
      "source": [
        "rnn.weight_hh_l0"
      ]
    },
    {
      "cell_type": "code",
      "execution_count": 13,
      "metadata": {
        "colab": {
          "base_uri": "https://localhost:8080/",
          "height": 51
        },
        "colab_type": "code",
        "id": "tzJ7N0mQypmU",
        "outputId": "11e49aa5-c8ef-4fe1-cb3a-0727e7d91a1b"
      },
      "outputs": [
        {
          "data": {
            "text/plain": [
              "Parameter containing:\n",
              "tensor([[-0.7317]], requires_grad=True)"
            ]
          },
          "execution_count": 13,
          "metadata": {},
          "output_type": "execute_result"
        }
      ],
      "source": [
        "rnn.weight_ih_l0"
      ]
    },
    {
      "cell_type": "code",
      "execution_count": 14,
      "metadata": {
        "colab": {
          "base_uri": "https://localhost:8080/",
          "height": 51
        },
        "colab_type": "code",
        "id": "Mnlj7_2Iypre",
        "outputId": "ff20a7f6-2975-4219-b01f-5845bb8d3d42"
      },
      "outputs": [
        {
          "data": {
            "text/plain": [
              "OrderedDict([('weight_ih_l0', tensor([[-0.7317]])),\n",
              "             ('weight_hh_l0', tensor([[0.2446]]))])"
            ]
          },
          "execution_count": 14,
          "metadata": {},
          "output_type": "execute_result"
        }
      ],
      "source": [
        "rnn.state_dict()"
      ]
    },
    {
      "cell_type": "markdown",
      "metadata": {
        "colab_type": "text",
        "id": "TS-izlb6zVyY"
      },
      "source": [
        "### **Computing the output**\n",
        "\n",
        "RNN layers essentially take in a sequence and compute outputs for each time point in the input sequence. The weights that are used for computation remain the same for all time points.\n",
        "\n",
        "The basic equation governing the computation is given by :\n",
        "$h_t = \\text{tanh}(W_{ih} x_t + b_{ih} + W_{hh} h_{(t-1)} + b_{hh})$\n",
        "\n",
        "where \n",
        "$h_{t}$ represents the hidden state at time $t$\n",
        "\n",
        "\n",
        "\n",
        "\n",
        "\n",
        "\n"
      ]
    },
    {
      "cell_type": "code",
      "execution_count": null,
      "metadata": {
        "colab": {
          "base_uri": "https://localhost:8080/",
          "height": 68
        },
        "colab_type": "code",
        "id": "5fCC3tAMypww",
        "outputId": "da48120f-4a86-4327-bac7-b3228e999730"
      },
      "outputs": [],
      "source": [
        "# Output states computed by the RNN layer\n",
        "out_all"
      ]
    },
    {
      "cell_type": "markdown",
      "metadata": {
        "colab_type": "text",
        "id": "06R7gLKlGZiv"
      },
      "source": [
        "#### Hidden State 1\n",
        "\n",
        "Note. Since this is the very first state (time = 1) and we dont have a hidden state preceding it, we assumne it be zero. Therefore, $h_{0}$ is taken to be 0."
      ]
    },
    {
      "cell_type": "code",
      "execution_count": 15,
      "metadata": {
        "colab": {
          "base_uri": "https://localhost:8080/",
          "height": 34
        },
        "colab_type": "code",
        "id": "KSaUQQcxxmov",
        "outputId": "1449a37d-da83-4d76-b7df-2209f765c586"
      },
      "outputs": [
        {
          "data": {
            "text/plain": [
              "tensor([[-0.9755]], grad_fn=<TanhBackward0>)"
            ]
          },
          "execution_count": 15,
          "metadata": {},
          "output_type": "execute_result"
        }
      ],
      "source": [
        "wih = rnn.weight_ih_l0\n",
        "whh = rnn.weight_hh_l0\n",
        "\n",
        "x = seq[0][0] # The first input feature of the first sequence\n",
        "\n",
        "# Computing thw hidden state for time = 1\n",
        "h1 = torch.tanh(Tensor(x*wih + whh*0))  \n",
        "h1"
      ]
    },
    {
      "cell_type": "markdown",
      "metadata": {
        "colab_type": "text",
        "id": "2R4w-kU2HJel"
      },
      "source": [
        "#### Hidden State 2"
      ]
    },
    {
      "cell_type": "code",
      "execution_count": 16,
      "metadata": {
        "colab": {
          "base_uri": "https://localhost:8080/",
          "height": 34
        },
        "colab_type": "code",
        "id": "hBXoxmB4Gx2b",
        "outputId": "da2fe9ee-2556-40f4-cd20-376dd4a178a9"
      },
      "outputs": [
        {
          "data": {
            "text/plain": [
              "tensor([[-0.9964]], grad_fn=<TanhBackward0>)"
            ]
          },
          "execution_count": 16,
          "metadata": {},
          "output_type": "execute_result"
        }
      ],
      "source": [
        "x = seq[0][1] # The second input feature of the first sequence\n",
        "\n",
        "h2 = torch.tanh(Tensor(x*wih + whh*h1))  \n",
        "h2"
      ]
    },
    {
      "cell_type": "markdown",
      "metadata": {
        "colab_type": "text",
        "id": "UDS5goTXH5GC"
      },
      "source": [
        "#### Hidden State 3"
      ]
    },
    {
      "cell_type": "code",
      "execution_count": 17,
      "metadata": {
        "colab": {
          "base_uri": "https://localhost:8080/",
          "height": 34
        },
        "colab_type": "code",
        "id": "YrfLNgZ_xpg8",
        "outputId": "ccf84379-36d6-4388-ea16-d8f13ce10453"
      },
      "outputs": [
        {
          "data": {
            "text/plain": [
              "tensor([[-0.9992]], grad_fn=<TanhBackward0>)"
            ]
          },
          "execution_count": 17,
          "metadata": {},
          "output_type": "execute_result"
        }
      ],
      "source": [
        "x = seq[0][2] # The third and last input feature of the first sequence\n",
        "\n",
        "h3 = torch.tanh(Tensor(x*wih + whh*h2))  \n",
        "h3"
      ]
    },
    {
      "cell_type": "markdown",
      "metadata": {
        "colab_type": "text",
        "id": "-qT5cbT8IBEE"
      },
      "source": [
        "We can observe that :\n",
        "\n",
        "\n",
        "1.   RNN does a very basic computation repeatedly on all features of the given sequence\n",
        "2.   The output at a particular time stamp depends on the outputs at a previous time stamp\n",
        "\n"
      ]
    },
    {
      "cell_type": "markdown",
      "metadata": {
        "colab_type": "text",
        "id": "oozJlmMCIuyt"
      },
      "source": [
        "## **Adding more features**"
      ]
    },
    {
      "cell_type": "markdown",
      "metadata": {
        "colab_type": "text",
        "id": "Vb_DnIbZI6L4"
      },
      "source": [
        "We increase the complexity of the RNN computation by increasing the number of features at each sequence time stamp. Previously, each time stamp was represented by a single value. Now, we expand that to be represented by a feature vector"
      ]
    },
    {
      "cell_type": "code",
      "execution_count": 19,
      "metadata": {
        "colab": {
          "base_uri": "https://localhost:8080/",
          "height": 34
        },
        "colab_type": "code",
        "id": "7hdexyf305N3",
        "outputId": "7cdac644-c2ea-4a8d-cbb4-434b6ee456cf"
      },
      "outputs": [
        {
          "data": {
            "text/plain": [
              "torch.Size([1, 4, 3])"
            ]
          },
          "execution_count": 19,
          "metadata": {},
          "output_type": "execute_result"
        }
      ],
      "source": [
        "seq = Tensor([[23,97,1.3],[25,85,1.4],[30,57,1.7], [29,87,1.1]])\n",
        "\n",
        "seq = seq.unsqueeze(0)\n",
        "\n",
        "seq.shape"
      ]
    },
    {
      "cell_type": "code",
      "execution_count": 20,
      "metadata": {},
      "outputs": [
        {
          "data": {
            "text/plain": [
              "tensor([[[23.0000, 97.0000,  1.3000],\n",
              "         [25.0000, 85.0000,  1.4000],\n",
              "         [30.0000, 57.0000,  1.7000],\n",
              "         [29.0000, 87.0000,  1.1000]]])"
            ]
          },
          "execution_count": 20,
          "metadata": {},
          "output_type": "execute_result"
        }
      ],
      "source": [
        "seq"
      ]
    },
    {
      "cell_type": "markdown",
      "metadata": {
        "colab_type": "text",
        "id": "_W-hZ7OAJddV"
      },
      "source": [
        "The `seq` variable represents a sequence of length 4, where each element (time-stamp) is represented by a feature vector of length 3.\n",
        "\n",
        "We next define a RNN layer where we set `input_size` to be 3. This time, we also set `bias` to be True, so that we include a bias term in our calculations"
      ]
    },
    {
      "cell_type": "code",
      "execution_count": 17,
      "metadata": {
        "colab": {},
        "colab_type": "code",
        "id": "UoUZona7zzVM"
      },
      "outputs": [],
      "source": [
        "# Defining a basic RNN layer\n",
        "rnn= nn.RNN(input_size=3, hidden_size=1, num_layers = 1, bias = True, batch_first=True)"
      ]
    },
    {
      "cell_type": "code",
      "execution_count": 18,
      "metadata": {
        "colab": {
          "base_uri": "https://localhost:8080/",
          "height": 51
        },
        "colab_type": "code",
        "id": "Z8Td-U4cJVBU",
        "outputId": "8c595ef9-6f24-4d41-9fa9-eab35906d00a"
      },
      "outputs": [
        {
          "name": "stdout",
          "output_type": "stream",
          "text": [
            "Out last shape : torch.Size([1, 1, 1])\n"
          ]
        }
      ],
      "source": [
        "out_all, out_last = rnn(seq)\n",
        "\n",
        "#print(f\"Out all shape : {out_all.shape}\")\n",
        "\n",
        "print(f\"Out last shape : {out_last.shape}\")"
      ]
    },
    {
      "cell_type": "markdown",
      "metadata": {
        "colab_type": "text",
        "id": "LeIHQJvmKNGb"
      },
      "source": [
        "### **Computing outputs**"
      ]
    },
    {
      "cell_type": "code",
      "execution_count": 24,
      "metadata": {
        "colab": {
          "base_uri": "https://localhost:8080/",
          "height": 85
        },
        "colab_type": "code",
        "id": "gTeW0CvLJVln",
        "outputId": "c0eab165-5ed0-4542-be77-7df9da4a6477"
      },
      "outputs": [
        {
          "data": {
            "text/plain": [
              "tensor([[[ 0.1439],\n",
              "         [-0.0213],\n",
              "         [ 0.7185],\n",
              "         [-0.5435]]], grad_fn=<TransposeBackward1>)"
            ]
          },
          "execution_count": 24,
          "metadata": {},
          "output_type": "execute_result"
        }
      ],
      "source": [
        "out_all"
      ]
    },
    {
      "cell_type": "markdown",
      "metadata": {
        "colab_type": "text",
        "id": "7gvu8TWsLFfc"
      },
      "source": [
        "#### Hidden State 1\n",
        "\n",
        "A minor modification compared to the previous code is that we will be using dot multiplication to multiply $x$ with $W_{ih}$ and $h_{t-1}$ with $W_{hh}$."
      ]
    },
    {
      "cell_type": "code",
      "execution_count": 28,
      "metadata": {},
      "outputs": [
        {
          "data": {
            "text/plain": [
              "tensor([1., 1., 1.])"
            ]
          },
          "execution_count": 28,
          "metadata": {},
          "output_type": "execute_result"
        }
      ],
      "source": [
        "seq[0][0]"
      ]
    },
    {
      "cell_type": "code",
      "execution_count": 29,
      "metadata": {
        "colab": {
          "base_uri": "https://localhost:8080/",
          "height": 34
        },
        "colab_type": "code",
        "id": "gfd3RJyqKRtk",
        "outputId": "c4a7cd0e-c1e5-41c5-d8a6-abd866c4c848"
      },
      "outputs": [
        {
          "data": {
            "text/plain": [
              "tensor([0.1439], grad_fn=<TanhBackward0>)"
            ]
          },
          "execution_count": 29,
          "metadata": {},
          "output_type": "execute_result"
        }
      ],
      "source": [
        "wih = rnn.weight_ih_l0.squeeze(0)\n",
        "whh = rnn.weight_hh_l0.squeeze(0)\n",
        "\n",
        "bih = rnn.bias_ih_l0\n",
        "bhh = rnn.bias_hh_l0\n",
        "\n",
        "x = seq[0][0] # The first input feature of the first sequence\n",
        "\n",
        "# Computing thw hidden state for time = 1\n",
        "h1 = torch.tanh(Tensor(dot(x,wih) + bih  + dot(whh,Tensor([0.0])) + bhh))  \n",
        "h1"
      ]
    },
    {
      "cell_type": "code",
      "execution_count": 35,
      "metadata": {},
      "outputs": [
        {
          "data": {
            "text/plain": [
              "tensor([-0.9790], grad_fn=<SqueezeBackward1>)"
            ]
          },
          "execution_count": 35,
          "metadata": {},
          "output_type": "execute_result"
        }
      ],
      "source": [
        "whh"
      ]
    },
    {
      "cell_type": "markdown",
      "metadata": {
        "colab_type": "text",
        "id": "QuVbCEfkNePG"
      },
      "source": [
        "#### Hidden State 2"
      ]
    },
    {
      "cell_type": "code",
      "execution_count": 37,
      "metadata": {
        "colab": {
          "base_uri": "https://localhost:8080/",
          "height": 34
        },
        "colab_type": "code",
        "id": "KJ1hqR6YLO68",
        "outputId": "fc586f67-63fd-4f90-d420-a8dbf6136a0b"
      },
      "outputs": [
        {
          "data": {
            "text/plain": [
              "tensor([-0.0213], grad_fn=<TanhBackward0>)"
            ]
          },
          "execution_count": 37,
          "metadata": {},
          "output_type": "execute_result"
        }
      ],
      "source": [
        "x = seq[0][1] # The first input feature of the first sequence\n",
        "\n",
        "# Computing thw hidden state for time = 1\n",
        "h2 = torch.tanh(Tensor(dot(x,wih) + bih  + dot(h1,whh) + bhh))  \n",
        "h2"
      ]
    },
    {
      "cell_type": "markdown",
      "metadata": {
        "colab_type": "text",
        "id": "uTwgghljPJiS"
      },
      "source": [
        "#### Computing all states\n",
        "\n",
        "We automate the manual computation of hidden states to verify our computation matches with the RNN layer output"
      ]
    },
    {
      "cell_type": "code",
      "execution_count": 38,
      "metadata": {
        "colab": {},
        "colab_type": "code",
        "id": "o9BJrOrLNyld"
      },
      "outputs": [],
      "source": [
        "output = []\n",
        "\n",
        "h_previous = Tensor([0.0])\n",
        "\n",
        "for i in range(seq.shape[1]):\n",
        "\n",
        "  if i == 0:\n",
        "    x = seq[0][i]\n",
        "    h_current = torch.tanh(Tensor(dot(x,wih) + bih  + dot(h_previous,whh) + bhh))\n",
        "    h_previous = h_current\n",
        "    output.append(h_current.detach().numpy())\n",
        "\n",
        "  else:\n",
        "    x = seq[0][i]\n",
        "    h_current = torch.tanh(Tensor(dot(x,wih) + bih  + dot(h_previous,whh) + bhh))\n",
        "    h_previous = h_current\n",
        "    output.append(h_current.detach().numpy())\n",
        "\n"
      ]
    },
    {
      "cell_type": "code",
      "execution_count": 39,
      "metadata": {
        "colab": {
          "base_uri": "https://localhost:8080/",
          "height": 85
        },
        "colab_type": "code",
        "id": "SQka48mALbB-",
        "outputId": "426d8988-3e58-4194-8e59-3d4f6cc6f1bd"
      },
      "outputs": [
        {
          "data": {
            "text/plain": [
              "[array([0.14390633], dtype=float32),\n",
              " array([-0.02130448], dtype=float32),\n",
              " array([0.718476], dtype=float32),\n",
              " array([-0.54353434], dtype=float32)]"
            ]
          },
          "execution_count": 39,
          "metadata": {},
          "output_type": "execute_result"
        }
      ],
      "source": [
        "output"
      ]
    },
    {
      "cell_type": "markdown",
      "metadata": {
        "colab_type": "text",
        "id": "YGZPYLGqPwKu"
      },
      "source": [
        "## **Increasing Hidden Size**\n",
        "\n",
        "Till now, we had `hidden_size` parameter fixed at 1. We increase this value and see how it affects the RNN computation"
      ]
    },
    {
      "cell_type": "code",
      "execution_count": 40,
      "metadata": {
        "colab": {},
        "colab_type": "code",
        "id": "7beddyCKMI0e"
      },
      "outputs": [],
      "source": [
        "# Defining the RNN layer\n",
        "rnn= nn.RNN(input_size=3, hidden_size=2, num_layers = 1, bias = True, batch_first=True)"
      ]
    },
    {
      "cell_type": "code",
      "execution_count": 41,
      "metadata": {
        "colab": {
          "base_uri": "https://localhost:8080/",
          "height": 51
        },
        "colab_type": "code",
        "id": "YltCLVvGPq2y",
        "outputId": "15beddf5-867e-4888-a46d-61fbbf9147ec"
      },
      "outputs": [
        {
          "name": "stdout",
          "output_type": "stream",
          "text": [
            "Out all shape : torch.Size([1, 4, 2])\n",
            "Out last shape : torch.Size([1, 1, 2])\n"
          ]
        }
      ],
      "source": [
        "out_all, out_last = rnn(seq)\n",
        "\n",
        "print(f\"Out all shape : {out_all.shape}\")\n",
        "\n",
        "print(f\"Out last shape : {out_last.shape}\")"
      ]
    },
    {
      "cell_type": "markdown",
      "metadata": {
        "colab_type": "text",
        "id": "BjOUtG4IQHwF"
      },
      "source": [
        "We can see from the output shape that the size of the hidden states has increased to 2, corresponding to the increase in the `hidden_size` parameter to 2"
      ]
    },
    {
      "cell_type": "code",
      "execution_count": 42,
      "metadata": {
        "colab": {
          "base_uri": "https://localhost:8080/",
          "height": 119
        },
        "colab_type": "code",
        "id": "BBF4abj1QFlj",
        "outputId": "fcd0967b-e8f1-4876-b132-20a7b7fbbd2c"
      },
      "outputs": [
        {
          "data": {
            "text/plain": [
              "OrderedDict([('weight_ih_l0',\n",
              "              tensor([[ 0.2481, -0.2421,  0.3777],\n",
              "                      [ 0.1484, -0.4255,  0.4699]])),\n",
              "             ('weight_hh_l0',\n",
              "              tensor([[-0.2449,  0.1648],\n",
              "                      [-0.6750,  0.1895]])),\n",
              "             ('bias_ih_l0', tensor([-0.4573,  0.4712])),\n",
              "             ('bias_hh_l0', tensor([ 0.4291, -0.6638]))])"
            ]
          },
          "execution_count": 42,
          "metadata": {},
          "output_type": "execute_result"
        }
      ],
      "source": [
        "rnn.state_dict()"
      ]
    },
    {
      "cell_type": "markdown",
      "metadata": {
        "colab_type": "text",
        "id": "qzBpIPL6Qgma"
      },
      "source": [
        "Similarly, the RNN layer weight shapes have also changed in response to the new `hidden_size` parameter value"
      ]
    },
    {
      "cell_type": "markdown",
      "metadata": {
        "colab_type": "text",
        "id": "GfBfGgHqQspJ"
      },
      "source": [
        "### **Computing outputs**\n",
        "\n",
        "On increasing the `hidden_size` parameter to 2, we are essentially increase the size of the hidden states computed for each time-stamp. This essentially allows the hidden states to be more expressive and store more information."
      ]
    },
    {
      "cell_type": "code",
      "execution_count": null,
      "metadata": {
        "colab": {
          "base_uri": "https://localhost:8080/",
          "height": 85
        },
        "colab_type": "code",
        "id": "AXR_kikRQcDY",
        "outputId": "47015727-1810-4344-a810-8a1126dcfff0"
      },
      "outputs": [],
      "source": [
        "out_all"
      ]
    },
    {
      "cell_type": "markdown",
      "metadata": {
        "colab_type": "text",
        "id": "KplxNUTUQxLB"
      },
      "source": [
        "#### Hidden State 1"
      ]
    },
    {
      "cell_type": "code",
      "execution_count": null,
      "metadata": {
        "colab": {
          "base_uri": "https://localhost:8080/",
          "height": 34
        },
        "colab_type": "code",
        "id": "lNkHKDhuQvly",
        "outputId": "6028520d-2090-4420-a535-6e9601b49de2"
      },
      "outputs": [],
      "source": [
        "wih = rnn.weight_ih_l0\n",
        "whh = rnn.weight_hh_l0\n",
        "\n",
        "bih = rnn.bias_ih_l0\n",
        "bhh = rnn.bias_hh_l0\n",
        "\n",
        "x = seq[0][0] # The first input feature of the first sequence\n",
        "\n",
        "# Computing thw hidden state for time = 1\n",
        "h1 = torch.tanh(Tensor(matmul(x,wih.T) + bih  + matmul( torch.zeros([1,2]) , whh.T ) + bhh))  \n",
        "h1"
      ]
    },
    {
      "cell_type": "markdown",
      "metadata": {
        "colab_type": "text",
        "id": "leF2yiADSlmE"
      },
      "source": [
        "#### Computing for all states"
      ]
    },
    {
      "cell_type": "code",
      "execution_count": 0,
      "metadata": {
        "colab": {},
        "colab_type": "code",
        "id": "1sZsLPr0S0u3"
      },
      "outputs": [],
      "source": [
        "output = []\n",
        "\n",
        "h_previous = torch.zeros([1,2])  # Since the hidden_size parameter is 2, all hidden states will have a shape of [1,2]\n",
        "\n",
        "for i in range(seq.shape[1]):\n",
        "\n",
        "  x = seq[0][i]\n",
        "  h_current = torch.tanh(Tensor(matmul(x,wih.T) + bih  + matmul(h_previous,whh.T) + bhh))\n",
        "  h_previous = h_current\n",
        "  output.append(h_current)\n",
        "\n",
        "\n"
      ]
    },
    {
      "cell_type": "code",
      "execution_count": null,
      "metadata": {
        "colab": {
          "base_uri": "https://localhost:8080/",
          "height": 85
        },
        "colab_type": "code",
        "id": "1dpQMVyNRK3m",
        "outputId": "7aa9d167-a8ff-4b74-fec4-1109f7bb2b64"
      },
      "outputs": [],
      "source": [
        "output"
      ]
    },
    {
      "cell_type": "markdown",
      "metadata": {
        "colab_type": "text",
        "id": "gxiu3OeWy82W"
      },
      "source": [
        "## **Stacked RNNs**"
      ]
    },
    {
      "cell_type": "code",
      "execution_count": 0,
      "metadata": {
        "colab": {},
        "colab_type": "code",
        "id": "5X-sRoHRwT_t"
      },
      "outputs": [],
      "source": [
        "# Defining the RNN layer\n",
        "rnn= nn.RNN(input_size=3, hidden_size=3, num_layers = 2, bias = True, batch_first=True, bidirectional=False)"
      ]
    },
    {
      "cell_type": "code",
      "execution_count": null,
      "metadata": {
        "colab": {
          "base_uri": "https://localhost:8080/",
          "height": 51
        },
        "colab_type": "code",
        "id": "Uw_LFS22zIdJ",
        "outputId": "23eeb0a9-876b-4587-cdab-64f8fcc49284"
      },
      "outputs": [],
      "source": [
        "out_all, out_last = rnn(seq)\n",
        "\n",
        "print(f\"Out all shape : {out_all.shape}\")\n",
        "\n",
        "print(f\"Out last shape : {out_last.shape}\")"
      ]
    },
    {
      "cell_type": "code",
      "execution_count": null,
      "metadata": {
        "colab": {
          "base_uri": "https://localhost:8080/",
          "height": 85
        },
        "colab_type": "code",
        "id": "L1IJ49-3zOC0",
        "outputId": "3db5077a-4dd6-476f-f200-b8b9f0c78f6d"
      },
      "outputs": [],
      "source": [
        "out_all"
      ]
    },
    {
      "cell_type": "code",
      "execution_count": null,
      "metadata": {
        "colab": {
          "base_uri": "https://localhost:8080/",
          "height": 68
        },
        "colab_type": "code",
        "id": "hfw_S7AEzTYS",
        "outputId": "793109ba-e910-4e8a-f090-b1d5354bd6a7"
      },
      "outputs": [],
      "source": [
        "out_last"
      ]
    },
    {
      "cell_type": "code",
      "execution_count": null,
      "metadata": {
        "colab": {
          "base_uri": "https://localhost:8080/",
          "height": 289
        },
        "colab_type": "code",
        "id": "nWfdQczczVBs",
        "outputId": "56fe11ac-2684-4ae8-c7f9-0f84ad563e8f"
      },
      "outputs": [],
      "source": [
        "rnn.state_dict()"
      ]
    },
    {
      "cell_type": "markdown",
      "metadata": {
        "colab_type": "text",
        "id": "eriCaO5VzjPe"
      },
      "source": [
        "### **Computing Outputs - Layer 1**"
      ]
    },
    {
      "cell_type": "code",
      "execution_count": null,
      "metadata": {
        "colab": {
          "base_uri": "https://localhost:8080/",
          "height": 85
        },
        "colab_type": "code",
        "id": "e5PpKyp7zceP",
        "outputId": "1d0f777f-1b4b-4499-e6c8-866b05d711a4"
      },
      "outputs": [],
      "source": [
        "# Extracting the weights for RNN Layer 1\n",
        "wih_10 = rnn.weight_ih_l0\n",
        "whh_10 = rnn.weight_hh_l0\n",
        "\n",
        "bih_10 = rnn.bias_ih_l0\n",
        "bhh_10 = rnn.bias_hh_l0\n",
        "\n",
        "output_1 = []\n",
        "\n",
        "h_previous = torch.zeros([1,3])  # Since the hidden_size parameter is 3, all hidden states will have a shape of [1,3]\n",
        "\n",
        "for i in range(seq.shape[1]):\n",
        "\n",
        "  x = seq[0][i]\n",
        "  h_current = torch.tanh(Tensor(matmul(x,wih_10.T) + bih_10  + matmul(h_previous,whh_10.T) + bhh_10))\n",
        "  h_previous = h_current\n",
        "  output_1.append(h_current)\n",
        "\n",
        "output_1"
      ]
    },
    {
      "cell_type": "markdown",
      "metadata": {
        "colab_type": "text",
        "id": "7_V4L8jX0iAS"
      },
      "source": [
        "### **Computing Outputs - Layer 2**"
      ]
    },
    {
      "cell_type": "code",
      "execution_count": null,
      "metadata": {
        "colab": {
          "base_uri": "https://localhost:8080/",
          "height": 85
        },
        "colab_type": "code",
        "id": "NDiktTrC0MeV",
        "outputId": "dcef8a79-b7a8-4b9c-dd79-13455120e191"
      },
      "outputs": [],
      "source": [
        "# Extracting the weights for RNN Layer 1\n",
        "wih_11 = rnn.weight_ih_l1\n",
        "whh_11 = rnn.weight_hh_l1\n",
        "\n",
        "bih_11 = rnn.bias_ih_l1\n",
        "bhh_11 = rnn.bias_hh_l1\n",
        "\n",
        "output_2 = []\n",
        "\n",
        "h_previous = torch.zeros([1,3]) # Since the hidden_size parameter is 2, all hidden states will have a shape of [1,2]\n",
        "\n",
        "for i in range(seq.shape[1]):\n",
        "  \n",
        "  x = seq[0][i]\n",
        "  h_current = torch.tanh(Tensor(matmul(output_1[i],wih_11.T) + bih_11  + matmul(h_previous,whh_11.T) + bhh_11))\n",
        "  h_previous = h_current\n",
        "  output_2.append(h_current)\n",
        "\n",
        "output_2"
      ]
    },
    {
      "cell_type": "code",
      "execution_count": null,
      "metadata": {
        "colab": {
          "base_uri": "https://localhost:8080/",
          "height": 85
        },
        "colab_type": "code",
        "id": "_nx4VyeH0Ps2",
        "outputId": "cc562e28-0d56-49ba-c6ba-8aa750977e8c"
      },
      "outputs": [],
      "source": [
        "out_all"
      ]
    },
    {
      "cell_type": "code",
      "execution_count": null,
      "metadata": {
        "colab": {
          "base_uri": "https://localhost:8080/",
          "height": 68
        },
        "colab_type": "code",
        "id": "wAk-XTe609qc",
        "outputId": "2e3cbbc5-b842-4291-af60-9d4abc5d102f"
      },
      "outputs": [],
      "source": [
        "out_last"
      ]
    },
    {
      "cell_type": "markdown",
      "metadata": {
        "colab_type": "text",
        "id": "SuTlDycgK6Pd"
      },
      "source": [
        "## **Expanding to GRUs**"
      ]
    },
    {
      "cell_type": "code",
      "execution_count": 43,
      "metadata": {
        "colab": {},
        "colab_type": "code",
        "id": "xd1YPWwRCuD-"
      },
      "outputs": [],
      "source": [
        "# Defining a basic GRU layer\n",
        "gru = nn.GRU(input_size=3, hidden_size=1, num_layers = 1, bias = True, batch_first=True)"
      ]
    },
    {
      "cell_type": "markdown",
      "metadata": {
        "colab_type": "text",
        "id": "AZeh-BIvLa6d"
      },
      "source": [
        "\\begin{array}{ll}\n",
        " |          r_t = \\sigma(W_{ir} x_t + b_{ir} + W_{hr} h_{(t-1)} + b_{hr}) \\\\\n",
        " |          z_t = \\sigma(W_{iz} x_t + b_{iz} + W_{hz} h_{(t-1)} + b_{hz}) \\\\\n",
        " |          n_t = \\tanh(W_{in} x_t + b_{in} + r_t * (W_{hn} h_{(t-1)}+ b_{hn})) \\\\\n",
        " |          h_t = (1 - z_t) * n_t + z_t * h_{(t-1)}\n",
        " |      \\end{array}"
      ]
    },
    {
      "cell_type": "code",
      "execution_count": 44,
      "metadata": {
        "colab": {
          "base_uri": "https://localhost:8080/",
          "height": 153
        },
        "colab_type": "code",
        "id": "-KK119z-LHSC",
        "outputId": "d96d9d5d-a45c-45c8-c949-c9eb3d72d6b8"
      },
      "outputs": [
        {
          "data": {
            "text/plain": [
              "OrderedDict([('weight_ih_l0',\n",
              "              tensor([[-0.3176, -0.1480,  0.4737],\n",
              "                      [ 0.4395,  0.5387,  0.0475],\n",
              "                      [ 0.0298, -0.4959,  0.3168]])),\n",
              "             ('weight_hh_l0',\n",
              "              tensor([[ 0.9766],\n",
              "                      [-0.5660],\n",
              "                      [-0.0268]])),\n",
              "             ('bias_ih_l0', tensor([0.8314, 0.6171, 0.1580])),\n",
              "             ('bias_hh_l0', tensor([ 0.2155, -0.8791, -0.3222]))])"
            ]
          },
          "execution_count": 44,
          "metadata": {},
          "output_type": "execute_result"
        }
      ],
      "source": [
        "gru.state_dict()"
      ]
    },
    {
      "cell_type": "code",
      "execution_count": 45,
      "metadata": {
        "colab": {
          "base_uri": "https://localhost:8080/",
          "height": 51
        },
        "colab_type": "code",
        "id": "31f136u1LXl4",
        "outputId": "ffda461a-c34c-4e67-d9e1-823a1042f276"
      },
      "outputs": [
        {
          "name": "stdout",
          "output_type": "stream",
          "text": [
            "Out all shape : torch.Size([1, 4, 1])\n",
            "Out last shape : torch.Size([1, 1, 1])\n"
          ]
        }
      ],
      "source": [
        "out_all, out_last = gru(seq)\n",
        "\n",
        "print(f\"Out all shape : {out_all.shape}\")\n",
        "\n",
        "print(f\"Out last shape : {out_last.shape}\")"
      ]
    },
    {
      "cell_type": "markdown",
      "metadata": {
        "colab_type": "text",
        "id": "t119wqk4c2co"
      },
      "source": [
        "### Extracting layer weights"
      ]
    },
    {
      "cell_type": "code",
      "execution_count": 47,
      "metadata": {
        "colab": {},
        "colab_type": "code",
        "id": "vYXEqZNNc7nb"
      },
      "outputs": [],
      "source": [
        "wir_10 = gru.weight_ih_l0[0,:].squeeze(0)\n",
        "wiz_10 = gru.weight_ih_l0[1,:].squeeze(0)\n",
        "win_10 = gru.weight_ih_l0[2,:].squeeze(0)\n",
        "\n",
        "whr_10 = gru.weight_hh_l0[0]\n",
        "whz_10 = gru.weight_hh_l0[1]\n",
        "whn_10 = gru.weight_hh_l0[2]\n",
        "\n",
        "bir_10 = gru.bias_ih_l0[0]\n",
        "biz_10 = gru.bias_ih_l0[1]\n",
        "bin_10 = gru.bias_ih_l0[2]\n",
        "\n",
        "bhr_10 = gru.bias_hh_l0[0]\n",
        "bhz_10 = gru.bias_hh_l0[1]\n",
        "bhn_10 = gru.bias_hh_l0[2]"
      ]
    },
    {
      "cell_type": "markdown",
      "metadata": {
        "colab_type": "text",
        "id": "H-uHVX-JPury"
      },
      "source": [
        "### **Computing outputs**"
      ]
    },
    {
      "cell_type": "markdown",
      "metadata": {
        "colab_type": "text",
        "id": "e32msdTGdFtG"
      },
      "source": [
        "#### Hidden State 1"
      ]
    },
    {
      "cell_type": "code",
      "execution_count": null,
      "metadata": {
        "colab": {
          "base_uri": "https://localhost:8080/",
          "height": 34
        },
        "colab_type": "code",
        "id": "K77ytWraMkwI",
        "outputId": "3e584fa4-4189-46f1-8e0e-b08bf8c14cb1"
      },
      "outputs": [],
      "source": [
        "x = seq[0][0]\n",
        "\n",
        "h_previous = torch.Tensor([0.0])\n",
        "\n",
        "r = torch.sigmoid(dot(x,wir_10) + bir_10  + dot(h_previous,whr_10) + bhr_10  )\n",
        "z = torch.sigmoid(dot(x,wiz_10) + biz_10  + dot(h_previous,whz_10) + bhz_10  )\n",
        "n = torch.tanh(   dot(x,win_10) + bin_10  + r*( dot(h_previous,whn_10) + bhn_10) )\n",
        "h1 = (1-z)*n + z*h_previous\n",
        "\n",
        "h1"
      ]
    },
    {
      "cell_type": "markdown",
      "metadata": {
        "colab_type": "text",
        "id": "W3_xcIJPdIHf"
      },
      "source": [
        "#### Hidden State 2"
      ]
    },
    {
      "cell_type": "code",
      "execution_count": null,
      "metadata": {
        "colab": {
          "base_uri": "https://localhost:8080/",
          "height": 34
        },
        "colab_type": "code",
        "id": "FghkzHo0dKaH",
        "outputId": "c5a1d5bd-1ff8-4bfb-9f92-02c64f26e21a"
      },
      "outputs": [],
      "source": [
        "x = seq[0][1]\n",
        "\n",
        "h_previous = h1\n",
        "\n",
        "r = torch.sigmoid(dot(x,wir_10) + bir_10  + dot(h_previous,whr_10) + bhr_10  )\n",
        "z = torch.sigmoid(dot(x,wiz_10) + biz_10  + dot(h_previous,whz_10) + bhz_10  )\n",
        "n = torch.tanh(   dot(x,win_10) + bin_10  + r*( dot(h_previous,whn_10) + bhn_10) )\n",
        "h2 = (1-z)*n + z*h_previous\n",
        "\n",
        "h2"
      ]
    },
    {
      "cell_type": "markdown",
      "metadata": {
        "colab_type": "text",
        "id": "mKsgPTlEdOUG"
      },
      "source": [
        "#### Hidden State 3"
      ]
    },
    {
      "cell_type": "code",
      "execution_count": null,
      "metadata": {
        "colab": {
          "base_uri": "https://localhost:8080/",
          "height": 34
        },
        "colab_type": "code",
        "id": "9U40nzdedQDI",
        "outputId": "5349b1da-5d60-45f2-ed4b-4f6c53739d08"
      },
      "outputs": [],
      "source": [
        "x = seq[0][2]\n",
        "\n",
        "h_previous = h2\n",
        "\n",
        "r = torch.sigmoid(dot(x,wir_10) + bir_10  + dot(h_previous,whr_10) + bhr_10  )\n",
        "z = torch.sigmoid(dot(x,wiz_10) + biz_10  + dot(h_previous,whz_10) + bhz_10  )\n",
        "n = torch.tanh(   dot(x,win_10) + bin_10  + r*( dot(h_previous,whn_10) + bhn_10) )\n",
        "h3 = (1-z)*n + z*h_previous\n",
        "\n",
        "h3"
      ]
    },
    {
      "cell_type": "code",
      "execution_count": null,
      "metadata": {
        "colab": {
          "base_uri": "https://localhost:8080/",
          "height": 85
        },
        "colab_type": "code",
        "id": "GrED4DnLZE2E",
        "outputId": "ef68a70a-05d2-45ce-9d5f-03f237ecabdd"
      },
      "outputs": [],
      "source": [
        "out_all"
      ]
    },
    {
      "cell_type": "markdown",
      "metadata": {
        "colab_type": "text",
        "id": "CafWoN6ZdXQc"
      },
      "source": [
        "## **Extending to LSTMs**"
      ]
    },
    {
      "cell_type": "code",
      "execution_count": 48,
      "metadata": {
        "colab": {},
        "colab_type": "code",
        "id": "q9xiE-PWZE4v"
      },
      "outputs": [],
      "source": [
        "# Defining a basic LSTM layer\n",
        "lstm = nn.LSTM(input_size=3, hidden_size=1, num_layers = 1, bias = True, batch_first=True)"
      ]
    },
    {
      "cell_type": "markdown",
      "metadata": {
        "colab_type": "text",
        "id": "ubM3B6wzdnhA"
      },
      "source": [
        "\\begin{array}{ll} \\\\\n",
        " |          i_t = \\sigma(W_{ii} x_t + b_{ii} + W_{hi} h_{(t-1)} + b_{hi}) \\\\\n",
        " |          f_t = \\sigma(W_{if} x_t + b_{if} + W_{hf} h_{(t-1)} + b_{hf}) \\\\\n",
        " |          g_t = \\tanh(W_{ig} x_t + b_{ig} + W_{hg} h_{(t-1)} + b_{hg}) \\\\\n",
        " |          o_t = \\sigma(W_{io} x_t + b_{io} + W_{ho} h_{(t-1)} + b_{ho}) \\\\\n",
        " |          c_t = f_t * c_{(t-1)} + i_t * g_t \\\\\n",
        " |          h_t = o_t * \\tanh(c_t) \\\\\n",
        " |      \\end{array}"
      ]
    },
    {
      "cell_type": "code",
      "execution_count": 49,
      "metadata": {
        "colab": {
          "base_uri": "https://localhost:8080/",
          "height": 187
        },
        "colab_type": "code",
        "id": "1AGCGTz3d4Bo",
        "outputId": "3b1d3f93-8463-4f7b-81a6-b10fb5d12f6b"
      },
      "outputs": [
        {
          "data": {
            "text/plain": [
              "OrderedDict([('weight_ih_l0',\n",
              "              tensor([[-0.8383, -0.4427,  0.4031],\n",
              "                      [ 0.6026, -0.1456,  0.4684],\n",
              "                      [-0.6922,  0.1373,  0.8569],\n",
              "                      [-0.3388, -0.3505,  0.6243]])),\n",
              "             ('weight_hh_l0',\n",
              "              tensor([[ 0.7410],\n",
              "                      [-0.7611],\n",
              "                      [-0.8382],\n",
              "                      [ 0.3467]])),\n",
              "             ('bias_ih_l0', tensor([-0.2139,  0.7388,  0.6983,  0.3958])),\n",
              "             ('bias_hh_l0', tensor([ 0.4449, -0.3047,  0.5552, -0.0351]))])"
            ]
          },
          "execution_count": 49,
          "metadata": {},
          "output_type": "execute_result"
        }
      ],
      "source": [
        "lstm.state_dict()"
      ]
    },
    {
      "cell_type": "markdown",
      "metadata": {
        "colab_type": "text",
        "id": "3POkRJLNewOr"
      },
      "source": []
    },
    {
      "cell_type": "code",
      "execution_count": 50,
      "metadata": {
        "colab": {
          "base_uri": "https://localhost:8080/",
          "height": 51
        },
        "colab_type": "code",
        "id": "kSqvy1-9d4Ej",
        "outputId": "4894cd65-c14b-4c08-d75d-558284514ebe"
      },
      "outputs": [
        {
          "name": "stdout",
          "output_type": "stream",
          "text": [
            "Out all shape : torch.Size([1, 4, 1])\n",
            "Out last shape : torch.Size([1, 1, 1])\n"
          ]
        }
      ],
      "source": [
        "out_all, out_last = lstm(seq)\n",
        "\n",
        "print(f\"Out all shape : {out_all.shape}\")\n",
        "\n",
        "print(f\"Out last shape : {out_last[0].shape}\")"
      ]
    },
    {
      "cell_type": "code",
      "execution_count": 51,
      "metadata": {
        "colab": {
          "base_uri": "https://localhost:8080/",
          "height": 51
        },
        "colab_type": "code",
        "id": "bOQxIzBNd4G3",
        "outputId": "69e37e50-414d-4f9d-c55c-7a56338dd2e9"
      },
      "outputs": [
        {
          "data": {
            "text/plain": [
              "(tensor([[[0.1979]]], grad_fn=<StackBackward0>),\n",
              " tensor([[[0.5228]]], grad_fn=<StackBackward0>))"
            ]
          },
          "execution_count": 51,
          "metadata": {},
          "output_type": "execute_result"
        }
      ],
      "source": [
        "out_last"
      ]
    },
    {
      "cell_type": "code",
      "execution_count": 52,
      "metadata": {
        "colab": {
          "base_uri": "https://localhost:8080/",
          "height": 85
        },
        "colab_type": "code",
        "id": "1jpF_baAd4JD",
        "outputId": "0bdde504-f3a0-4e1a-fcab-44fc68f1778a"
      },
      "outputs": [
        {
          "data": {
            "text/plain": [
              "tensor([[[0.1745],\n",
              "         [0.2268],\n",
              "         [0.1493],\n",
              "         [0.1979]]], grad_fn=<TransposeBackward0>)"
            ]
          },
          "execution_count": 52,
          "metadata": {},
          "output_type": "execute_result"
        }
      ],
      "source": [
        "out_all"
      ]
    },
    {
      "cell_type": "markdown",
      "metadata": {
        "colab_type": "text",
        "id": "WebOS6h-exhW"
      },
      "source": [
        "### Extracting weights"
      ]
    },
    {
      "cell_type": "code",
      "execution_count": 0,
      "metadata": {
        "colab": {},
        "colab_type": "code",
        "id": "gwN2T0X0evNn"
      },
      "outputs": [],
      "source": [
        "wii_10 = lstm.weight_ih_l0[0,:].squeeze(0)\n",
        "wif_10 = lstm.weight_ih_l0[1,:].squeeze(0)\n",
        "wig_10 = lstm.weight_ih_l0[2,:].squeeze(0)\n",
        "wio_10 = lstm.weight_ih_l0[3,:].squeeze(0)\n",
        "\n",
        "whi_10 = lstm.weight_hh_l0[0]\n",
        "whf_10 = lstm.weight_hh_l0[1]\n",
        "whg_10 = lstm.weight_hh_l0[2]\n",
        "who_10 = lstm.weight_hh_l0[3]\n",
        "\n",
        "bii_10 = lstm.bias_ih_l0[0]\n",
        "bif_10 = lstm.bias_ih_l0[1]\n",
        "big_10 = lstm.bias_ih_l0[2]\n",
        "bio_10 = lstm.bias_ih_l0[3]\n",
        "\n",
        "bhi_10 = lstm.bias_hh_l0[0]\n",
        "bhf_10 = lstm.bias_hh_l0[1]\n",
        "bhg_10 = lstm.bias_hh_l0[2]\n",
        "bho_10 = lstm.bias_hh_l0[3]"
      ]
    },
    {
      "cell_type": "markdown",
      "metadata": {
        "colab_type": "text",
        "id": "v6jYah31eps_"
      },
      "source": [
        "## **Computing output**"
      ]
    },
    {
      "cell_type": "markdown",
      "metadata": {
        "colab_type": "text",
        "id": "aViehwW-flBS"
      },
      "source": [
        "\\begin{array}{ll} \\\\\n",
        " |          i_t = \\sigma(W_{ii} x_t + b_{ii} + W_{hi} h_{(t-1)} + b_{hi}) \\\\\n",
        " |          f_t = \\sigma(W_{if} x_t + b_{if} + W_{hf} h_{(t-1)} + b_{hf}) \\\\\n",
        " |          g_t = \\tanh(W_{ig} x_t + b_{ig} + W_{hg} h_{(t-1)} + b_{hg}) \\\\\n",
        " |          o_t = \\sigma(W_{io} x_t + b_{io} + W_{ho} h_{(t-1)} + b_{ho}) \\\\\n",
        " |          c_t = f_t * c_{(t-1)} + i_t * g_t \\\\\n",
        " |          h_t = o_t * \\tanh(c_t) \\\\\n",
        " |      \\end{array}"
      ]
    },
    {
      "cell_type": "code",
      "execution_count": 53,
      "metadata": {
        "colab": {
          "base_uri": "https://localhost:8080/",
          "height": 1000
        },
        "colab_type": "code",
        "id": "jxt1AjTTdb2W",
        "outputId": "4be5271d-65bd-496d-8f8f-9361cfb0cbde"
      },
      "outputs": [
        {
          "name": "stdout",
          "output_type": "stream",
          "text": [
            "Help on class LSTM in module torch.nn.modules.rnn:\n",
            "\n",
            "class LSTM(RNNBase)\n",
            " |  LSTM(*args, **kwargs)\n",
            " |  \n",
            " |  __init__(self,input_size,hidden_size,num_layers=1,bias=True,batch_first=False,dropout=0.0,bidirectional=False,proj_size=0,device=None,dtype=None)\n",
            " |  \n",
            " |  Apply a multi-layer long short-term memory (LSTM) RNN to an input sequence.\n",
            " |  For each element in the input sequence, each layer computes the following\n",
            " |  function:\n",
            " |  \n",
            " |  .. math::\n",
            " |      \\begin{array}{ll} \\\\\n",
            " |          i_t = \\sigma(W_{ii} x_t + b_{ii} + W_{hi} h_{t-1} + b_{hi}) \\\\\n",
            " |          f_t = \\sigma(W_{if} x_t + b_{if} + W_{hf} h_{t-1} + b_{hf}) \\\\\n",
            " |          g_t = \\tanh(W_{ig} x_t + b_{ig} + W_{hg} h_{t-1} + b_{hg}) \\\\\n",
            " |          o_t = \\sigma(W_{io} x_t + b_{io} + W_{ho} h_{t-1} + b_{ho}) \\\\\n",
            " |          c_t = f_t \\odot c_{t-1} + i_t \\odot g_t \\\\\n",
            " |          h_t = o_t \\odot \\tanh(c_t) \\\\\n",
            " |      \\end{array}\n",
            " |  \n",
            " |  where :math:`h_t` is the hidden state at time `t`, :math:`c_t` is the cell\n",
            " |  state at time `t`, :math:`x_t` is the input at time `t`, :math:`h_{t-1}`\n",
            " |  is the hidden state of the layer at time `t-1` or the initial hidden\n",
            " |  state at time `0`, and :math:`i_t`, :math:`f_t`, :math:`g_t`,\n",
            " |  :math:`o_t` are the input, forget, cell, and output gates, respectively.\n",
            " |  :math:`\\sigma` is the sigmoid function, and :math:`\\odot` is the Hadamard product.\n",
            " |  \n",
            " |  In a multilayer LSTM, the input :math:`x^{(l)}_t` of the :math:`l` -th layer\n",
            " |  (:math:`l \\ge 2`) is the hidden state :math:`h^{(l-1)}_t` of the previous layer multiplied by\n",
            " |  dropout :math:`\\delta^{(l-1)}_t` where each :math:`\\delta^{(l-1)}_t` is a Bernoulli random\n",
            " |  variable which is :math:`0` with probability :attr:`dropout`.\n",
            " |  \n",
            " |  If ``proj_size > 0`` is specified, LSTM with projections will be used. This changes\n",
            " |  the LSTM cell in the following way. First, the dimension of :math:`h_t` will be changed from\n",
            " |  ``hidden_size`` to ``proj_size`` (dimensions of :math:`W_{hi}` will be changed accordingly).\n",
            " |  Second, the output hidden state of each layer will be multiplied by a learnable projection\n",
            " |  matrix: :math:`h_t = W_{hr}h_t`. Note that as a consequence of this, the output\n",
            " |  of LSTM network will be of different shape as well. See Inputs/Outputs sections below for exact\n",
            " |  dimensions of all variables. You can find more details in https://arxiv.org/abs/1402.1128.\n",
            " |  \n",
            " |  Args:\n",
            " |      input_size: The number of expected features in the input `x`\n",
            " |      hidden_size: The number of features in the hidden state `h`\n",
            " |      num_layers: Number of recurrent layers. E.g., setting ``num_layers=2``\n",
            " |          would mean stacking two LSTMs together to form a `stacked LSTM`,\n",
            " |          with the second LSTM taking in outputs of the first LSTM and\n",
            " |          computing the final results. Default: 1\n",
            " |      bias: If ``False``, then the layer does not use bias weights `b_ih` and `b_hh`.\n",
            " |          Default: ``True``\n",
            " |      batch_first: If ``True``, then the input and output tensors are provided\n",
            " |          as `(batch, seq, feature)` instead of `(seq, batch, feature)`.\n",
            " |          Note that this does not apply to hidden or cell states. See the\n",
            " |          Inputs/Outputs sections below for details.  Default: ``False``\n",
            " |      dropout: If non-zero, introduces a `Dropout` layer on the outputs of each\n",
            " |          LSTM layer except the last layer, with dropout probability equal to\n",
            " |          :attr:`dropout`. Default: 0\n",
            " |      bidirectional: If ``True``, becomes a bidirectional LSTM. Default: ``False``\n",
            " |      proj_size: If ``> 0``, will use LSTM with projections of corresponding size. Default: 0\n",
            " |  \n",
            " |  Inputs: input, (h_0, c_0)\n",
            " |      * **input**: tensor of shape :math:`(L, H_{in})` for unbatched input,\n",
            " |        :math:`(L, N, H_{in})` when ``batch_first=False`` or\n",
            " |        :math:`(N, L, H_{in})` when ``batch_first=True`` containing the features of\n",
            " |        the input sequence.  The input can also be a packed variable length sequence.\n",
            " |        See :func:`torch.nn.utils.rnn.pack_padded_sequence` or\n",
            " |        :func:`torch.nn.utils.rnn.pack_sequence` for details.\n",
            " |      * **h_0**: tensor of shape :math:`(D * \\text{num\\_layers}, H_{out})` for unbatched input or\n",
            " |        :math:`(D * \\text{num\\_layers}, N, H_{out})` containing the\n",
            " |        initial hidden state for each element in the input sequence.\n",
            " |        Defaults to zeros if (h_0, c_0) is not provided.\n",
            " |      * **c_0**: tensor of shape :math:`(D * \\text{num\\_layers}, H_{cell})` for unbatched input or\n",
            " |        :math:`(D * \\text{num\\_layers}, N, H_{cell})` containing the\n",
            " |        initial cell state for each element in the input sequence.\n",
            " |        Defaults to zeros if (h_0, c_0) is not provided.\n",
            " |  \n",
            " |      where:\n",
            " |  \n",
            " |      .. math::\n",
            " |          \\begin{aligned}\n",
            " |              N ={} & \\text{batch size} \\\\\n",
            " |              L ={} & \\text{sequence length} \\\\\n",
            " |              D ={} & 2 \\text{ if bidirectional=True otherwise } 1 \\\\\n",
            " |              H_{in} ={} & \\text{input\\_size} \\\\\n",
            " |              H_{cell} ={} & \\text{hidden\\_size} \\\\\n",
            " |              H_{out} ={} & \\text{proj\\_size if } \\text{proj\\_size}>0 \\text{ otherwise hidden\\_size} \\\\\n",
            " |          \\end{aligned}\n",
            " |  \n",
            " |  Outputs: output, (h_n, c_n)\n",
            " |      * **output**: tensor of shape :math:`(L, D * H_{out})` for unbatched input,\n",
            " |        :math:`(L, N, D * H_{out})` when ``batch_first=False`` or\n",
            " |        :math:`(N, L, D * H_{out})` when ``batch_first=True`` containing the output features\n",
            " |        `(h_t)` from the last layer of the LSTM, for each `t`. If a\n",
            " |        :class:`torch.nn.utils.rnn.PackedSequence` has been given as the input, the output\n",
            " |        will also be a packed sequence. When ``bidirectional=True``, `output` will contain\n",
            " |        a concatenation of the forward and reverse hidden states at each time step in the sequence.\n",
            " |      * **h_n**: tensor of shape :math:`(D * \\text{num\\_layers}, H_{out})` for unbatched input or\n",
            " |        :math:`(D * \\text{num\\_layers}, N, H_{out})` containing the\n",
            " |        final hidden state for each element in the sequence. When ``bidirectional=True``,\n",
            " |        `h_n` will contain a concatenation of the final forward and reverse hidden states, respectively.\n",
            " |      * **c_n**: tensor of shape :math:`(D * \\text{num\\_layers}, H_{cell})` for unbatched input or\n",
            " |        :math:`(D * \\text{num\\_layers}, N, H_{cell})` containing the\n",
            " |        final cell state for each element in the sequence. When ``bidirectional=True``,\n",
            " |        `c_n` will contain a concatenation of the final forward and reverse cell states, respectively.\n",
            " |  \n",
            " |  Attributes:\n",
            " |      weight_ih_l[k] : the learnable input-hidden weights of the :math:`\\text{k}^{th}` layer\n",
            " |          `(W_ii|W_if|W_ig|W_io)`, of shape `(4*hidden_size, input_size)` for `k = 0`.\n",
            " |          Otherwise, the shape is `(4*hidden_size, num_directions * hidden_size)`. If\n",
            " |          ``proj_size > 0`` was specified, the shape will be\n",
            " |          `(4*hidden_size, num_directions * proj_size)` for `k > 0`\n",
            " |      weight_hh_l[k] : the learnable hidden-hidden weights of the :math:`\\text{k}^{th}` layer\n",
            " |          `(W_hi|W_hf|W_hg|W_ho)`, of shape `(4*hidden_size, hidden_size)`. If ``proj_size > 0``\n",
            " |          was specified, the shape will be `(4*hidden_size, proj_size)`.\n",
            " |      bias_ih_l[k] : the learnable input-hidden bias of the :math:`\\text{k}^{th}` layer\n",
            " |          `(b_ii|b_if|b_ig|b_io)`, of shape `(4*hidden_size)`\n",
            " |      bias_hh_l[k] : the learnable hidden-hidden bias of the :math:`\\text{k}^{th}` layer\n",
            " |          `(b_hi|b_hf|b_hg|b_ho)`, of shape `(4*hidden_size)`\n",
            " |      weight_hr_l[k] : the learnable projection weights of the :math:`\\text{k}^{th}` layer\n",
            " |          of shape `(proj_size, hidden_size)`. Only present when ``proj_size > 0`` was\n",
            " |          specified.\n",
            " |      weight_ih_l[k]_reverse: Analogous to `weight_ih_l[k]` for the reverse direction.\n",
            " |          Only present when ``bidirectional=True``.\n",
            " |      weight_hh_l[k]_reverse:  Analogous to `weight_hh_l[k]` for the reverse direction.\n",
            " |          Only present when ``bidirectional=True``.\n",
            " |      bias_ih_l[k]_reverse:  Analogous to `bias_ih_l[k]` for the reverse direction.\n",
            " |          Only present when ``bidirectional=True``.\n",
            " |      bias_hh_l[k]_reverse:  Analogous to `bias_hh_l[k]` for the reverse direction.\n",
            " |          Only present when ``bidirectional=True``.\n",
            " |      weight_hr_l[k]_reverse:  Analogous to `weight_hr_l[k]` for the reverse direction.\n",
            " |          Only present when ``bidirectional=True`` and ``proj_size > 0`` was specified.\n",
            " |  \n",
            " |  .. note::\n",
            " |      All the weights and biases are initialized from :math:`\\mathcal{U}(-\\sqrt{k}, \\sqrt{k})`\n",
            " |      where :math:`k = \\frac{1}{\\text{hidden\\_size}}`\n",
            " |  \n",
            " |  .. note::\n",
            " |      For bidirectional LSTMs, forward and backward are directions 0 and 1 respectively.\n",
            " |      Example of splitting the output layers when ``batch_first=False``:\n",
            " |      ``output.view(seq_len, batch, num_directions, hidden_size)``.\n",
            " |  \n",
            " |  .. note::\n",
            " |      For bidirectional LSTMs, `h_n` is not equivalent to the last element of `output`; the\n",
            " |      former contains the final forward and reverse hidden states, while the latter contains the\n",
            " |      final forward hidden state and the initial reverse hidden state.\n",
            " |  \n",
            " |  .. note::\n",
            " |      ``batch_first`` argument is ignored for unbatched inputs.\n",
            " |  \n",
            " |  .. note::\n",
            " |      ``proj_size`` should be smaller than ``hidden_size``.\n",
            " |  \n",
            " |  .. include:: ../cudnn_rnn_determinism.rst\n",
            " |  \n",
            " |  .. include:: ../cudnn_persistent_rnn.rst\n",
            " |  \n",
            " |  Examples::\n",
            " |  \n",
            " |      >>> rnn = nn.LSTM(10, 20, 2)\n",
            " |      >>> input = torch.randn(5, 3, 10)\n",
            " |      >>> h0 = torch.randn(2, 3, 20)\n",
            " |      >>> c0 = torch.randn(2, 3, 20)\n",
            " |      >>> output, (hn, cn) = rnn(input, (h0, c0))\n",
            " |  \n",
            " |  Method resolution order:\n",
            " |      LSTM\n",
            " |      RNNBase\n",
            " |      torch.nn.modules.module.Module\n",
            " |      builtins.object\n",
            " |  \n",
            " |  Methods defined here:\n",
            " |  \n",
            " |  __init__(self, *args, **kwargs)\n",
            " |      Initialize internal Module state, shared by both nn.Module and ScriptModule.\n",
            " |  \n",
            " |  check_forward_args(self, input: torch.Tensor, hidden: Tuple[torch.Tensor, torch.Tensor], batch_sizes: Union[torch.Tensor, NoneType])\n",
            " |      # In the future, we should prevent mypy from applying contravariance rules here.\n",
            " |      # See torch/nn/modules/module.py::_forward_unimplemented\n",
            " |  \n",
            " |  forward(self, input, hx=None)\n",
            " |      Define the computation performed at every call.\n",
            " |      \n",
            " |      Should be overridden by all subclasses.\n",
            " |      \n",
            " |      .. note::\n",
            " |          Although the recipe for forward pass needs to be defined within\n",
            " |          this function, one should call the :class:`Module` instance afterwards\n",
            " |          instead of this since the former takes care of running the\n",
            " |          registered hooks while the latter silently ignores them.\n",
            " |  \n",
            " |  get_expected_cell_size(self, input: torch.Tensor, batch_sizes: Union[torch.Tensor, NoneType]) -> Tuple[int, int, int]\n",
            " |  \n",
            " |  permute_hidden(self, hx: Tuple[torch.Tensor, torch.Tensor], permutation: Union[torch.Tensor, NoneType]) -> Tuple[torch.Tensor, torch.Tensor]\n",
            " |      # Same as above, see torch/nn/modules/module.py::_forward_unimplemented\n",
            " |  \n",
            " |  ----------------------------------------------------------------------\n",
            " |  Methods inherited from RNNBase:\n",
            " |  \n",
            " |  __getstate__(self)\n",
            " |  \n",
            " |  __setattr__(self, attr, value)\n",
            " |      Implement setattr(self, name, value).\n",
            " |  \n",
            " |  __setstate__(self, d)\n",
            " |  \n",
            " |  check_hidden_size(self, hx: torch.Tensor, expected_hidden_size: Tuple[int, int, int], msg: str = 'Expected hidden size {}, got {}') -> None\n",
            " |  \n",
            " |  check_input(self, input: torch.Tensor, batch_sizes: Union[torch.Tensor, NoneType]) -> None\n",
            " |  \n",
            " |  extra_repr(self) -> str\n",
            " |      Set the extra representation of the module.\n",
            " |      \n",
            " |      To print customized extra information, you should re-implement\n",
            " |      this method in your own modules. Both single-line and multi-line\n",
            " |      strings are acceptable.\n",
            " |  \n",
            " |  flatten_parameters(self) -> None\n",
            " |      Reset parameter data pointer so that they can use faster code paths.\n",
            " |      \n",
            " |      Right now, this works only if the module is on the GPU and cuDNN is enabled.\n",
            " |      Otherwise, it's a no-op.\n",
            " |  \n",
            " |  get_expected_hidden_size(self, input: torch.Tensor, batch_sizes: Union[torch.Tensor, NoneType]) -> Tuple[int, int, int]\n",
            " |  \n",
            " |  reset_parameters(self) -> None\n",
            " |  \n",
            " |  ----------------------------------------------------------------------\n",
            " |  Readonly properties inherited from RNNBase:\n",
            " |  \n",
            " |  all_weights\n",
            " |  \n",
            " |  ----------------------------------------------------------------------\n",
            " |  Data and other attributes inherited from RNNBase:\n",
            " |  \n",
            " |  __annotations__ = {'batch_first': <class 'bool'>, 'bias': <class 'bool...\n",
            " |  \n",
            " |  __constants__ = ['mode', 'input_size', 'hidden_size', 'num_layers', 'b...\n",
            " |  \n",
            " |  __jit_unused_properties__ = ['all_weights']\n",
            " |  \n",
            " |  ----------------------------------------------------------------------\n",
            " |  Methods inherited from torch.nn.modules.module.Module:\n",
            " |  \n",
            " |  __call__ = _wrapped_call_impl(self, *args, **kwargs)\n",
            " |  \n",
            " |  __delattr__(self, name)\n",
            " |      Implement delattr(self, name).\n",
            " |  \n",
            " |  __dir__(self)\n",
            " |      Default dir() implementation.\n",
            " |  \n",
            " |  __getattr__(self, name: str) -> Any\n",
            " |      # On the return type:\n",
            " |      # We choose to return `Any` in the `__getattr__` type signature instead of a more strict `Union[Tensor, Module]`.\n",
            " |      # This is done for better interop with various type checkers for the end users.\n",
            " |      # Having a stricter return type doesn't play nicely with `register_buffer()` and forces\n",
            " |      # people to excessively use type-ignores, asserts, casts, etc.\n",
            " |      # See full discussion on the problems with returning `Union` here\n",
            " |      # https://github.com/microsoft/pyright/issues/4213\n",
            " |  \n",
            " |  __repr__(self)\n",
            " |      Return repr(self).\n",
            " |  \n",
            " |  add_module(self, name: str, module: Union[ForwardRef('Module'), NoneType]) -> None\n",
            " |      Add a child module to the current module.\n",
            " |      \n",
            " |      The module can be accessed as an attribute using the given name.\n",
            " |      \n",
            " |      Args:\n",
            " |          name (str): name of the child module. The child module can be\n",
            " |              accessed from this module using the given name\n",
            " |          module (Module): child module to be added to the module.\n",
            " |  \n",
            " |  apply(self: ~T, fn: Callable[[ForwardRef('Module')], NoneType]) -> ~T\n",
            " |      Apply ``fn`` recursively to every submodule (as returned by ``.children()``) as well as self.\n",
            " |      \n",
            " |      Typical use includes initializing the parameters of a model\n",
            " |      (see also :ref:`nn-init-doc`).\n",
            " |      \n",
            " |      Args:\n",
            " |          fn (:class:`Module` -> None): function to be applied to each submodule\n",
            " |      \n",
            " |      Returns:\n",
            " |          Module: self\n",
            " |      \n",
            " |      Example::\n",
            " |      \n",
            " |          >>> @torch.no_grad()\n",
            " |          >>> def init_weights(m):\n",
            " |          >>>     print(m)\n",
            " |          >>>     if type(m) == nn.Linear:\n",
            " |          >>>         m.weight.fill_(1.0)\n",
            " |          >>>         print(m.weight)\n",
            " |          >>> net = nn.Sequential(nn.Linear(2, 2), nn.Linear(2, 2))\n",
            " |          >>> net.apply(init_weights)\n",
            " |          Linear(in_features=2, out_features=2, bias=True)\n",
            " |          Parameter containing:\n",
            " |          tensor([[1., 1.],\n",
            " |                  [1., 1.]], requires_grad=True)\n",
            " |          Linear(in_features=2, out_features=2, bias=True)\n",
            " |          Parameter containing:\n",
            " |          tensor([[1., 1.],\n",
            " |                  [1., 1.]], requires_grad=True)\n",
            " |          Sequential(\n",
            " |            (0): Linear(in_features=2, out_features=2, bias=True)\n",
            " |            (1): Linear(in_features=2, out_features=2, bias=True)\n",
            " |          )\n",
            " |  \n",
            " |  bfloat16(self: ~T) -> ~T\n",
            " |      Casts all floating point parameters and buffers to ``bfloat16`` datatype.\n",
            " |      \n",
            " |      .. note::\n",
            " |          This method modifies the module in-place.\n",
            " |      \n",
            " |      Returns:\n",
            " |          Module: self\n",
            " |  \n",
            " |  buffers(self, recurse: bool = True) -> Iterator[torch.Tensor]\n",
            " |      Return an iterator over module buffers.\n",
            " |      \n",
            " |      Args:\n",
            " |          recurse (bool): if True, then yields buffers of this module\n",
            " |              and all submodules. Otherwise, yields only buffers that\n",
            " |              are direct members of this module.\n",
            " |      \n",
            " |      Yields:\n",
            " |          torch.Tensor: module buffer\n",
            " |      \n",
            " |      Example::\n",
            " |      \n",
            " |          >>> # xdoctest: +SKIP(\"undefined vars\")\n",
            " |          >>> for buf in model.buffers():\n",
            " |          >>>     print(type(buf), buf.size())\n",
            " |          <class 'torch.Tensor'> (20L,)\n",
            " |          <class 'torch.Tensor'> (20L, 1L, 5L, 5L)\n",
            " |  \n",
            " |  children(self) -> Iterator[ForwardRef('Module')]\n",
            " |      Return an iterator over immediate children modules.\n",
            " |      \n",
            " |      Yields:\n",
            " |          Module: a child module\n",
            " |  \n",
            " |  compile(self, *args, **kwargs)\n",
            " |      Compile this Module's forward using :func:`torch.compile`.\n",
            " |      \n",
            " |      This Module's `__call__` method is compiled and all arguments are passed as-is\n",
            " |      to :func:`torch.compile`.\n",
            " |      \n",
            " |      See :func:`torch.compile` for details on the arguments for this function.\n",
            " |  \n",
            " |  cpu(self: ~T) -> ~T\n",
            " |      Move all model parameters and buffers to the CPU.\n",
            " |      \n",
            " |      .. note::\n",
            " |          This method modifies the module in-place.\n",
            " |      \n",
            " |      Returns:\n",
            " |          Module: self\n",
            " |  \n",
            " |  cuda(self: ~T, device: Union[int, torch.device, NoneType] = None) -> ~T\n",
            " |      Move all model parameters and buffers to the GPU.\n",
            " |      \n",
            " |      This also makes associated parameters and buffers different objects. So\n",
            " |      it should be called before constructing optimizer if the module will\n",
            " |      live on GPU while being optimized.\n",
            " |      \n",
            " |      .. note::\n",
            " |          This method modifies the module in-place.\n",
            " |      \n",
            " |      Args:\n",
            " |          device (int, optional): if specified, all parameters will be\n",
            " |              copied to that device\n",
            " |      \n",
            " |      Returns:\n",
            " |          Module: self\n",
            " |  \n",
            " |  double(self: ~T) -> ~T\n",
            " |      Casts all floating point parameters and buffers to ``double`` datatype.\n",
            " |      \n",
            " |      .. note::\n",
            " |          This method modifies the module in-place.\n",
            " |      \n",
            " |      Returns:\n",
            " |          Module: self\n",
            " |  \n",
            " |  eval(self: ~T) -> ~T\n",
            " |      Set the module in evaluation mode.\n",
            " |      \n",
            " |      This has any effect only on certain modules. See documentations of\n",
            " |      particular modules for details of their behaviors in training/evaluation\n",
            " |      mode, if they are affected, e.g. :class:`Dropout`, :class:`BatchNorm`,\n",
            " |      etc.\n",
            " |      \n",
            " |      This is equivalent with :meth:`self.train(False) <torch.nn.Module.train>`.\n",
            " |      \n",
            " |      See :ref:`locally-disable-grad-doc` for a comparison between\n",
            " |      `.eval()` and several similar mechanisms that may be confused with it.\n",
            " |      \n",
            " |      Returns:\n",
            " |          Module: self\n",
            " |  \n",
            " |  float(self: ~T) -> ~T\n",
            " |      Casts all floating point parameters and buffers to ``float`` datatype.\n",
            " |      \n",
            " |      .. note::\n",
            " |          This method modifies the module in-place.\n",
            " |      \n",
            " |      Returns:\n",
            " |          Module: self\n",
            " |  \n",
            " |  get_buffer(self, target: str) -> 'Tensor'\n",
            " |      Return the buffer given by ``target`` if it exists, otherwise throw an error.\n",
            " |      \n",
            " |      See the docstring for ``get_submodule`` for a more detailed\n",
            " |      explanation of this method's functionality as well as how to\n",
            " |      correctly specify ``target``.\n",
            " |      \n",
            " |      Args:\n",
            " |          target: The fully-qualified string name of the buffer\n",
            " |              to look for. (See ``get_submodule`` for how to specify a\n",
            " |              fully-qualified string.)\n",
            " |      \n",
            " |      Returns:\n",
            " |          torch.Tensor: The buffer referenced by ``target``\n",
            " |      \n",
            " |      Raises:\n",
            " |          AttributeError: If the target string references an invalid\n",
            " |              path or resolves to something that is not a\n",
            " |              buffer\n",
            " |  \n",
            " |  get_extra_state(self) -> Any\n",
            " |      Return any extra state to include in the module's state_dict.\n",
            " |      \n",
            " |      Implement this and a corresponding :func:`set_extra_state` for your module\n",
            " |      if you need to store extra state. This function is called when building the\n",
            " |      module's `state_dict()`.\n",
            " |      \n",
            " |      Note that extra state should be picklable to ensure working serialization\n",
            " |      of the state_dict. We only provide provide backwards compatibility guarantees\n",
            " |      for serializing Tensors; other objects may break backwards compatibility if\n",
            " |      their serialized pickled form changes.\n",
            " |      \n",
            " |      Returns:\n",
            " |          object: Any extra state to store in the module's state_dict\n",
            " |  \n",
            " |  get_parameter(self, target: str) -> 'Parameter'\n",
            " |      Return the parameter given by ``target`` if it exists, otherwise throw an error.\n",
            " |      \n",
            " |      See the docstring for ``get_submodule`` for a more detailed\n",
            " |      explanation of this method's functionality as well as how to\n",
            " |      correctly specify ``target``.\n",
            " |      \n",
            " |      Args:\n",
            " |          target: The fully-qualified string name of the Parameter\n",
            " |              to look for. (See ``get_submodule`` for how to specify a\n",
            " |              fully-qualified string.)\n",
            " |      \n",
            " |      Returns:\n",
            " |          torch.nn.Parameter: The Parameter referenced by ``target``\n",
            " |      \n",
            " |      Raises:\n",
            " |          AttributeError: If the target string references an invalid\n",
            " |              path or resolves to something that is not an\n",
            " |              ``nn.Parameter``\n",
            " |  \n",
            " |  get_submodule(self, target: str) -> 'Module'\n",
            " |      Return the submodule given by ``target`` if it exists, otherwise throw an error.\n",
            " |      \n",
            " |      For example, let's say you have an ``nn.Module`` ``A`` that\n",
            " |      looks like this:\n",
            " |      \n",
            " |      .. code-block:: text\n",
            " |      \n",
            " |          A(\n",
            " |              (net_b): Module(\n",
            " |                  (net_c): Module(\n",
            " |                      (conv): Conv2d(16, 33, kernel_size=(3, 3), stride=(2, 2))\n",
            " |                  )\n",
            " |                  (linear): Linear(in_features=100, out_features=200, bias=True)\n",
            " |              )\n",
            " |          )\n",
            " |      \n",
            " |      (The diagram shows an ``nn.Module`` ``A``. ``A`` has a nested\n",
            " |      submodule ``net_b``, which itself has two submodules ``net_c``\n",
            " |      and ``linear``. ``net_c`` then has a submodule ``conv``.)\n",
            " |      \n",
            " |      To check whether or not we have the ``linear`` submodule, we\n",
            " |      would call ``get_submodule(\"net_b.linear\")``. To check whether\n",
            " |      we have the ``conv`` submodule, we would call\n",
            " |      ``get_submodule(\"net_b.net_c.conv\")``.\n",
            " |      \n",
            " |      The runtime of ``get_submodule`` is bounded by the degree\n",
            " |      of module nesting in ``target``. A query against\n",
            " |      ``named_modules`` achieves the same result, but it is O(N) in\n",
            " |      the number of transitive modules. So, for a simple check to see\n",
            " |      if some submodule exists, ``get_submodule`` should always be\n",
            " |      used.\n",
            " |      \n",
            " |      Args:\n",
            " |          target: The fully-qualified string name of the submodule\n",
            " |              to look for. (See above example for how to specify a\n",
            " |              fully-qualified string.)\n",
            " |      \n",
            " |      Returns:\n",
            " |          torch.nn.Module: The submodule referenced by ``target``\n",
            " |      \n",
            " |      Raises:\n",
            " |          AttributeError: If the target string references an invalid\n",
            " |              path or resolves to something that is not an\n",
            " |              ``nn.Module``\n",
            " |  \n",
            " |  half(self: ~T) -> ~T\n",
            " |      Casts all floating point parameters and buffers to ``half`` datatype.\n",
            " |      \n",
            " |      .. note::\n",
            " |          This method modifies the module in-place.\n",
            " |      \n",
            " |      Returns:\n",
            " |          Module: self\n",
            " |  \n",
            " |  ipu(self: ~T, device: Union[int, torch.device, NoneType] = None) -> ~T\n",
            " |      Move all model parameters and buffers to the IPU.\n",
            " |      \n",
            " |      This also makes associated parameters and buffers different objects. So\n",
            " |      it should be called before constructing optimizer if the module will\n",
            " |      live on IPU while being optimized.\n",
            " |      \n",
            " |      .. note::\n",
            " |          This method modifies the module in-place.\n",
            " |      \n",
            " |      Arguments:\n",
            " |          device (int, optional): if specified, all parameters will be\n",
            " |              copied to that device\n",
            " |      \n",
            " |      Returns:\n",
            " |          Module: self\n",
            " |  \n",
            " |  load_state_dict(self, state_dict: Mapping[str, Any], strict: bool = True, assign: bool = False)\n",
            " |      Copy parameters and buffers from :attr:`state_dict` into this module and its descendants.\n",
            " |      \n",
            " |      If :attr:`strict` is ``True``, then\n",
            " |      the keys of :attr:`state_dict` must exactly match the keys returned\n",
            " |      by this module's :meth:`~torch.nn.Module.state_dict` function.\n",
            " |      \n",
            " |      .. warning::\n",
            " |          If :attr:`assign` is ``True`` the optimizer must be created after\n",
            " |          the call to :attr:`load_state_dict`.\n",
            " |      \n",
            " |      Args:\n",
            " |          state_dict (dict): a dict containing parameters and\n",
            " |              persistent buffers.\n",
            " |          strict (bool, optional): whether to strictly enforce that the keys\n",
            " |              in :attr:`state_dict` match the keys returned by this module's\n",
            " |              :meth:`~torch.nn.Module.state_dict` function. Default: ``True``\n",
            " |          assign (bool, optional): whether to assign items in the state\n",
            " |              dictionary to their corresponding keys in the module instead\n",
            " |              of copying them inplace into the module's current parameters and buffers.\n",
            " |              When ``False``, the properties of the tensors in the current\n",
            " |              module are preserved while when ``True``, the properties of the\n",
            " |              Tensors in the state dict are preserved.\n",
            " |              Default: ``False``\n",
            " |      \n",
            " |      Returns:\n",
            " |          ``NamedTuple`` with ``missing_keys`` and ``unexpected_keys`` fields:\n",
            " |              * **missing_keys** is a list of str containing the missing keys\n",
            " |              * **unexpected_keys** is a list of str containing the unexpected keys\n",
            " |      \n",
            " |      Note:\n",
            " |          If a parameter or buffer is registered as ``None`` and its corresponding key\n",
            " |          exists in :attr:`state_dict`, :meth:`load_state_dict` will raise a\n",
            " |          ``RuntimeError``.\n",
            " |  \n",
            " |  modules(self) -> Iterator[ForwardRef('Module')]\n",
            " |      Return an iterator over all modules in the network.\n",
            " |      \n",
            " |      Yields:\n",
            " |          Module: a module in the network\n",
            " |      \n",
            " |      Note:\n",
            " |          Duplicate modules are returned only once. In the following\n",
            " |          example, ``l`` will be returned only once.\n",
            " |      \n",
            " |      Example::\n",
            " |      \n",
            " |          >>> l = nn.Linear(2, 2)\n",
            " |          >>> net = nn.Sequential(l, l)\n",
            " |          >>> for idx, m in enumerate(net.modules()):\n",
            " |          ...     print(idx, '->', m)\n",
            " |      \n",
            " |          0 -> Sequential(\n",
            " |            (0): Linear(in_features=2, out_features=2, bias=True)\n",
            " |            (1): Linear(in_features=2, out_features=2, bias=True)\n",
            " |          )\n",
            " |          1 -> Linear(in_features=2, out_features=2, bias=True)\n",
            " |  \n",
            " |  named_buffers(self, prefix: str = '', recurse: bool = True, remove_duplicate: bool = True) -> Iterator[Tuple[str, torch.Tensor]]\n",
            " |      Return an iterator over module buffers, yielding both the name of the buffer as well as the buffer itself.\n",
            " |      \n",
            " |      Args:\n",
            " |          prefix (str): prefix to prepend to all buffer names.\n",
            " |          recurse (bool, optional): if True, then yields buffers of this module\n",
            " |              and all submodules. Otherwise, yields only buffers that\n",
            " |              are direct members of this module. Defaults to True.\n",
            " |          remove_duplicate (bool, optional): whether to remove the duplicated buffers in the result. Defaults to True.\n",
            " |      \n",
            " |      Yields:\n",
            " |          (str, torch.Tensor): Tuple containing the name and buffer\n",
            " |      \n",
            " |      Example::\n",
            " |      \n",
            " |          >>> # xdoctest: +SKIP(\"undefined vars\")\n",
            " |          >>> for name, buf in self.named_buffers():\n",
            " |          >>>     if name in ['running_var']:\n",
            " |          >>>         print(buf.size())\n",
            " |  \n",
            " |  named_children(self) -> Iterator[Tuple[str, ForwardRef('Module')]]\n",
            " |      Return an iterator over immediate children modules, yielding both the name of the module as well as the module itself.\n",
            " |      \n",
            " |      Yields:\n",
            " |          (str, Module): Tuple containing a name and child module\n",
            " |      \n",
            " |      Example::\n",
            " |      \n",
            " |          >>> # xdoctest: +SKIP(\"undefined vars\")\n",
            " |          >>> for name, module in model.named_children():\n",
            " |          >>>     if name in ['conv4', 'conv5']:\n",
            " |          >>>         print(module)\n",
            " |  \n",
            " |  named_modules(self, memo: Union[Set[ForwardRef('Module')], NoneType] = None, prefix: str = '', remove_duplicate: bool = True)\n",
            " |      Return an iterator over all modules in the network, yielding both the name of the module as well as the module itself.\n",
            " |      \n",
            " |      Args:\n",
            " |          memo: a memo to store the set of modules already added to the result\n",
            " |          prefix: a prefix that will be added to the name of the module\n",
            " |          remove_duplicate: whether to remove the duplicated module instances in the result\n",
            " |              or not\n",
            " |      \n",
            " |      Yields:\n",
            " |          (str, Module): Tuple of name and module\n",
            " |      \n",
            " |      Note:\n",
            " |          Duplicate modules are returned only once. In the following\n",
            " |          example, ``l`` will be returned only once.\n",
            " |      \n",
            " |      Example::\n",
            " |      \n",
            " |          >>> l = nn.Linear(2, 2)\n",
            " |          >>> net = nn.Sequential(l, l)\n",
            " |          >>> for idx, m in enumerate(net.named_modules()):\n",
            " |          ...     print(idx, '->', m)\n",
            " |      \n",
            " |          0 -> ('', Sequential(\n",
            " |            (0): Linear(in_features=2, out_features=2, bias=True)\n",
            " |            (1): Linear(in_features=2, out_features=2, bias=True)\n",
            " |          ))\n",
            " |          1 -> ('0', Linear(in_features=2, out_features=2, bias=True))\n",
            " |  \n",
            " |  named_parameters(self, prefix: str = '', recurse: bool = True, remove_duplicate: bool = True) -> Iterator[Tuple[str, torch.nn.parameter.Parameter]]\n",
            " |      Return an iterator over module parameters, yielding both the name of the parameter as well as the parameter itself.\n",
            " |      \n",
            " |      Args:\n",
            " |          prefix (str): prefix to prepend to all parameter names.\n",
            " |          recurse (bool): if True, then yields parameters of this module\n",
            " |              and all submodules. Otherwise, yields only parameters that\n",
            " |              are direct members of this module.\n",
            " |          remove_duplicate (bool, optional): whether to remove the duplicated\n",
            " |              parameters in the result. Defaults to True.\n",
            " |      \n",
            " |      Yields:\n",
            " |          (str, Parameter): Tuple containing the name and parameter\n",
            " |      \n",
            " |      Example::\n",
            " |      \n",
            " |          >>> # xdoctest: +SKIP(\"undefined vars\")\n",
            " |          >>> for name, param in self.named_parameters():\n",
            " |          >>>     if name in ['bias']:\n",
            " |          >>>         print(param.size())\n",
            " |  \n",
            " |  parameters(self, recurse: bool = True) -> Iterator[torch.nn.parameter.Parameter]\n",
            " |      Return an iterator over module parameters.\n",
            " |      \n",
            " |      This is typically passed to an optimizer.\n",
            " |      \n",
            " |      Args:\n",
            " |          recurse (bool): if True, then yields parameters of this module\n",
            " |              and all submodules. Otherwise, yields only parameters that\n",
            " |              are direct members of this module.\n",
            " |      \n",
            " |      Yields:\n",
            " |          Parameter: module parameter\n",
            " |      \n",
            " |      Example::\n",
            " |      \n",
            " |          >>> # xdoctest: +SKIP(\"undefined vars\")\n",
            " |          >>> for param in model.parameters():\n",
            " |          >>>     print(type(param), param.size())\n",
            " |          <class 'torch.Tensor'> (20L,)\n",
            " |          <class 'torch.Tensor'> (20L, 1L, 5L, 5L)\n",
            " |  \n",
            " |  register_backward_hook(self, hook: Callable[[ForwardRef('Module'), Union[Tuple[torch.Tensor, ...], torch.Tensor], Union[Tuple[torch.Tensor, ...], torch.Tensor]], Union[NoneType, Tuple[torch.Tensor, ...], torch.Tensor]]) -> torch.utils.hooks.RemovableHandle\n",
            " |      Register a backward hook on the module.\n",
            " |      \n",
            " |      This function is deprecated in favor of :meth:`~torch.nn.Module.register_full_backward_hook` and\n",
            " |      the behavior of this function will change in future versions.\n",
            " |      \n",
            " |      Returns:\n",
            " |          :class:`torch.utils.hooks.RemovableHandle`:\n",
            " |              a handle that can be used to remove the added hook by calling\n",
            " |              ``handle.remove()``\n",
            " |  \n",
            " |  register_buffer(self, name: str, tensor: Union[torch.Tensor, NoneType], persistent: bool = True) -> None\n",
            " |      Add a buffer to the module.\n",
            " |      \n",
            " |      This is typically used to register a buffer that should not to be\n",
            " |      considered a model parameter. For example, BatchNorm's ``running_mean``\n",
            " |      is not a parameter, but is part of the module's state. Buffers, by\n",
            " |      default, are persistent and will be saved alongside parameters. This\n",
            " |      behavior can be changed by setting :attr:`persistent` to ``False``. The\n",
            " |      only difference between a persistent buffer and a non-persistent buffer\n",
            " |      is that the latter will not be a part of this module's\n",
            " |      :attr:`state_dict`.\n",
            " |      \n",
            " |      Buffers can be accessed as attributes using given names.\n",
            " |      \n",
            " |      Args:\n",
            " |          name (str): name of the buffer. The buffer can be accessed\n",
            " |              from this module using the given name\n",
            " |          tensor (Tensor or None): buffer to be registered. If ``None``, then operations\n",
            " |              that run on buffers, such as :attr:`cuda`, are ignored. If ``None``,\n",
            " |              the buffer is **not** included in the module's :attr:`state_dict`.\n",
            " |          persistent (bool): whether the buffer is part of this module's\n",
            " |              :attr:`state_dict`.\n",
            " |      \n",
            " |      Example::\n",
            " |      \n",
            " |          >>> # xdoctest: +SKIP(\"undefined vars\")\n",
            " |          >>> self.register_buffer('running_mean', torch.zeros(num_features))\n",
            " |  \n",
            " |  register_forward_hook(self, hook: Union[Callable[[~T, Tuple[Any, ...], Any], Union[Any, NoneType]], Callable[[~T, Tuple[Any, ...], Dict[str, Any], Any], Union[Any, NoneType]]], *, prepend: bool = False, with_kwargs: bool = False, always_call: bool = False) -> torch.utils.hooks.RemovableHandle\n",
            " |      Register a forward hook on the module.\n",
            " |      \n",
            " |      The hook will be called every time after :func:`forward` has computed an output.\n",
            " |      \n",
            " |      If ``with_kwargs`` is ``False`` or not specified, the input contains only\n",
            " |      the positional arguments given to the module. Keyword arguments won't be\n",
            " |      passed to the hooks and only to the ``forward``. The hook can modify the\n",
            " |      output. It can modify the input inplace but it will not have effect on\n",
            " |      forward since this is called after :func:`forward` is called. The hook\n",
            " |      should have the following signature::\n",
            " |      \n",
            " |          hook(module, args, output) -> None or modified output\n",
            " |      \n",
            " |      If ``with_kwargs`` is ``True``, the forward hook will be passed the\n",
            " |      ``kwargs`` given to the forward function and be expected to return the\n",
            " |      output possibly modified. The hook should have the following signature::\n",
            " |      \n",
            " |          hook(module, args, kwargs, output) -> None or modified output\n",
            " |      \n",
            " |      Args:\n",
            " |          hook (Callable): The user defined hook to be registered.\n",
            " |          prepend (bool): If ``True``, the provided ``hook`` will be fired\n",
            " |              before all existing ``forward`` hooks on this\n",
            " |              :class:`torch.nn.modules.Module`. Otherwise, the provided\n",
            " |              ``hook`` will be fired after all existing ``forward`` hooks on\n",
            " |              this :class:`torch.nn.modules.Module`. Note that global\n",
            " |              ``forward`` hooks registered with\n",
            " |              :func:`register_module_forward_hook` will fire before all hooks\n",
            " |              registered by this method.\n",
            " |              Default: ``False``\n",
            " |          with_kwargs (bool): If ``True``, the ``hook`` will be passed the\n",
            " |              kwargs given to the forward function.\n",
            " |              Default: ``False``\n",
            " |          always_call (bool): If ``True`` the ``hook`` will be run regardless of\n",
            " |              whether an exception is raised while calling the Module.\n",
            " |              Default: ``False``\n",
            " |      \n",
            " |      Returns:\n",
            " |          :class:`torch.utils.hooks.RemovableHandle`:\n",
            " |              a handle that can be used to remove the added hook by calling\n",
            " |              ``handle.remove()``\n",
            " |  \n",
            " |  register_forward_pre_hook(self, hook: Union[Callable[[~T, Tuple[Any, ...]], Union[Any, NoneType]], Callable[[~T, Tuple[Any, ...], Dict[str, Any]], Union[Tuple[Any, Dict[str, Any]], NoneType]]], *, prepend: bool = False, with_kwargs: bool = False) -> torch.utils.hooks.RemovableHandle\n",
            " |      Register a forward pre-hook on the module.\n",
            " |      \n",
            " |      The hook will be called every time before :func:`forward` is invoked.\n",
            " |      \n",
            " |      \n",
            " |      If ``with_kwargs`` is false or not specified, the input contains only\n",
            " |      the positional arguments given to the module. Keyword arguments won't be\n",
            " |      passed to the hooks and only to the ``forward``. The hook can modify the\n",
            " |      input. User can either return a tuple or a single modified value in the\n",
            " |      hook. We will wrap the value into a tuple if a single value is returned\n",
            " |      (unless that value is already a tuple). The hook should have the\n",
            " |      following signature::\n",
            " |      \n",
            " |          hook(module, args) -> None or modified input\n",
            " |      \n",
            " |      If ``with_kwargs`` is true, the forward pre-hook will be passed the\n",
            " |      kwargs given to the forward function. And if the hook modifies the\n",
            " |      input, both the args and kwargs should be returned. The hook should have\n",
            " |      the following signature::\n",
            " |      \n",
            " |          hook(module, args, kwargs) -> None or a tuple of modified input and kwargs\n",
            " |      \n",
            " |      Args:\n",
            " |          hook (Callable): The user defined hook to be registered.\n",
            " |          prepend (bool): If true, the provided ``hook`` will be fired before\n",
            " |              all existing ``forward_pre`` hooks on this\n",
            " |              :class:`torch.nn.modules.Module`. Otherwise, the provided\n",
            " |              ``hook`` will be fired after all existing ``forward_pre`` hooks\n",
            " |              on this :class:`torch.nn.modules.Module`. Note that global\n",
            " |              ``forward_pre`` hooks registered with\n",
            " |              :func:`register_module_forward_pre_hook` will fire before all\n",
            " |              hooks registered by this method.\n",
            " |              Default: ``False``\n",
            " |          with_kwargs (bool): If true, the ``hook`` will be passed the kwargs\n",
            " |              given to the forward function.\n",
            " |              Default: ``False``\n",
            " |      \n",
            " |      Returns:\n",
            " |          :class:`torch.utils.hooks.RemovableHandle`:\n",
            " |              a handle that can be used to remove the added hook by calling\n",
            " |              ``handle.remove()``\n",
            " |  \n",
            " |  register_full_backward_hook(self, hook: Callable[[ForwardRef('Module'), Union[Tuple[torch.Tensor, ...], torch.Tensor], Union[Tuple[torch.Tensor, ...], torch.Tensor]], Union[NoneType, Tuple[torch.Tensor, ...], torch.Tensor]], prepend: bool = False) -> torch.utils.hooks.RemovableHandle\n",
            " |      Register a backward hook on the module.\n",
            " |      \n",
            " |      The hook will be called every time the gradients with respect to a module\n",
            " |      are computed, i.e. the hook will execute if and only if the gradients with\n",
            " |      respect to module outputs are computed. The hook should have the following\n",
            " |      signature::\n",
            " |      \n",
            " |          hook(module, grad_input, grad_output) -> tuple(Tensor) or None\n",
            " |      \n",
            " |      The :attr:`grad_input` and :attr:`grad_output` are tuples that contain the gradients\n",
            " |      with respect to the inputs and outputs respectively. The hook should\n",
            " |      not modify its arguments, but it can optionally return a new gradient with\n",
            " |      respect to the input that will be used in place of :attr:`grad_input` in\n",
            " |      subsequent computations. :attr:`grad_input` will only correspond to the inputs given\n",
            " |      as positional arguments and all kwarg arguments are ignored. Entries\n",
            " |      in :attr:`grad_input` and :attr:`grad_output` will be ``None`` for all non-Tensor\n",
            " |      arguments.\n",
            " |      \n",
            " |      For technical reasons, when this hook is applied to a Module, its forward function will\n",
            " |      receive a view of each Tensor passed to the Module. Similarly the caller will receive a view\n",
            " |      of each Tensor returned by the Module's forward function.\n",
            " |      \n",
            " |      .. warning ::\n",
            " |          Modifying inputs or outputs inplace is not allowed when using backward hooks and\n",
            " |          will raise an error.\n",
            " |      \n",
            " |      Args:\n",
            " |          hook (Callable): The user-defined hook to be registered.\n",
            " |          prepend (bool): If true, the provided ``hook`` will be fired before\n",
            " |              all existing ``backward`` hooks on this\n",
            " |              :class:`torch.nn.modules.Module`. Otherwise, the provided\n",
            " |              ``hook`` will be fired after all existing ``backward`` hooks on\n",
            " |              this :class:`torch.nn.modules.Module`. Note that global\n",
            " |              ``backward`` hooks registered with\n",
            " |              :func:`register_module_full_backward_hook` will fire before\n",
            " |              all hooks registered by this method.\n",
            " |      \n",
            " |      Returns:\n",
            " |          :class:`torch.utils.hooks.RemovableHandle`:\n",
            " |              a handle that can be used to remove the added hook by calling\n",
            " |              ``handle.remove()``\n",
            " |  \n",
            " |  register_full_backward_pre_hook(self, hook: Callable[[ForwardRef('Module'), Union[Tuple[torch.Tensor, ...], torch.Tensor]], Union[NoneType, Tuple[torch.Tensor, ...], torch.Tensor]], prepend: bool = False) -> torch.utils.hooks.RemovableHandle\n",
            " |      Register a backward pre-hook on the module.\n",
            " |      \n",
            " |      The hook will be called every time the gradients for the module are computed.\n",
            " |      The hook should have the following signature::\n",
            " |      \n",
            " |          hook(module, grad_output) -> tuple[Tensor] or None\n",
            " |      \n",
            " |      The :attr:`grad_output` is a tuple. The hook should\n",
            " |      not modify its arguments, but it can optionally return a new gradient with\n",
            " |      respect to the output that will be used in place of :attr:`grad_output` in\n",
            " |      subsequent computations. Entries in :attr:`grad_output` will be ``None`` for\n",
            " |      all non-Tensor arguments.\n",
            " |      \n",
            " |      For technical reasons, when this hook is applied to a Module, its forward function will\n",
            " |      receive a view of each Tensor passed to the Module. Similarly the caller will receive a view\n",
            " |      of each Tensor returned by the Module's forward function.\n",
            " |      \n",
            " |      .. warning ::\n",
            " |          Modifying inputs inplace is not allowed when using backward hooks and\n",
            " |          will raise an error.\n",
            " |      \n",
            " |      Args:\n",
            " |          hook (Callable): The user-defined hook to be registered.\n",
            " |          prepend (bool): If true, the provided ``hook`` will be fired before\n",
            " |              all existing ``backward_pre`` hooks on this\n",
            " |              :class:`torch.nn.modules.Module`. Otherwise, the provided\n",
            " |              ``hook`` will be fired after all existing ``backward_pre`` hooks\n",
            " |              on this :class:`torch.nn.modules.Module`. Note that global\n",
            " |              ``backward_pre`` hooks registered with\n",
            " |              :func:`register_module_full_backward_pre_hook` will fire before\n",
            " |              all hooks registered by this method.\n",
            " |      \n",
            " |      Returns:\n",
            " |          :class:`torch.utils.hooks.RemovableHandle`:\n",
            " |              a handle that can be used to remove the added hook by calling\n",
            " |              ``handle.remove()``\n",
            " |  \n",
            " |  register_load_state_dict_post_hook(self, hook)\n",
            " |      Register a post hook to be run after module's ``load_state_dict`` is called.\n",
            " |      \n",
            " |      It should have the following signature::\n",
            " |          hook(module, incompatible_keys) -> None\n",
            " |      \n",
            " |      The ``module`` argument is the current module that this hook is registered\n",
            " |      on, and the ``incompatible_keys`` argument is a ``NamedTuple`` consisting\n",
            " |      of attributes ``missing_keys`` and ``unexpected_keys``. ``missing_keys``\n",
            " |      is a ``list`` of ``str`` containing the missing keys and\n",
            " |      ``unexpected_keys`` is a ``list`` of ``str`` containing the unexpected keys.\n",
            " |      \n",
            " |      The given incompatible_keys can be modified inplace if needed.\n",
            " |      \n",
            " |      Note that the checks performed when calling :func:`load_state_dict` with\n",
            " |      ``strict=True`` are affected by modifications the hook makes to\n",
            " |      ``missing_keys`` or ``unexpected_keys``, as expected. Additions to either\n",
            " |      set of keys will result in an error being thrown when ``strict=True``, and\n",
            " |      clearing out both missing and unexpected keys will avoid an error.\n",
            " |      \n",
            " |      Returns:\n",
            " |          :class:`torch.utils.hooks.RemovableHandle`:\n",
            " |              a handle that can be used to remove the added hook by calling\n",
            " |              ``handle.remove()``\n",
            " |  \n",
            " |  register_module(self, name: str, module: Union[ForwardRef('Module'), NoneType]) -> None\n",
            " |      Alias for :func:`add_module`.\n",
            " |  \n",
            " |  register_parameter(self, name: str, param: Union[torch.nn.parameter.Parameter, NoneType]) -> None\n",
            " |      Add a parameter to the module.\n",
            " |      \n",
            " |      The parameter can be accessed as an attribute using given name.\n",
            " |      \n",
            " |      Args:\n",
            " |          name (str): name of the parameter. The parameter can be accessed\n",
            " |              from this module using the given name\n",
            " |          param (Parameter or None): parameter to be added to the module. If\n",
            " |              ``None``, then operations that run on parameters, such as :attr:`cuda`,\n",
            " |              are ignored. If ``None``, the parameter is **not** included in the\n",
            " |              module's :attr:`state_dict`.\n",
            " |  \n",
            " |  register_state_dict_pre_hook(self, hook)\n",
            " |      Register a pre-hook for the :meth:`~torch.nn.Module.load_state_dict` method.\n",
            " |      \n",
            " |      These hooks will be called with arguments: ``self``, ``prefix``,\n",
            " |      and ``keep_vars`` before calling ``state_dict`` on ``self``. The registered\n",
            " |      hooks can be used to perform pre-processing before the ``state_dict``\n",
            " |      call is made.\n",
            " |  \n",
            " |  requires_grad_(self: ~T, requires_grad: bool = True) -> ~T\n",
            " |      Change if autograd should record operations on parameters in this module.\n",
            " |      \n",
            " |      This method sets the parameters' :attr:`requires_grad` attributes\n",
            " |      in-place.\n",
            " |      \n",
            " |      This method is helpful for freezing part of the module for finetuning\n",
            " |      or training parts of a model individually (e.g., GAN training).\n",
            " |      \n",
            " |      See :ref:`locally-disable-grad-doc` for a comparison between\n",
            " |      `.requires_grad_()` and several similar mechanisms that may be confused with it.\n",
            " |      \n",
            " |      Args:\n",
            " |          requires_grad (bool): whether autograd should record operations on\n",
            " |                                parameters in this module. Default: ``True``.\n",
            " |      \n",
            " |      Returns:\n",
            " |          Module: self\n",
            " |  \n",
            " |  set_extra_state(self, state: Any)\n",
            " |      Set extra state contained in the loaded `state_dict`.\n",
            " |      \n",
            " |      This function is called from :func:`load_state_dict` to handle any extra state\n",
            " |      found within the `state_dict`. Implement this function and a corresponding\n",
            " |      :func:`get_extra_state` for your module if you need to store extra state within its\n",
            " |      `state_dict`.\n",
            " |      \n",
            " |      Args:\n",
            " |          state (dict): Extra state from the `state_dict`\n",
            " |  \n",
            " |  share_memory(self: ~T) -> ~T\n",
            " |      See :meth:`torch.Tensor.share_memory_`.\n",
            " |  \n",
            " |  state_dict(self, *args, destination=None, prefix='', keep_vars=False)\n",
            " |      Return a dictionary containing references to the whole state of the module.\n",
            " |      \n",
            " |      Both parameters and persistent buffers (e.g. running averages) are\n",
            " |      included. Keys are corresponding parameter and buffer names.\n",
            " |      Parameters and buffers set to ``None`` are not included.\n",
            " |      \n",
            " |      .. note::\n",
            " |          The returned object is a shallow copy. It contains references\n",
            " |          to the module's parameters and buffers.\n",
            " |      \n",
            " |      .. warning::\n",
            " |          Currently ``state_dict()`` also accepts positional arguments for\n",
            " |          ``destination``, ``prefix`` and ``keep_vars`` in order. However,\n",
            " |          this is being deprecated and keyword arguments will be enforced in\n",
            " |          future releases.\n",
            " |      \n",
            " |      .. warning::\n",
            " |          Please avoid the use of argument ``destination`` as it is not\n",
            " |          designed for end-users.\n",
            " |      \n",
            " |      Args:\n",
            " |          destination (dict, optional): If provided, the state of module will\n",
            " |              be updated into the dict and the same object is returned.\n",
            " |              Otherwise, an ``OrderedDict`` will be created and returned.\n",
            " |              Default: ``None``.\n",
            " |          prefix (str, optional): a prefix added to parameter and buffer\n",
            " |              names to compose the keys in state_dict. Default: ``''``.\n",
            " |          keep_vars (bool, optional): by default the :class:`~torch.Tensor` s\n",
            " |              returned in the state dict are detached from autograd. If it's\n",
            " |              set to ``True``, detaching will not be performed.\n",
            " |              Default: ``False``.\n",
            " |      \n",
            " |      Returns:\n",
            " |          dict:\n",
            " |              a dictionary containing a whole state of the module\n",
            " |      \n",
            " |      Example::\n",
            " |      \n",
            " |          >>> # xdoctest: +SKIP(\"undefined vars\")\n",
            " |          >>> module.state_dict().keys()\n",
            " |          ['bias', 'weight']\n",
            " |  \n",
            " |  to(self, *args, **kwargs)\n",
            " |      Move and/or cast the parameters and buffers.\n",
            " |      \n",
            " |      This can be called as\n",
            " |      \n",
            " |      .. function:: to(device=None, dtype=None, non_blocking=False)\n",
            " |         :noindex:\n",
            " |      \n",
            " |      .. function:: to(dtype, non_blocking=False)\n",
            " |         :noindex:\n",
            " |      \n",
            " |      .. function:: to(tensor, non_blocking=False)\n",
            " |         :noindex:\n",
            " |      \n",
            " |      .. function:: to(memory_format=torch.channels_last)\n",
            " |         :noindex:\n",
            " |      \n",
            " |      Its signature is similar to :meth:`torch.Tensor.to`, but only accepts\n",
            " |      floating point or complex :attr:`dtype`\\ s. In addition, this method will\n",
            " |      only cast the floating point or complex parameters and buffers to :attr:`dtype`\n",
            " |      (if given). The integral parameters and buffers will be moved\n",
            " |      :attr:`device`, if that is given, but with dtypes unchanged. When\n",
            " |      :attr:`non_blocking` is set, it tries to convert/move asynchronously\n",
            " |      with respect to the host if possible, e.g., moving CPU Tensors with\n",
            " |      pinned memory to CUDA devices.\n",
            " |      \n",
            " |      See below for examples.\n",
            " |      \n",
            " |      .. note::\n",
            " |          This method modifies the module in-place.\n",
            " |      \n",
            " |      Args:\n",
            " |          device (:class:`torch.device`): the desired device of the parameters\n",
            " |              and buffers in this module\n",
            " |          dtype (:class:`torch.dtype`): the desired floating point or complex dtype of\n",
            " |              the parameters and buffers in this module\n",
            " |          tensor (torch.Tensor): Tensor whose dtype and device are the desired\n",
            " |              dtype and device for all parameters and buffers in this module\n",
            " |          memory_format (:class:`torch.memory_format`): the desired memory\n",
            " |              format for 4D parameters and buffers in this module (keyword\n",
            " |              only argument)\n",
            " |      \n",
            " |      Returns:\n",
            " |          Module: self\n",
            " |      \n",
            " |      Examples::\n",
            " |      \n",
            " |          >>> # xdoctest: +IGNORE_WANT(\"non-deterministic\")\n",
            " |          >>> linear = nn.Linear(2, 2)\n",
            " |          >>> linear.weight\n",
            " |          Parameter containing:\n",
            " |          tensor([[ 0.1913, -0.3420],\n",
            " |                  [-0.5113, -0.2325]])\n",
            " |          >>> linear.to(torch.double)\n",
            " |          Linear(in_features=2, out_features=2, bias=True)\n",
            " |          >>> linear.weight\n",
            " |          Parameter containing:\n",
            " |          tensor([[ 0.1913, -0.3420],\n",
            " |                  [-0.5113, -0.2325]], dtype=torch.float64)\n",
            " |          >>> # xdoctest: +REQUIRES(env:TORCH_DOCTEST_CUDA1)\n",
            " |          >>> gpu1 = torch.device(\"cuda:1\")\n",
            " |          >>> linear.to(gpu1, dtype=torch.half, non_blocking=True)\n",
            " |          Linear(in_features=2, out_features=2, bias=True)\n",
            " |          >>> linear.weight\n",
            " |          Parameter containing:\n",
            " |          tensor([[ 0.1914, -0.3420],\n",
            " |                  [-0.5112, -0.2324]], dtype=torch.float16, device='cuda:1')\n",
            " |          >>> cpu = torch.device(\"cpu\")\n",
            " |          >>> linear.to(cpu)\n",
            " |          Linear(in_features=2, out_features=2, bias=True)\n",
            " |          >>> linear.weight\n",
            " |          Parameter containing:\n",
            " |          tensor([[ 0.1914, -0.3420],\n",
            " |                  [-0.5112, -0.2324]], dtype=torch.float16)\n",
            " |      \n",
            " |          >>> linear = nn.Linear(2, 2, bias=None).to(torch.cdouble)\n",
            " |          >>> linear.weight\n",
            " |          Parameter containing:\n",
            " |          tensor([[ 0.3741+0.j,  0.2382+0.j],\n",
            " |                  [ 0.5593+0.j, -0.4443+0.j]], dtype=torch.complex128)\n",
            " |          >>> linear(torch.ones(3, 2, dtype=torch.cdouble))\n",
            " |          tensor([[0.6122+0.j, 0.1150+0.j],\n",
            " |                  [0.6122+0.j, 0.1150+0.j],\n",
            " |                  [0.6122+0.j, 0.1150+0.j]], dtype=torch.complex128)\n",
            " |  \n",
            " |  to_empty(self: ~T, *, device: Union[int, str, torch.device, NoneType], recurse: bool = True) -> ~T\n",
            " |      Move the parameters and buffers to the specified device without copying storage.\n",
            " |      \n",
            " |      Args:\n",
            " |          device (:class:`torch.device`): The desired device of the parameters\n",
            " |              and buffers in this module.\n",
            " |          recurse (bool): Whether parameters and buffers of submodules should\n",
            " |              be recursively moved to the specified device.\n",
            " |      \n",
            " |      Returns:\n",
            " |          Module: self\n",
            " |  \n",
            " |  train(self: ~T, mode: bool = True) -> ~T\n",
            " |      Set the module in training mode.\n",
            " |      \n",
            " |      This has any effect only on certain modules. See documentations of\n",
            " |      particular modules for details of their behaviors in training/evaluation\n",
            " |      mode, if they are affected, e.g. :class:`Dropout`, :class:`BatchNorm`,\n",
            " |      etc.\n",
            " |      \n",
            " |      Args:\n",
            " |          mode (bool): whether to set training mode (``True``) or evaluation\n",
            " |                       mode (``False``). Default: ``True``.\n",
            " |      \n",
            " |      Returns:\n",
            " |          Module: self\n",
            " |  \n",
            " |  type(self: ~T, dst_type: Union[torch.dtype, str]) -> ~T\n",
            " |      Casts all parameters and buffers to :attr:`dst_type`.\n",
            " |      \n",
            " |      .. note::\n",
            " |          This method modifies the module in-place.\n",
            " |      \n",
            " |      Args:\n",
            " |          dst_type (type or string): the desired type\n",
            " |      \n",
            " |      Returns:\n",
            " |          Module: self\n",
            " |  \n",
            " |  xpu(self: ~T, device: Union[int, torch.device, NoneType] = None) -> ~T\n",
            " |      Move all model parameters and buffers to the XPU.\n",
            " |      \n",
            " |      This also makes associated parameters and buffers different objects. So\n",
            " |      it should be called before constructing optimizer if the module will\n",
            " |      live on XPU while being optimized.\n",
            " |      \n",
            " |      .. note::\n",
            " |          This method modifies the module in-place.\n",
            " |      \n",
            " |      Arguments:\n",
            " |          device (int, optional): if specified, all parameters will be\n",
            " |              copied to that device\n",
            " |      \n",
            " |      Returns:\n",
            " |          Module: self\n",
            " |  \n",
            " |  zero_grad(self, set_to_none: bool = True) -> None\n",
            " |      Reset gradients of all model parameters.\n",
            " |      \n",
            " |      See similar function under :class:`torch.optim.Optimizer` for more context.\n",
            " |      \n",
            " |      Args:\n",
            " |          set_to_none (bool): instead of setting to zero, set the grads to None.\n",
            " |              See :meth:`torch.optim.Optimizer.zero_grad` for details.\n",
            " |  \n",
            " |  ----------------------------------------------------------------------\n",
            " |  Data descriptors inherited from torch.nn.modules.module.Module:\n",
            " |  \n",
            " |  __dict__\n",
            " |      dictionary for instance variables (if defined)\n",
            " |  \n",
            " |  __weakref__\n",
            " |      list of weak references to the object (if defined)\n",
            " |  \n",
            " |  ----------------------------------------------------------------------\n",
            " |  Data and other attributes inherited from torch.nn.modules.module.Module:\n",
            " |  \n",
            " |  T_destination = ~T_destination\n",
            " |  \n",
            " |  call_super_init = False\n",
            " |  \n",
            " |  dump_patches = False\n",
            "\n"
          ]
        }
      ],
      "source": [
        "help(nn.LSTM)"
      ]
    },
    {
      "cell_type": "markdown",
      "metadata": {},
      "source": [
        "# Seq2Seq RNN in PyTorch\n",
        "\n",
        "For a sequence-to-sequence (seq2seq) task, where each input time step maps to an output time step, you'll want your model to produce a sequence of outputs. Here's how you can set that up in PyTorch when the input size and output size are different:"
      ]
    },
    {
      "cell_type": "code",
      "execution_count": 54,
      "metadata": {},
      "outputs": [
        {
          "name": "stdout",
          "output_type": "stream",
          "text": [
            "torch.Size([16, 10, 6])\n"
          ]
        }
      ],
      "source": [
        "import torch\n",
        "import torch.nn as nn\n",
        "\n",
        "class Seq2SeqRNN(nn.Module):\n",
        "    def __init__(self, input_size, hidden_size, output_size):\n",
        "        super(Seq2SeqRNN, self).__init__()\n",
        "        self.rnn = nn.RNN(input_size=input_size, hidden_size=hidden_size, batch_first=True)\n",
        "        self.fc = nn.Linear(hidden_size, output_size)\n",
        "\n",
        "    def forward(self, x):\n",
        "        # x: (batch_size, seq_len, input_size)\n",
        "        rnn_out, _ = self.rnn(x)  # rnn_out: (batch_size, seq_len, hidden_size)\n",
        "        \n",
        "        # Apply linear layer to each time step\n",
        "        output = self.fc(rnn_out)  # output: (batch_size, seq_len, output_size)\n",
        "        \n",
        "        return output\n",
        "\n",
        "# Example usage\n",
        "batch_size = 16\n",
        "seq_len = 10\n",
        "input_size = 8\n",
        "hidden_size = 20\n",
        "output_size = 6\n",
        "\n",
        "model = Seq2SeqRNN(input_size, hidden_size, output_size)\n",
        "x = torch.randn(batch_size, seq_len, input_size)\n",
        "y = model(x)\n",
        "\n",
        "print(y.shape)  # Expected: (16, 10, 6)"
      ]
    },
    {
      "cell_type": "markdown",
      "metadata": {},
      "source": [
        "# Seq2seq: different sequence length\n",
        "the output sequence length differs from the input sequence length, you need a true encoder-decoder (seq2seq) architecture. \n",
        "1. Encoder\n",
        "Reads the input sequence of length input_seq_len\n",
        "Encodes it into a fixed-size context vector (e.g., final hidden state)\n",
        "2. Decoder\n",
        "Takes the context vector and generates a sequence of outputs of length output_seq_len, one step at a time"
      ]
    },
    {
      "cell_type": "code",
      "execution_count": 56,
      "metadata": {
        "colab": {},
        "colab_type": "code",
        "id": "AGcoQzEBQHeP"
      },
      "outputs": [
        {
          "name": "stdout",
          "output_type": "stream",
          "text": [
            "torch.Size([32, 7, 6])\n"
          ]
        }
      ],
      "source": [
        "import torch\n",
        "import torch.nn as nn\n",
        "\n",
        "class Encoder(nn.Module):\n",
        "    def __init__(self, input_size, hidden_size):\n",
        "        super(Encoder, self).__init__()\n",
        "        self.rnn = nn.RNN(input_size=input_size, hidden_size=hidden_size, batch_first=True)\n",
        "\n",
        "    def forward(self, x):\n",
        "        # x: (batch_size, input_seq_len, input_size)\n",
        "        outputs, hidden = self.rnn(x)  # hidden: (1, batch, hidden_size)\n",
        "        return hidden\n",
        "\n",
        "\n",
        "class Decoder(nn.Module):\n",
        "    def __init__(self, output_size, hidden_size):\n",
        "        super(Decoder, self).__init__()\n",
        "        self.rnn = nn.RNN(input_size=output_size, hidden_size=hidden_size, batch_first=True)\n",
        "        self.fc = nn.Linear(hidden_size, output_size)\n",
        "\n",
        "    def forward(self, decoder_input, hidden):\n",
        "        # decoder_input: (batch_size, 1, output_size) ← one timestep\n",
        "        output, hidden = self.rnn(decoder_input, hidden)\n",
        "        output = self.fc(output)  # (batch_size, 1, output_size)\n",
        "        return output, hidden\n",
        "\n",
        "\n",
        "class Seq2Seq(nn.Module):\n",
        "    def __init__(self, encoder, decoder, output_seq_len):\n",
        "        super(Seq2Seq, self).__init__()\n",
        "        self.encoder = encoder\n",
        "        self.decoder = decoder\n",
        "        self.output_seq_len = output_seq_len\n",
        "\n",
        "    def forward(self, x):\n",
        "        batch_size = x.size(0)\n",
        "        output_size = self.decoder.fc.out_features\n",
        "        \n",
        "        hidden = self.encoder(x)\n",
        "\n",
        "        # Start with zeros or a special <START> token\n",
        "        decoder_input = torch.zeros(batch_size, 1, output_size, device=x.device)\n",
        "\n",
        "        outputs = []\n",
        "\n",
        "        for _ in range(self.output_seq_len):\n",
        "            output, hidden = self.decoder(decoder_input, hidden)\n",
        "            outputs.append(output)\n",
        "            decoder_input = output  # Teacher forcing could go here\n",
        "\n",
        "        return torch.cat(outputs, dim=1)  # (batch_size, output_seq_len, output_size)\n",
        "\n",
        "# Example\n",
        "input_size = 8\n",
        "hidden_size = 16\n",
        "output_size = 6\n",
        "\n",
        "input_seq_len = 10\n",
        "output_seq_len = 7\n",
        "\n",
        "encoder = Encoder(input_size, hidden_size)\n",
        "decoder = Decoder(output_size, hidden_size)\n",
        "model = Seq2Seq(encoder, decoder, output_seq_len)\n",
        "\n",
        "x = torch.randn(32, input_seq_len, input_size)\n",
        "y = model(x)\n",
        "print(y.shape)  # Expected: (32, 7, 6)\n"
      ]
    },
    {
      "cell_type": "markdown",
      "metadata": {},
      "source": [
        "# Work on ETT dataset"
      ]
    },
    {
      "cell_type": "code",
      "execution_count": 26,
      "metadata": {},
      "outputs": [],
      "source": [
        "import torch\n",
        "from torch import nn\n",
        "import pandas as pd"
      ]
    },
    {
      "cell_type": "code",
      "execution_count": 27,
      "metadata": {},
      "outputs": [
        {
          "name": "stdout",
          "output_type": "stream",
          "text": [
            "                  date   HUFL   HULL   MUFL   MULL   LUFL   LULL         OT\n",
            "0  2016-07-01 00:00:00  5.827  2.009  1.599  0.462  4.203  1.340  30.531000\n",
            "1  2016-07-01 01:00:00  5.693  2.076  1.492  0.426  4.142  1.371  27.787001\n",
            "2  2016-07-01 02:00:00  5.157  1.741  1.279  0.355  3.777  1.218  27.787001\n",
            "3  2016-07-01 03:00:00  5.090  1.942  1.279  0.391  3.807  1.279  25.044001\n",
            "4  2016-07-01 04:00:00  5.358  1.942  1.492  0.462  3.868  1.279  21.948000\n",
            "(17420, 8)\n",
            "Index(['date', 'HUFL', 'HULL', 'MUFL', 'MULL', 'LUFL', 'LULL', 'OT'], dtype='object')\n"
          ]
        }
      ],
      "source": [
        "df = pd.read_csv('../Data/ETTH1.csv')\n",
        "print(df.head())\n",
        "print(df.shape)\n",
        "print(df.columns)\n"
      ]
    },
    {
      "cell_type": "code",
      "execution_count": 28,
      "metadata": {},
      "outputs": [
        {
          "data": {
            "text/html": [
              "<div>\n",
              "<style scoped>\n",
              "    .dataframe tbody tr th:only-of-type {\n",
              "        vertical-align: middle;\n",
              "    }\n",
              "\n",
              "    .dataframe tbody tr th {\n",
              "        vertical-align: top;\n",
              "    }\n",
              "\n",
              "    .dataframe thead th {\n",
              "        text-align: right;\n",
              "    }\n",
              "</style>\n",
              "<table border=\"1\" class=\"dataframe\">\n",
              "  <thead>\n",
              "    <tr style=\"text-align: right;\">\n",
              "      <th></th>\n",
              "      <th>HUFL</th>\n",
              "      <th>HULL</th>\n",
              "      <th>MUFL</th>\n",
              "      <th>MULL</th>\n",
              "      <th>LUFL</th>\n",
              "      <th>LULL</th>\n",
              "      <th>OT</th>\n",
              "    </tr>\n",
              "  </thead>\n",
              "  <tbody>\n",
              "    <tr>\n",
              "      <th>0</th>\n",
              "      <td>5.827</td>\n",
              "      <td>2.009</td>\n",
              "      <td>1.599</td>\n",
              "      <td>0.462</td>\n",
              "      <td>4.203</td>\n",
              "      <td>1.340</td>\n",
              "      <td>30.531000</td>\n",
              "    </tr>\n",
              "    <tr>\n",
              "      <th>1</th>\n",
              "      <td>5.693</td>\n",
              "      <td>2.076</td>\n",
              "      <td>1.492</td>\n",
              "      <td>0.426</td>\n",
              "      <td>4.142</td>\n",
              "      <td>1.371</td>\n",
              "      <td>27.787001</td>\n",
              "    </tr>\n",
              "    <tr>\n",
              "      <th>2</th>\n",
              "      <td>5.157</td>\n",
              "      <td>1.741</td>\n",
              "      <td>1.279</td>\n",
              "      <td>0.355</td>\n",
              "      <td>3.777</td>\n",
              "      <td>1.218</td>\n",
              "      <td>27.787001</td>\n",
              "    </tr>\n",
              "    <tr>\n",
              "      <th>3</th>\n",
              "      <td>5.090</td>\n",
              "      <td>1.942</td>\n",
              "      <td>1.279</td>\n",
              "      <td>0.391</td>\n",
              "      <td>3.807</td>\n",
              "      <td>1.279</td>\n",
              "      <td>25.044001</td>\n",
              "    </tr>\n",
              "    <tr>\n",
              "      <th>4</th>\n",
              "      <td>5.358</td>\n",
              "      <td>1.942</td>\n",
              "      <td>1.492</td>\n",
              "      <td>0.462</td>\n",
              "      <td>3.868</td>\n",
              "      <td>1.279</td>\n",
              "      <td>21.948000</td>\n",
              "    </tr>\n",
              "  </tbody>\n",
              "</table>\n",
              "</div>"
            ],
            "text/plain": [
              "    HUFL   HULL   MUFL   MULL   LUFL   LULL         OT\n",
              "0  5.827  2.009  1.599  0.462  4.203  1.340  30.531000\n",
              "1  5.693  2.076  1.492  0.426  4.142  1.371  27.787001\n",
              "2  5.157  1.741  1.279  0.355  3.777  1.218  27.787001\n",
              "3  5.090  1.942  1.279  0.391  3.807  1.279  25.044001\n",
              "4  5.358  1.942  1.492  0.462  3.868  1.279  21.948000"
            ]
          },
          "execution_count": 28,
          "metadata": {},
          "output_type": "execute_result"
        }
      ],
      "source": [
        "df = df.drop('date', axis=1)\n",
        "df.head()"
      ]
    },
    {
      "cell_type": "code",
      "execution_count": 30,
      "metadata": {},
      "outputs": [],
      "source": [
        "import torch\n",
        "from torch.utils.data import Dataset\n",
        "\n",
        "class TimeSeriesDataset(Dataset):\n",
        "    def __init__(self, data, input_window, output_window):\n",
        "        \"\"\"\n",
        "        Args:\n",
        "            data (torch.Tensor or np.array): time series data, shape (time_steps, features) or (time_steps,)\n",
        "            input_window (int): number of time steps for input\n",
        "            output_window (int): number of time steps to predict\n",
        "        \"\"\"\n",
        "        if isinstance(data, np.ndarray):\n",
        "            data = torch.tensor(data, dtype=torch.float32)\n",
        "\n",
        "        self.data = data\n",
        "        self.input_window = input_window\n",
        "        self.output_window = output_window\n",
        "        self.length = len(data) - input_window - output_window + 1\n",
        "\n",
        "    def __len__(self):\n",
        "        return self.length\n",
        "\n",
        "    def __getitem__(self, idx):\n",
        "        x = self.data[idx : idx + self.input_window]\n",
        "        y = self.data[idx + self.input_window : idx + self.input_window + self.output_window]\n",
        "        y = y[:,-1]\n",
        "        \n",
        "        return x, y\n",
        "    "
      ]
    },
    {
      "cell_type": "code",
      "execution_count": 34,
      "metadata": {},
      "outputs": [],
      "source": [
        "import numpy as np\n",
        "from torch.utils.data import DataLoader\n",
        "from sklearn.preprocessing import StandardScaler\n",
        "\n",
        "# Dummy time series data\n",
        "#time_series = np.sin(np.linspace(0, 100, 500))  # shape: (500,)\n",
        "data_size = df.shape[0]\n",
        "df_train = df[0:int(data_size*0.6)]\n",
        "df_val = df[int(data_size*0.6):int(data_size*0.8)]\n",
        "df_test = df[int(data_size*0.8):-1]\n",
        "time_series_train = df_train.to_numpy()\n",
        "time_series_val = df_val.to_numpy()\n",
        "time_series_test = df_test.to_numpy()\n",
        "\n",
        "scaler = StandardScaler()\n",
        "scaler.fit(time_series_train)\n",
        "time_series_train = scaler.transform(time_series_train.astype(float))\n",
        "time_series_val = scaler.transform(time_series_val.astype(float))\n",
        "time_series_test = scaler.transform(time_series_test.astype(float))\n",
        "time_series_train = StandardScaler().fit(time_series_train).transform(time_series_train.astype(float))\n",
        "\n",
        "\n",
        "\n",
        "input_window = 30\n",
        "output_window = 1\n",
        "\n",
        "dataset_train = TimeSeriesDataset(time_series_train, input_window, output_window)\n",
        "dataloader_train = DataLoader(dataset_train, batch_size=32, shuffle=True)\n",
        "\n",
        "dataset_val = TimeSeriesDataset(time_series_val, input_window, output_window)\n",
        "dataloader_val = DataLoader(dataset_val, batch_size=32, shuffle=True)\n",
        "\n",
        "dataset_test = TimeSeriesDataset(time_series_test, input_window, output_window)\n",
        "dataloader_test = DataLoader(dataset_test, batch_size=32, shuffle=True)\n",
        "\n",
        "# Fetch one batch\n",
        "#for x_batch, y_batch in dataloader:\n",
        "#    print(\"Input batch shape:\", x_batch.shape)   # (batch_size, input_window)\n",
        "#    print(\"Target batch shape:\", y_batch.shape)  # (batch_size, output_window)\n",
        "#    y_batch = torch.unsqueeze(y_batch,2)\n",
        "#    print(\"Target batch shape:\", y_batch.shape)\n",
        "#    #print(y_batch)\n",
        "#    break"
      ]
    },
    {
      "cell_type": "code",
      "execution_count": 35,
      "metadata": {},
      "outputs": [
        {
          "name": "stderr",
          "output_type": "stream",
          "text": [
            "100%|██████████| 40/40 [00:47<00:00,  1.19s/it]"
          ]
        },
        {
          "name": "stdout",
          "output_type": "stream",
          "text": [
            "[0.12034782 0.02329946 0.019869   0.01832697 0.01745377 0.01690326\n",
            " 0.01651902 0.0162567  0.01605937 0.01588678 0.01573124 0.01566087\n",
            " 0.0155213  0.0154532  0.01538164 0.01533807 0.01527864 0.01526471\n",
            " 0.01518613 0.01513328 0.01513833 0.01506626 0.01506702 0.01506654\n",
            " 0.01501291 0.01497261 0.01496673 0.01494162 0.01488809 0.01486762\n",
            " 0.0149007  0.01481825 0.01482155 0.01482249 0.0147794  0.01479995\n",
            " 0.01476432 0.01471985 0.01471164 0.01472414]\n"
          ]
        },
        {
          "name": "stderr",
          "output_type": "stream",
          "text": [
            "\n"
          ]
        },
        {
          "data": {
            "text/plain": [
              "[<matplotlib.lines.Line2D at 0x1a6acfaf0>]"
            ]
          },
          "execution_count": 35,
          "metadata": {},
          "output_type": "execute_result"
        },
        {
          "data": {
            "image/png": "[encoded data removed]",
            "text/plain": [
              "<Figure size 640x480 with 1 Axes>"
            ]
          },
          "metadata": {},
          "output_type": "display_data"
        }
      ],
      "source": [
        "import torch\n",
        "import torch.nn as nn\n",
        "from tqdm import tqdm\n",
        "from matplotlib import pyplot as plt\n",
        "\n",
        "class Seq2SeqRNN(nn.Module):\n",
        "    def __init__(self, input_size, hidden_size, output_size):\n",
        "        super(Seq2SeqRNN, self).__init__()\n",
        "        self.rnn = nn.RNN(input_size=input_size, hidden_size=hidden_size, batch_first=True)\n",
        "        self.fc = nn.Linear(hidden_size, output_size)\n",
        "\n",
        "    def forward(self, x):\n",
        "        # x: (batch_size, seq_len, input_size)\n",
        "        rnn_out, hidden = self.rnn(x)  # rnn_out: (batch_size, seq_len, hidden_size)\n",
        "        output = rnn_out[:,-1,:]\n",
        "        # Apply linear layer to each time step\n",
        "        output = self.fc(output)  # output: (batch_size, seq_len, output_size)\n",
        "        \n",
        "        return output\n",
        "\n",
        "# Example usage\n",
        "batch_size = 32\n",
        "seq_len = 20\n",
        "input_size = 7\n",
        "hidden_size = 20\n",
        "output_size = 1\n",
        "epochs = 40\n",
        "\n",
        "model = Seq2SeqRNN(input_size, hidden_size, output_size)\n",
        "\n",
        "optimizer = torch.optim.SGD(model.parameters(), lr=0.001, momentum=0.9, weight_decay=1e-4)\n",
        "criterion = nn.MSELoss()\n",
        "train_losses = np.zeros(epochs)\n",
        "val_losses = np.zeros(epochs)\n",
        "\n",
        "for epoch in tqdm(range(epochs)):\n",
        "    model.train()\n",
        "    train_loss = 0.\n",
        "    count = 0\n",
        "    for x_batch, y_batch in dataloader_train:\n",
        "        count += 1\n",
        "        x_batch = x_batch.type(torch.float32)\n",
        "        y_batch = y_batch.type(torch.float32)\n",
        "        # Forward pass\n",
        "        outputs = model(x_batch)\n",
        "\n",
        "        loss = criterion(outputs, y_batch[:, :])\n",
        "        train_loss += loss.item()\n",
        "\n",
        "        # Backpropagation\n",
        "        optimizer.zero_grad()\n",
        "        loss.backward()\n",
        "        optimizer.step()\n",
        "    \n",
        "    train_losses[epoch] = train_loss / count\n",
        "\n",
        "    model.eval()\n",
        "    with torch.inference_mode():\n",
        "        # 1. Forward pass\n",
        "        val_loss = 0.\n",
        "        count = 0\n",
        "        for x_batch, y_batch in dataloader_val:\n",
        "            count += 1\n",
        "            x_batch = x_batch.type(torch.float32)\n",
        "            y_batch = y_batch.type(torch.float32)\n",
        "            # Forward pass\n",
        "            outputs = model(x_batch)\n",
        "\n",
        "            loss = criterion(outputs, y_batch[:, :])\n",
        "            val_loss += loss.item()\n",
        "        \n",
        "        val_losses[epoch] = val_loss / count\n",
        "\n",
        "print(train_losses)\n",
        "plt.plot(train_losses)\n",
        "plt.plot(val_losses)"
      ]
    },
    {
      "cell_type": "markdown",
      "metadata": {},
      "source": [
        "Sequence to sequence"
      ]
    },
    {
      "cell_type": "code",
      "execution_count": 66,
      "metadata": {},
      "outputs": [],
      "source": [
        "import torch\n",
        "from torch import nn\n",
        "import pandas as pd"
      ]
    },
    {
      "cell_type": "code",
      "execution_count": 67,
      "metadata": {},
      "outputs": [
        {
          "name": "stdout",
          "output_type": "stream",
          "text": [
            "                  date   HUFL   HULL   MUFL   MULL   LUFL   LULL         OT\n",
            "0  2016-07-01 00:00:00  5.827  2.009  1.599  0.462  4.203  1.340  30.531000\n",
            "1  2016-07-01 01:00:00  5.693  2.076  1.492  0.426  4.142  1.371  27.787001\n",
            "2  2016-07-01 02:00:00  5.157  1.741  1.279  0.355  3.777  1.218  27.787001\n",
            "3  2016-07-01 03:00:00  5.090  1.942  1.279  0.391  3.807  1.279  25.044001\n",
            "4  2016-07-01 04:00:00  5.358  1.942  1.492  0.462  3.868  1.279  21.948000\n",
            "(17420, 8)\n",
            "Index(['date', 'HUFL', 'HULL', 'MUFL', 'MULL', 'LUFL', 'LULL', 'OT'], dtype='object')\n"
          ]
        },
        {
          "data": {
            "text/html": [
              "<div>\n",
              "<style scoped>\n",
              "    .dataframe tbody tr th:only-of-type {\n",
              "        vertical-align: middle;\n",
              "    }\n",
              "\n",
              "    .dataframe tbody tr th {\n",
              "        vertical-align: top;\n",
              "    }\n",
              "\n",
              "    .dataframe thead th {\n",
              "        text-align: right;\n",
              "    }\n",
              "</style>\n",
              "<table border=\"1\" class=\"dataframe\">\n",
              "  <thead>\n",
              "    <tr style=\"text-align: right;\">\n",
              "      <th></th>\n",
              "      <th>HUFL</th>\n",
              "      <th>HULL</th>\n",
              "      <th>MUFL</th>\n",
              "      <th>MULL</th>\n",
              "      <th>LUFL</th>\n",
              "      <th>LULL</th>\n",
              "      <th>OT</th>\n",
              "    </tr>\n",
              "  </thead>\n",
              "  <tbody>\n",
              "    <tr>\n",
              "      <th>0</th>\n",
              "      <td>5.827</td>\n",
              "      <td>2.009</td>\n",
              "      <td>1.599</td>\n",
              "      <td>0.462</td>\n",
              "      <td>4.203</td>\n",
              "      <td>1.340</td>\n",
              "      <td>30.531000</td>\n",
              "    </tr>\n",
              "    <tr>\n",
              "      <th>1</th>\n",
              "      <td>5.693</td>\n",
              "      <td>2.076</td>\n",
              "      <td>1.492</td>\n",
              "      <td>0.426</td>\n",
              "      <td>4.142</td>\n",
              "      <td>1.371</td>\n",
              "      <td>27.787001</td>\n",
              "    </tr>\n",
              "    <tr>\n",
              "      <th>2</th>\n",
              "      <td>5.157</td>\n",
              "      <td>1.741</td>\n",
              "      <td>1.279</td>\n",
              "      <td>0.355</td>\n",
              "      <td>3.777</td>\n",
              "      <td>1.218</td>\n",
              "      <td>27.787001</td>\n",
              "    </tr>\n",
              "    <tr>\n",
              "      <th>3</th>\n",
              "      <td>5.090</td>\n",
              "      <td>1.942</td>\n",
              "      <td>1.279</td>\n",
              "      <td>0.391</td>\n",
              "      <td>3.807</td>\n",
              "      <td>1.279</td>\n",
              "      <td>25.044001</td>\n",
              "    </tr>\n",
              "    <tr>\n",
              "      <th>4</th>\n",
              "      <td>5.358</td>\n",
              "      <td>1.942</td>\n",
              "      <td>1.492</td>\n",
              "      <td>0.462</td>\n",
              "      <td>3.868</td>\n",
              "      <td>1.279</td>\n",
              "      <td>21.948000</td>\n",
              "    </tr>\n",
              "  </tbody>\n",
              "</table>\n",
              "</div>"
            ],
            "text/plain": [
              "    HUFL   HULL   MUFL   MULL   LUFL   LULL         OT\n",
              "0  5.827  2.009  1.599  0.462  4.203  1.340  30.531000\n",
              "1  5.693  2.076  1.492  0.426  4.142  1.371  27.787001\n",
              "2  5.157  1.741  1.279  0.355  3.777  1.218  27.787001\n",
              "3  5.090  1.942  1.279  0.391  3.807  1.279  25.044001\n",
              "4  5.358  1.942  1.492  0.462  3.868  1.279  21.948000"
            ]
          },
          "execution_count": 67,
          "metadata": {},
          "output_type": "execute_result"
        }
      ],
      "source": [
        "df = pd.read_csv('../Data/ETTH1.csv')\n",
        "print(df.head())\n",
        "print(df.shape)\n",
        "print(df.columns)\n",
        "df = df.drop('date', axis=1)\n",
        "df.head()"
      ]
    },
    {
      "cell_type": "code",
      "execution_count": 68,
      "metadata": {},
      "outputs": [],
      "source": [
        "import torch\n",
        "from torch.utils.data import Dataset\n",
        "\n",
        "class TimeSeriesDataset(Dataset):\n",
        "    def __init__(self, data, input_window, output_window):\n",
        "        \"\"\"\n",
        "        Args:\n",
        "            data (torch.Tensor or np.array): time series data, shape (time_steps, features) or (time_steps,)\n",
        "            input_window (int): number of time steps for input\n",
        "            output_window (int): number of time steps to predict\n",
        "        \"\"\"\n",
        "        if isinstance(data, np.ndarray):\n",
        "            data = torch.tensor(data, dtype=torch.float32)\n",
        "\n",
        "        self.data = data\n",
        "        self.input_window = input_window\n",
        "        self.output_window = output_window\n",
        "        self.length = len(data) - input_window - output_window + 1\n",
        "\n",
        "    def __len__(self):\n",
        "        return self.length\n",
        "\n",
        "    def __getitem__(self, idx):\n",
        "        x = self.data[idx : idx + self.input_window]\n",
        "        y = self.data[idx + self.input_window : idx + self.input_window + self.output_window]\n",
        "        \n",
        "        \n",
        "        return x, y"
      ]
    },
    {
      "cell_type": "code",
      "execution_count": 69,
      "metadata": {},
      "outputs": [
        {
          "name": "stdout",
          "output_type": "stream",
          "text": [
            "Input batch shape: torch.Size([30, 7])\n",
            "Target batch shape: torch.Size([14, 7])\n"
          ]
        }
      ],
      "source": [
        "import numpy as np\n",
        "from torch.utils.data import DataLoader\n",
        "from sklearn.preprocessing import StandardScaler\n",
        "\n",
        "# Dummy time series data\n",
        "#time_series = np.sin(np.linspace(0, 100, 500))  # shape: (500,)\n",
        "data_size = df.shape[0]\n",
        "df_train = df[0:int(data_size*0.6)]\n",
        "df_val = df[int(data_size*0.6):int(data_size*0.8)]\n",
        "df_test = df[int(data_size*0.8):-1]\n",
        "time_series_train = df_train.to_numpy()\n",
        "time_series_val = df_val.to_numpy()\n",
        "time_series_test = df_test.to_numpy()\n",
        "\n",
        "scaler = StandardScaler()\n",
        "scaler.fit(time_series_train)\n",
        "time_series_train = scaler.transform(time_series_train.astype(float))\n",
        "time_series_val = scaler.transform(time_series_val.astype(float))\n",
        "time_series_test = scaler.transform(time_series_test.astype(float))\n",
        "#time_series_train = StandardScaler().fit(time_series_train).transform(time_series_train.astype(float))\n",
        "\n",
        "\n",
        "\n",
        "input_window = 30\n",
        "output_window = 14\n",
        "\n",
        "dataset_train = TimeSeriesDataset(time_series_train, input_window, output_window)\n",
        "dataloader_train = DataLoader(dataset_train, batch_size=32, shuffle=True)\n",
        "\n",
        "dataset_val = TimeSeriesDataset(time_series_val, input_window, output_window)\n",
        "dataloader_val = DataLoader(dataset_val, batch_size=32, shuffle=True)\n",
        "\n",
        "dataset_test = TimeSeriesDataset(time_series_test, input_window, output_window)\n",
        "dataloader_test = DataLoader(dataset_test, batch_size=32, shuffle=True)\n",
        "\n",
        "# Fetch one batch\n",
        "for x_batch, y_batch in dataset_train:\n",
        "    print(\"Input batch shape:\", x_batch.shape)   # (batch_size, input_window)\n",
        "    print(\"Target batch shape:\", y_batch.shape)  # (batch_size, output_window)\n",
        "    #print(y_batch)\n",
        "    break"
      ]
    },
    {
      "cell_type": "code",
      "execution_count": 70,
      "metadata": {},
      "outputs": [],
      "source": [
        "import torch\n",
        "import torch.nn as nn\n",
        "\n",
        "class Encoder(nn.Module):\n",
        "    def __init__(self, input_size, hidden_size):\n",
        "        super(Encoder, self).__init__()\n",
        "        self.rnn = nn.RNN(input_size=input_size, hidden_size=hidden_size, batch_first=True)\n",
        "\n",
        "    def forward(self, x):\n",
        "        # x: (batch_size, input_seq_len, input_size)\n",
        "        outputs, hidden = self.rnn(x)  # hidden: (1, batch, hidden_size)\n",
        "        return hidden\n",
        "\n",
        "\n",
        "class Decoder(nn.Module):\n",
        "    def __init__(self, output_size, hidden_size):\n",
        "        super(Decoder, self).__init__()\n",
        "        self.rnn = nn.RNN(input_size=output_size, hidden_size=hidden_size, batch_first=True)\n",
        "        self.fc = nn.Linear(hidden_size, output_size)\n",
        "\n",
        "    def forward(self, decoder_input, hidden):\n",
        "        # decoder_input: (batch_size, 1, output_size) ← one timestep\n",
        "        output, hidden = self.rnn(decoder_input, hidden)\n",
        "        output = self.fc(output)  # (batch_size, 1, output_size)\n",
        "        return output, hidden\n",
        "\n",
        "\n",
        "class Seq2Seq(nn.Module):\n",
        "    def __init__(self, encoder, decoder, output_seq_len):\n",
        "        super(Seq2Seq, self).__init__()\n",
        "        self.encoder = encoder\n",
        "        self.decoder = decoder\n",
        "        self.output_seq_len = output_seq_len\n",
        "\n",
        "    def forward(self, x):\n",
        "        batch_size = x.size(0)\n",
        "        output_size = self.decoder.fc.out_features\n",
        "        \n",
        "        hidden = self.encoder(x)\n",
        "\n",
        "        # Start with zeros or a special <START> token\n",
        "        decoder_input = torch.zeros(batch_size, 1, output_size, device=x.device)\n",
        "\n",
        "        outputs = []\n",
        "\n",
        "        for _ in range(self.output_seq_len):\n",
        "            output, hidden = self.decoder(decoder_input, hidden)\n",
        "            outputs.append(output)\n",
        "            decoder_input = output  # Teacher forcing could go here\n",
        "\n",
        "        return torch.cat(outputs, dim=1)  # (batch_size, output_seq_len, output_size)\n"
      ]
    },
    {
      "cell_type": "code",
      "execution_count": 71,
      "metadata": {},
      "outputs": [
        {
          "name": "stdout",
          "output_type": "stream",
          "text": [
            "torch.Size([32, 14, 1])\n"
          ]
        },
        {
          "name": "stderr",
          "output_type": "stream",
          "text": [
            "100%|██████████| 60/60 [02:28<00:00,  2.48s/it]"
          ]
        },
        {
          "name": "stdout",
          "output_type": "stream",
          "text": [
            "[0.99473302 0.57960937 0.13171518 0.10490925 0.10040531 0.09837547\n",
            " 0.09397922 0.09665856 0.09445286 0.09357206 0.09144508 0.09175172\n",
            " 0.09008398 0.09159854 0.08993047 0.08944539 0.08898093 0.0866703\n",
            " 0.08813374 0.0873038  0.08590973 0.08636359 0.08521663 0.08602121\n",
            " 0.08455748 0.0844161  0.08582967 0.08420819 0.08255606 0.08348946\n",
            " 0.08370279 0.0819292  0.08278701 0.08243506 0.08317287 0.08086164\n",
            " 0.08159255 0.08126939 0.08240897 0.08273056 0.08025368 0.07965626\n",
            " 0.08019174 0.08001632 0.0789809  0.07970391 0.08028018 0.07942442\n",
            " 0.07804115 0.07972819 0.07838688 0.07898329 0.07815361 0.0782724\n",
            " 0.07747282 0.07697505 0.07740982 0.0776004  0.07682435 0.07597687]\n"
          ]
        },
        {
          "name": "stderr",
          "output_type": "stream",
          "text": [
            "\n"
          ]
        },
        {
          "data": {
            "text/plain": [
              "[<matplotlib.lines.Line2D at 0x1a3326460>]"
            ]
          },
          "execution_count": 71,
          "metadata": {},
          "output_type": "execute_result"
        },
        {
          "data": {
            "image/png": "[encoded data removed]",
            "text/plain": [
              "<Figure size 640x480 with 1 Axes>"
            ]
          },
          "metadata": {},
          "output_type": "display_data"
        }
      ],
      "source": [
        "from tqdm import tqdm\n",
        "from matplotlib import pyplot as plt\n",
        "\n",
        "\n",
        "# Example\n",
        "batch_size = 32\n",
        "\n",
        "input_size = 7\n",
        "hidden_size = 20\n",
        "output_size = 1\n",
        "\n",
        "input_seq_len = 20\n",
        "output_seq_len = 14\n",
        "epochs = 60\n",
        "\n",
        "encoder = Encoder(input_size, hidden_size)\n",
        "decoder = Decoder(output_size, hidden_size)\n",
        "model = Seq2Seq(encoder, decoder, output_seq_len)\n",
        "\n",
        "x = torch.randn(32, input_seq_len, input_size)\n",
        "y = model(x)\n",
        "print(y.shape)  # Expected: (32, 7, 6)\n",
        "\n",
        "\n",
        "optimizer = torch.optim.SGD(model.parameters(), lr=0.001, momentum=0.9, weight_decay=1e-4)\n",
        "criterion = nn.MSELoss()\n",
        "train_losses = np.zeros(epochs)\n",
        "val_losses = np.zeros(epochs)\n",
        "\n",
        "for epoch in tqdm(range(epochs)):\n",
        "    model.train()\n",
        "    train_loss = 0.\n",
        "    count = 0\n",
        "    for x_batch, y_batch in dataloader_train:\n",
        "        count += 1\n",
        "        x_batch = x_batch.type(torch.float32)\n",
        "        y_batch = y_batch.type(torch.float32)\n",
        "        # Forward pass\n",
        "        outputs = model(x_batch)\n",
        "\n",
        "        loss = criterion(outputs, torch.unsqueeze(y_batch[:, :, -1], axis=2))\n",
        "        train_loss += loss.item()\n",
        "\n",
        "        # Backpropagation\n",
        "        optimizer.zero_grad()\n",
        "        loss.backward()\n",
        "        optimizer.step()\n",
        "    \n",
        "    train_losses[epoch] = train_loss / count\n",
        "\n",
        "    model.eval()\n",
        "    with torch.inference_mode():\n",
        "        # 1. Forward pass\n",
        "        val_loss = 0.\n",
        "        count = 0\n",
        "        for x_batch, y_batch in dataloader_val:\n",
        "            count += 1\n",
        "            x_batch = x_batch.type(torch.float32)\n",
        "            y_batch = y_batch.type(torch.float32)\n",
        "            # Forward pass\n",
        "            outputs = model(x_batch)\n",
        "\n",
        "            loss = criterion(outputs, torch.unsqueeze(y_batch[:, :, -1], axis=2))\n",
        "            val_loss += loss.item()\n",
        "        \n",
        "        val_losses[epoch] = val_loss / count\n",
        "\n",
        "print(train_losses)\n",
        "plt.plot(train_losses)\n",
        "plt.plot(val_losses)"
      ]
    },
    {
      "cell_type": "markdown",
      "metadata": {},
      "source": [
        "# Convolutional Neural Network for Time Series Classification"
      ]
    },
    {
      "cell_type": "code",
      "execution_count": 155,
      "metadata": {},
      "outputs": [],
      "source": [
        "import pandas as pd\n",
        "\n",
        "train_data =  pd.read_csv('../Data/ItalyPowerDemand_TRAIN.csv', header=None)\n",
        "#test_data =  pd.read_csv('../Data/ItalyPowerDemand_TEST.csv', header=None, sep=' ')"
      ]
    },
    {
      "cell_type": "code",
      "execution_count": 156,
      "metadata": {},
      "outputs": [
        {
          "data": {
            "text/plain": [
              "(67, 24)"
            ]
          },
          "execution_count": 156,
          "metadata": {},
          "output_type": "execute_result"
        }
      ],
      "source": [
        "y = train_data[0].to_numpy(np.float32)\n",
        "X = train_data.drop(0, axis=1).to_numpy(np.float32)\n",
        "X.shape\n"
      ]
    },
    {
      "cell_type": "code",
      "execution_count": 157,
      "metadata": {},
      "outputs": [],
      "source": [
        "scaler = StandardScaler()\n",
        "scaler.fit(X)\n",
        "X = scaler.transform(X.astype(float))"
      ]
    },
    {
      "cell_type": "code",
      "execution_count": 158,
      "metadata": {},
      "outputs": [],
      "source": [
        "X =  torch.from_numpy(X).unsqueeze(1)\n",
        "X = X.float()\n",
        "y =  torch.from_numpy(y).squeeze(0)\n",
        "y = y-1"
      ]
    },
    {
      "cell_type": "code",
      "execution_count": 169,
      "metadata": {},
      "outputs": [
        {
          "name": "stdout",
          "output_type": "stream",
          "text": [
            "Epoch 1, Loss: 0.6830\n",
            "Epoch 2, Loss: 0.6593\n",
            "Epoch 3, Loss: 0.6591\n",
            "Epoch 4, Loss: 0.6418\n",
            "Epoch 5, Loss: 0.6290\n",
            "Epoch 6, Loss: 0.5961\n",
            "tensor([0., 1., 1., 1., 1., 0., 0., 0., 0., 1., 0., 1., 0., 1.])\n",
            "Validation Accuracy: 92.86%\n"
          ]
        }
      ],
      "source": [
        "import torch\n",
        "import torch.nn as nn\n",
        "import torch.optim as optim\n",
        "from torch.utils.data import DataLoader, TensorDataset, random_split\n",
        "\n",
        "# Synthetic dataset: 1000 samples, 1 channel, 24 time steps\n",
        "#X = torch.rand(1000, 1, 24)  # shape: (batch_size, channels, sequence_length)\n",
        "#y = torch.randint(0, 2, (1000,))  # Binary classification: 2 classes\n",
        "\n",
        "\n",
        "# Create datasets and loaders\n",
        "dataset = TensorDataset(X, y)\n",
        "train_size = int(0.8 * len(dataset))\n",
        "val_size = len(dataset) - train_size\n",
        "train_dataset, val_dataset = random_split(dataset, [train_size, val_size])\n",
        "\n",
        "train_loader = DataLoader(train_dataset, batch_size=32, shuffle=True)\n",
        "val_loader = DataLoader(val_dataset, batch_size=32)\n",
        "\n",
        "# CNN model\n",
        "class TimeSeriesCNN(nn.Module):\n",
        "    def __init__(self):\n",
        "        super(TimeSeriesCNN, self).__init__()\n",
        "        self.conv1 = nn.Conv1d(in_channels=1, out_channels=32, kernel_size=3)\n",
        "        self.pool1 = nn.MaxPool1d(kernel_size=2)\n",
        "        self.conv2 = nn.Conv1d(32, 64, kernel_size=3)\n",
        "        self.pool2 = nn.MaxPool1d(kernel_size=2)\n",
        "\n",
        "        # Time dimension: 24 -> 22 -> 11 -> 9 -> 4\n",
        "        self.flatten_dim = 64 * 4\n",
        "\n",
        "        self.fc1 = nn.Linear(self.flatten_dim, 64)\n",
        "        self.dropout = nn.Dropout(0.5)\n",
        "        self.fc2 = nn.Linear(64, 1)  # 2 output classes\n",
        "\n",
        "    def forward(self, x):\n",
        "        x = self.pool1(torch.relu(self.conv1(x)))\n",
        "        x = self.pool2(torch.relu(self.conv2(x)))\n",
        "        x = x.view(-1, self.flatten_dim)\n",
        "        x = torch.relu(self.fc1(x))\n",
        "        x = self.dropout(x)\n",
        "        x = self.fc2(x)\n",
        "        return x\n",
        "\n",
        "# Instantiate model, loss, and optimizer\n",
        "model = TimeSeriesCNN()\n",
        "#criterion = nn.CrossEntropyLoss()\n",
        "criterion = nn.BCEWithLogitsLoss()\n",
        "optimizer = optim.Adam(model.parameters(), lr=0.001)\n",
        "\n",
        "# Training loop\n",
        "for epoch in range(6):\n",
        "    model.train()\n",
        "    for batch_X, batch_y in train_loader:\n",
        "        optimizer.zero_grad()\n",
        "        outputs = model(batch_X)\n",
        "        loss = criterion(outputs.squeeze(), batch_y)\n",
        "        loss.backward()\n",
        "        optimizer.step()\n",
        "    print(f\"Epoch {epoch+1}, Loss: {loss.item():.4f}\")\n",
        "\n",
        "# Evaluation\n",
        "model.eval()\n",
        "correct = total = 0\n",
        "with torch.no_grad():\n",
        "    for batch_X, batch_y in val_loader:\n",
        "        outputs = model(batch_X)\n",
        "        #_, predicted = torch.max(outputs, 1)\n",
        "        predicted = torch.round(torch.sigmoid(outputs.squeeze()))\n",
        "        total += batch_y.size(0)\n",
        "        print(predicted)\n",
        "        correct += (predicted == batch_y).sum().item()\n",
        "\n",
        "print(f\"Validation Accuracy: {100 * correct / total:.2f}%\")"
      ]
    }
  ],
  "metadata": {
    "colab": {
      "name": "Understanding RNNs.ipynb",
      "provenance": []
    },
    "kernelspec": {
      "display_name": "DataMining",
      "language": "python",
      "name": "python3"
    },
    "language_info": {
      "codemirror_mode": {
        "name": "ipython",
        "version": 3
      },
      "file_extension": ".py",
      "mimetype": "text/x-python",
      "name": "python",
      "nbconvert_exporter": "python",
      "pygments_lexer": "ipython3",
      "version": "3.8.20"
    }
  },
  "nbformat": 4,
  "nbformat_minor": 0
}
